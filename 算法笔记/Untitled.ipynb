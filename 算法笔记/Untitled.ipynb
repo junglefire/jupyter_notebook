{
 "cells": [
  {
   "cell_type": "markdown",
   "metadata": {},
   "source": [
    "# 01. 各种排序算法\n",
    "\n",
    "## 1.1 冒泡排序\n",
    "冒泡排序多次遍历列表。它比较相邻的元素，将不合顺序的交换。每一轮遍历都将下一个最大值放到正确的位置上。本质上，每个元素通过“冒泡”找到自己所属的位置。\n",
    "\n",
    "算法的时间复杂度是$O(n^2)$。"
   ]
  },
  {
   "cell_type": "code",
   "execution_count": 18,
   "metadata": {},
   "outputs": [
    {
     "data": {
      "text/plain": [
       "[0, 1, 2, 3, 4, 5, 6, 7, 8, 9]"
      ]
     },
     "execution_count": 18,
     "metadata": {},
     "output_type": "execute_result"
    }
   ],
   "source": [
    "alist = [3,9,8,6,4,7,1,5,0,2]\n",
    "\n",
    "def bubbleSort(alist):\n",
    "    for i in range (len(alist)-1, 0, -1):\n",
    "        for j in range(0, i):\n",
    "            # print(j)\n",
    "            if alist[j] > alist[j+1]:\n",
    "                a = alist[j]\n",
    "                alist[j] = alist[j+1]\n",
    "                alist[j+1] = a\n",
    "    return alist\n",
    "\n",
    "bubbleSort(alist)"
   ]
  },
  {
   "cell_type": "markdown",
   "metadata": {},
   "source": [
    "冒泡排序通常被认为是效率最低的排序算法，因为在确定最终的位置前必须交换元素。“多余”的交换操作代价很大。不过，由于冒泡排序要遍历列表中未排序的部分，因此它具有其他排序算法没有的用途。特别是，如果在一轮遍历中没有发生元素交换，就可以确定列表已经有序。可以修改冒泡排序函数，使其在遇到这种情况时提前终止。对于只需要遍历几次的列表，冒泡排序可能有优势，因为它能判断出有序列表并终止排序过程。下面代码实现了如上所述的修改，这种排序通常被称作**短冒泡**。"
   ]
  },
  {
   "cell_type": "code",
   "execution_count": 19,
   "metadata": {},
   "outputs": [
    {
     "data": {
      "text/plain": [
       "[0, 1, 2, 3, 4, 5, 6, 7, 8, 9]"
      ]
     },
     "execution_count": 19,
     "metadata": {},
     "output_type": "execute_result"
    }
   ],
   "source": [
    "alist = [3,9,8,6,4,7,1,5,0,2]\n",
    "\n",
    "def bubbleSort(alist):\n",
    "    for i in range (len(alist)-1, 0, -1):\n",
    "        ex = False\n",
    "        for j in range(0, i):\n",
    "            # print(j)\n",
    "            if alist[j] > alist[j+1]:\n",
    "                a = alist[j]\n",
    "                alist[j] = alist[j+1]\n",
    "                alist[j+1] = a\n",
    "                ex = True\n",
    "        if ex==False:\n",
    "            break\n",
    "    return alist\n",
    "\n",
    "bubbleSort(alist)"
   ]
  },
  {
   "cell_type": "markdown",
   "metadata": {},
   "source": [
    "## 1.2 选择排序\n",
    "选择排序在冒泡排序的基础上做了改进，每次遍历列表时只做一次交换。要实现这一点，选择排序在每次遍历时寻找最大值，并在遍历完之后将它放到正确位置上。和冒泡排序一样，第一次遍历后，最大的元素就位；第二次遍历后，第二大的元素就位，依此类推。若给n个元素排序，需要遍历n-1轮，这是因为最后一个元素要到n-1轮遍历后才就位。\n",
    "\n",
    "算法的时间复杂度是$O(n^2)$。"
   ]
  },
  {
   "cell_type": "code",
   "execution_count": 29,
   "metadata": {},
   "outputs": [
    {
     "data": {
      "text/plain": [
       "[0, 1, 2, 3, 4, 5, 6, 7, 8, 9]"
      ]
     },
     "execution_count": 29,
     "metadata": {},
     "output_type": "execute_result"
    }
   ],
   "source": [
    "alist = [3,9,8,6,4,7,1,5,0,2]\n",
    "\n",
    "def selectionSort(alist):\n",
    "    for i in range(len(alist)-1, 0, -1):\n",
    "        max_pos = 0\n",
    "        for j in range(0, i+1):\n",
    "            if alist[max_pos] < alist[j]:\n",
    "                max_pos = j\n",
    "        # print('max pos: ', max_pos, ', i: ', i)\n",
    "        t = alist[i]\n",
    "        alist[i] = alist[max_pos]\n",
    "        alist[max_pos]=t\n",
    "    return alist\n",
    "\n",
    "selectionSort(alist)"
   ]
  },
  {
   "cell_type": "markdown",
   "metadata": {},
   "source": [
    "## 1.3 插入排序\n",
    "插入排序的时间复杂度也是$O(n^2)$，但原理稍有不同。它在列表较低的一端维护一个有序的子列表，并逐个将每个新元素“插入”这个子列表。"
   ]
  },
  {
   "cell_type": "code",
   "execution_count": 31,
   "metadata": {},
   "outputs": [
    {
     "data": {
      "text/plain": [
       "[0, 1, 2, 3, 4, 5, 6, 7, 8, 9]"
      ]
     },
     "execution_count": 31,
     "metadata": {},
     "output_type": "execute_result"
    }
   ],
   "source": [
    "alist = [3,9,8,6,4,7,1,5,0,2]\n",
    "\n",
    "def insertionSort(alist):\n",
    "    for index in range(1, len(alist)):\n",
    "        currentvalue = alist[index]\n",
    "        position = index\n",
    "        \n",
    "        while position > 0 and alist[position-1] > currentvalue:\n",
    "            alist[position] = alist[position-1]\n",
    "            position = position-1\n",
    "        alist[position] = currentvalue\n",
    "    return alist\n",
    "\n",
    "insertionSort(alist)"
   ]
  },
  {
   "cell_type": "markdown",
   "metadata": {},
   "source": [
    "## 1.4 希尔排序\n",
    "希尔排序也称“递减增量排序”，它对插入排序做了改进，将列表分成数个子列表，并对每一个子列表应用插入排序。如何切分列表是希尔排序的关键——并不是连续切分，而是使用增量i（有时称作步长）选取所有间隔为i的元素组成子列表。\n",
    "\n",
    "乍看之下，你可能会觉得希尔排序不可能比插入排序好，因为最后一步要做一次完整的插入排序。但实际上，列表已经由增量的插入排序做了预处理，所以最后一步插入排序不需要进行多次比较或移动。也就是说，每一轮遍历都生成了“更有序”的列表，这使得最后一步非常高效。\n",
    "\n",
    "尽管对希尔排序的总体分析已经超出了本书的讨论范围，但是不妨了解一下它的时间复杂度。基于上述行为，希尔排序的时间复杂度大概介于$O(n)$和$O(n^2)$之间。通过改变增量i，比如采用$2^k-1 \\ (1, 3, 7, 15, 31, …)$，希尔排序的时间复杂度可以达到$O(n^{\\frac{3}{2}})$。"
   ]
  },
  {
   "cell_type": "code",
   "execution_count": 39,
   "metadata": {},
   "outputs": [
    {
     "name": "stdout",
     "output_type": "stream",
     "text": [
      "[3, 9, 8, 6, 4, 7, 1, 5, 0, 2] 0 5\n",
      "7 5\n",
      "[3, 9, 8, 6, 4, 7, 1, 5, 0, 2] 1 5\n",
      "1 6\n",
      "[3, 1, 8, 6, 4, 7, 9, 5, 0, 2] 2 5\n",
      "5 7\n",
      "[3, 1, 5, 6, 4, 7, 9, 8, 0, 2] 3 5\n",
      "0 8\n",
      "[3, 1, 5, 0, 4, 7, 9, 8, 6, 2] 4 5\n",
      "2 9\n",
      "[3, 1, 5, 0, 2, 7, 9, 8, 6, 4] 0 2\n",
      "5 2\n",
      "2 4\n",
      "9 6\n",
      "6 8\n",
      "[2, 1, 3, 0, 5, 7, 6, 8, 9, 4] 1 2\n",
      "0 3\n",
      "7 5\n",
      "8 7\n",
      "4 9\n",
      "[2, 0, 3, 1, 5, 4, 6, 7, 9, 8] 0 1\n",
      "0 1\n",
      "3 2\n",
      "1 3\n",
      "5 4\n",
      "4 5\n",
      "6 6\n",
      "7 7\n",
      "9 8\n",
      "8 9\n"
     ]
    },
    {
     "data": {
      "text/plain": [
       "[0, 1, 2, 3, 4, 5, 6, 7, 8, 9]"
      ]
     },
     "execution_count": 39,
     "metadata": {},
     "output_type": "execute_result"
    }
   ],
   "source": [
    "alist = [3,9,8,6,4,7,1,5,0,2]\n",
    "\n",
    "def shellSort(alist):\n",
    "    sublistcount = len(alist) // 2\n",
    "    while sublistcount > 0:\n",
    "        for startposition in range(sublistcount):\n",
    "            gapInsertionSort(alist, startposition, sublistcount)\n",
    "        sublistcount = sublistcount // 2\n",
    "    return alist\n",
    "\n",
    "def gapInsertionSort(alist, start, gap):\n",
    "    print(alist, start, gap)\n",
    "    for i in range(start+gap, len(alist), gap):\n",
    "        print(alist[i], i)\n",
    "        currentvalue = alist[i]\n",
    "        position = i\n",
    "        while position >= gap and alist[position-gap] > currentvalue:\n",
    "            alist[position] = alist[position-gap]\n",
    "            position = position-gap\n",
    "        alist[position] = currentvalue\n",
    "\n",
    "shellSort(alist)"
   ]
  },
  {
   "cell_type": "code",
   "execution_count": null,
   "metadata": {},
   "outputs": [],
   "source": []
  }
 ],
 "metadata": {
  "kernelspec": {
   "display_name": "Python 3",
   "language": "python",
   "name": "python3"
  },
  "language_info": {
   "codemirror_mode": {
    "name": "ipython",
    "version": 3
   },
   "file_extension": ".py",
   "mimetype": "text/x-python",
   "name": "python",
   "nbconvert_exporter": "python",
   "pygments_lexer": "ipython3",
   "version": "3.6.8"
  }
 },
 "nbformat": 4,
 "nbformat_minor": 4
}
