{
 "cells": [
  {
   "cell_type": "code",
   "execution_count": 1,
   "metadata": {},
   "outputs": [],
   "source": [
    "import sklearn.model_selection\n",
    "import sklearn.preprocessing\n",
    "import sklearn.linear_model\n",
    "import sklearn.multiclass\n",
    "import sklearn.neighbors\n",
    "import sklearn.ensemble\n",
    "import sklearn.datasets\n",
    "import sklearn.base\n",
    "import matplotlib.pyplot as plt\n",
    "import numpy as np\n",
    "import matplotlib\n",
    "\n",
    "# 因为版本问题，会有很多Warning，先关闭\n",
    "import warnings\n",
    "warnings.filterwarnings(\"ignore\")\n",
    "\n",
    "np.random.seed(42)"
   ]
  },
  {
   "cell_type": "markdown",
   "metadata": {},
   "source": [
    "# 03. 分类\n",
    "在第一章我们提到过最常用的监督学习任务是回归(用于预测某个值)和分类(预测某个类别)。在第二章我们探索了一个回归任务：预测房价。我们使用了多种算法，诸如线性回归，决策树，和随机森林(这个将会在后面的章节更详细地讨论)。现在我们将我们的注意力转到分类任务上。\n",
    "\n",
    "## 3.1 MNIST\n",
    "在本章当中，我们将会使用`MNIST`这个数据集，它有着`70000`张规格较小的手写数字图片，由美国的高中生和美国人口调查局的职员手写而成。这相当于机器学习当中的`Hello World`，人们无论什么时候提出一个新的分类算法，都想知道该算法在这个数据集上的表现如何。机器学习的初学者迟早也会处理MNIST这个数据集。\n",
    "\n",
    "`Scikit-Learn`提供了许多辅助函数，以便于下载流行的数据集。MNIST是其中一个。下面的代码获取MNIST："
   ]
  },
  {
   "cell_type": "code",
   "execution_count": 2,
   "metadata": {},
   "outputs": [
    {
     "data": {
      "text/plain": [
       "{'DESCR': 'mldata.org dataset: mnist-original',\n",
       " 'COL_NAMES': ['label', 'data'],\n",
       " 'target': array([0., 0., 0., ..., 9., 9., 9.]),\n",
       " 'data': array([[0, 0, 0, ..., 0, 0, 0],\n",
       "        [0, 0, 0, ..., 0, 0, 0],\n",
       "        [0, 0, 0, ..., 0, 0, 0],\n",
       "        ...,\n",
       "        [0, 0, 0, ..., 0, 0, 0],\n",
       "        [0, 0, 0, ..., 0, 0, 0],\n",
       "        [0, 0, 0, ..., 0, 0, 0]], dtype=uint8)}"
      ]
     },
     "execution_count": 2,
     "metadata": {},
     "output_type": "execute_result"
    }
   ],
   "source": [
    "mnist = sklearn.datasets.fetch_mldata('MNIST original')\n",
    "mnist"
   ]
  },
  {
   "cell_type": "markdown",
   "metadata": {},
   "source": [
    "> `Scikit-Learn`的0.20版本废弃了这个函数，下载失败，现在只能通过`wget https://github.com/amplab/datascience-sp14/raw/master/lab7/mldata/mnist-original.mat`下载文件，然后拷贝到`$HOME/scikit_learn_data/mldata`目录。\n",
    "\n",
    "一般而言，由`sklearn`加载的数据集有着相似的字典结构，这包括：\n",
    "+ **DESCR**：键描述数据集\n",
    "+ **data**：键存放一个数组，数组的一行表示一个样例，一列表示一个特征\n",
    "+ **target**：键存放一个标签数组\n",
    "\n",
    "让我们看一下这些数组："
   ]
  },
  {
   "cell_type": "code",
   "execution_count": 3,
   "metadata": {},
   "outputs": [
    {
     "data": {
      "text/plain": [
       "((70000, 784), (70000,))"
      ]
     },
     "execution_count": 3,
     "metadata": {},
     "output_type": "execute_result"
    }
   ],
   "source": [
    "X, y = mnist[\"data\"], mnist[\"target\"]\n",
    "X.shape, y.shape"
   ]
  },
  {
   "cell_type": "markdown",
   "metadata": {},
   "source": [
    "MNIST有70000张图片，每张图片有784个特征。这是因为每个图片都是`28*28`像素的，并且每个像素的值介于`0~255`之间。让我们看一看数据集的某一个数字。你只需要将某个实例的特征向量，`reshape`为`28*28`的数组，然后使用Matplotlib的`imshow`函数展示出来。"
   ]
  },
  {
   "cell_type": "code",
   "execution_count": 4,
   "metadata": {},
   "outputs": [
    {
     "name": "stdout",
     "output_type": "stream",
     "text": [
      "Label =  5.0\n"
     ]
    },
    {
     "data": {
      "image/png": "[encoded data removed]",
      "text/plain": [
       "<Figure size 72x72 with 1 Axes>"
      ]
     },
     "metadata": {
      "needs_background": "light"
     },
     "output_type": "display_data"
    }
   ],
   "source": [
    "some_digit = X[36000] \n",
    "some_digit_image = some_digit.reshape(28, 28)\n",
    "print(\"Label = \", y[36000])\n",
    "\n",
    "plt.imshow(some_digit_image, cmap = matplotlib.cm.binary, interpolation=\"nearest\") \n",
    "plt.gcf().set_size_inches(1, 1)\n",
    "plt.axis(\"off\")\n",
    "plt.show()"
   ]
  },
  {
   "cell_type": "markdown",
   "metadata": {},
   "source": [
    "`图3-1`展示了一些来自MNIST数据集的图片。当你处理更加复杂的分类任务的时候，它会让你更有感觉。\n",
    "\n",
    "<img src=\"images/03_01.png\" style=\"width:400px;\"/>\n",
    "\n",
    "先等一下！你总是应该先创建测试集，并且在验证数据之前先把测试集晾到一边。MNIST数据集已经事先被分成了一个训练集(前60000张图片)和一个测试集(最后10000张图片)。"
   ]
  },
  {
   "cell_type": "code",
   "execution_count": 5,
   "metadata": {},
   "outputs": [],
   "source": [
    "X_train, X_test, y_train, y_test = X[:60000], X[60000:], y[:60000], y[60000:]"
   ]
  },
  {
   "cell_type": "markdown",
   "metadata": {},
   "source": [
    "让我们打乱训练集。这可以保证交叉验证的每一折都是相似(你不会期待某一折缺少某类数字)。而且，一些学习算法对训练样例的顺序敏感，当它们在一行当中得到许多相似的样例，这些算法将会表现得非常差。打乱数据集将保证这种情况不会发生。"
   ]
  },
  {
   "cell_type": "code",
   "execution_count": 6,
   "metadata": {},
   "outputs": [
    {
     "data": {
      "text/plain": [
       "array([1., 6., 6., ..., 0., 2., 9.])"
      ]
     },
     "execution_count": 6,
     "metadata": {},
     "output_type": "execute_result"
    }
   ],
   "source": [
    "shuffle_index = np.random.permutation(60000) \n",
    "X_train, y_train = X_train[shuffle_index], y_train[shuffle_index]\n",
    "y_train"
   ]
  },
  {
   "cell_type": "markdown",
   "metadata": {},
   "source": [
    "## 3.2 训练一个二分类器\n",
    "现在我们简化一下问题，只尝试去识别一个数字，比如说，数字5。这个`数字5检测器`就是一个二分类器，能够识别两类别，`是5`和`非5`。让我们为这个分类任务创建目标向量："
   ]
  },
  {
   "cell_type": "code",
   "execution_count": 7,
   "metadata": {},
   "outputs": [
    {
     "data": {
      "text/plain": [
       "(array([False, False, False, ..., False, False, False]),\n",
       " array([False, False, False, ..., False, False, False]))"
      ]
     },
     "execution_count": 7,
     "metadata": {},
     "output_type": "execute_result"
    }
   ],
   "source": [
    "y_train_5 = (y_train == 5) \n",
    "y_test_5 = (y_test == 5)\n",
    "y_train_5, y_test_5"
   ]
  },
  {
   "cell_type": "markdown",
   "metadata": {},
   "source": [
    "现在让我们挑选一个分类器去训练它。用随机梯度下降分类器SGD，是一个不错的开始。使用`Scikit-Learn`的`SGDClassifier`类。这个分类器有一个好处是能够高效地处理非常大的数据集。这部分原因在于SGD一次只处理一条数据，这也使得SGD适合在线学习(online learning)。我们在稍后会看到它。让我们创建一个`SGDClassifier`和在整个数据集上训练它。"
   ]
  },
  {
   "cell_type": "code",
   "execution_count": 8,
   "metadata": {},
   "outputs": [
    {
     "data": {
      "text/plain": [
       "SGDClassifier(alpha=0.0001, average=False, class_weight=None,\n",
       "       early_stopping=False, epsilon=0.1, eta0=0.0, fit_intercept=True,\n",
       "       l1_ratio=0.15, learning_rate='optimal', loss='hinge', max_iter=5,\n",
       "       n_iter=None, n_iter_no_change=5, n_jobs=None, penalty='l2',\n",
       "       power_t=0.5, random_state=42, shuffle=True, tol=None,\n",
       "       validation_fraction=0.1, verbose=0, warm_start=False)"
      ]
     },
     "execution_count": 8,
     "metadata": {},
     "output_type": "execute_result"
    }
   ],
   "source": [
    "# SGDClassifier relies on randomness during training (hence the name “stochastic”)\n",
    "# If you want reproducible results, you should set the random_state parameter\n",
    "sgd_clf = sklearn.linear_model.SGDClassifier(random_state=42, max_iter=5)\n",
    "sgd_clf.fit(X_train, y_train_5)"
   ]
  },
  {
   "cell_type": "markdown",
   "metadata": {},
   "source": [
    "> `SGDClassifier`依赖于训练集的随机程度(所以被命名为`stochastic`，随机之义)。如果你想重现结果，你应该固定参数`random_state`\n",
    "\n",
    "现在你可以用它来查出数字5的图片。"
   ]
  },
  {
   "cell_type": "code",
   "execution_count": 9,
   "metadata": {},
   "outputs": [
    {
     "data": {
      "text/plain": [
       "array([ True])"
      ]
     },
     "execution_count": 9,
     "metadata": {},
     "output_type": "execute_result"
    }
   ],
   "source": [
    "sgd_clf.predict([some_digit])"
   ]
  },
  {
   "cell_type": "markdown",
   "metadata": {},
   "source": [
    "分类器猜测这个数字代表5(True)。看起来在这个例子当中，它猜对了。现在让我们评估这个模型的性能。\n",
    "\n",
    "## 3.3 对性能的评估\n",
    "评估一个分类器，通常比评估一个回归器更加棘手。所以我们将会花大量的篇幅在这个话题上。有许多量度性能的方法，所以拿来一杯咖啡和准备学习许多新概念和首字母缩略词吧。\n",
    "\n",
    "### 3.3.1 使用交叉验证测量准确性\n",
    "评估一个模型的好方法是使用交叉验证，就像第二章所做的那样。\n",
    "\n",
    "##### 实现交叉验证\n",
    "在交叉验证过程，相较于函数`cross_val_score()`或者其他相似函数所提供的功能，有时候你会需要更多的控制权。这种情况下，你可以实现你自己版本的交叉验证。事实上它相当简单。以下代码粗略地做了和`cross_val_score()`相同的事情，并且输出相同的结果。"
   ]
  },
  {
   "cell_type": "code",
   "execution_count": 10,
   "metadata": {},
   "outputs": [
    {
     "name": "stdout",
     "output_type": "stream",
     "text": [
      "0.9502\n",
      "0.96565\n",
      "0.96495\n"
     ]
    }
   ],
   "source": [
    "skfolds = sklearn.model_selection.StratifiedKFold(n_splits=3, random_state=42)\n",
    "for train_index, test_index in skfolds.split(X_train, y_train_5):\n",
    "    clone_clf = sklearn.base.clone(sgd_clf)\n",
    "    X_train_folds = X_train[train_index]\n",
    "    y_train_folds = (y_train_5[train_index])\n",
    "    X_test_fold = X_train[test_index]\n",
    "    y_test_fold = (y_train_5[test_index])\n",
    "    clone_clf.fit(X_train_folds, y_train_folds)\n",
    "    y_pred = clone_clf.predict(X_test_fold)\n",
    "    n_correct = sum(y_pred == y_test_fold)\n",
    "    print(n_correct / len(y_pred))"
   ]
  },
  {
   "cell_type": "markdown",
   "metadata": {},
   "source": [
    "> `StratifiedKFold类实现了分层采样`(详见第二章的解释)，生成的`折`(fold)包含了各类相应比例的样例。在每一次迭代，上述代码生成分类器的一个克隆版本，在`训练折`(training folds)的克隆版本上进行训练，在`测试折`(test folds)上进行预测。然后它计算出被正确预测的数目和输出正确预测的比例。\n",
    "\n",
    "让我们使用`cross_val_score()`函数来评估`SGDClassifier`模型，同时使用`K折交叉验证`，此处让`k=3`。记住：`K折交叉验证`意味着把训练集分成`K折`(此处3折)，然后使用一个模型对其中一折进行预测，对其他折进行训练。"
   ]
  },
  {
   "cell_type": "code",
   "execution_count": 11,
   "metadata": {},
   "outputs": [
    {
     "data": {
      "text/plain": [
       "array([0.9502 , 0.96565, 0.96495])"
      ]
     },
     "execution_count": 11,
     "metadata": {},
     "output_type": "execute_result"
    }
   ],
   "source": [
    "sklearn.model_selection.cross_val_score(sgd_clf, X_train, y_train_5, cv=3, scoring=\"accuracy\")"
   ]
  },
  {
   "cell_type": "markdown",
   "metadata": {},
   "source": [
    "哇！在交叉验证上有大于`95%`的精度(accuracy)？这看起来很令人吃惊。先别高兴，让我们来看一个非常笨的分类器去分类，看看其在`非5`这个类上的表现。"
   ]
  },
  {
   "cell_type": "code",
   "execution_count": 12,
   "metadata": {},
   "outputs": [
    {
     "data": {
      "text/plain": [
       "array([0.909  , 0.90715, 0.9128 ])"
      ]
     },
     "execution_count": 12,
     "metadata": {},
     "output_type": "execute_result"
    }
   ],
   "source": [
    "class Never5Classifier(sklearn.base.BaseEstimator):\n",
    "    def fit(self, X, y=None):\n",
    "        pass \n",
    "    \n",
    "    def predict(self, X):\n",
    "        return np.zeros((len(X), 1), dtype=bool)\n",
    "\n",
    "never_5_clf = Never5Classifier()\n",
    "sklearn.model_selection.cross_val_score(never_5_clf, X_train, y_train_5, cv=3, scoring=\"accuracy\")"
   ]
  },
  {
   "cell_type": "markdown",
   "metadata": {},
   "source": [
    "没错，这个笨的分类器也有`90%`的精度。这是因为只有`10%`的图片是数字5，所以你总是猜测某张图片不是5，你也会有`90%`的可能性是对的。\n",
    "\n",
    "这证明了为什么精度通常来说不是一个好的性能度量指标，特别是当你处理有偏差的数据集，比方说其中一些类比其他类频繁得多。\n",
    "\n",
    "### 3.3.2 混淆矩阵\n",
    "对分类器来说，一个好得多的性能评估指标是`混淆矩阵`。大体思路是：输出类别A被分类成类别B的次数。举个例子，为了知道分类器将5误分为3的次数，你需要查看混淆矩阵的第5行第3列。\n",
    "\n",
    "为了计算混淆矩阵，首先你需要有一系列的预测值，这样才能将预测值与真实值做比较。你或许想在测试集上做预测。但是我们现在先不碰它。(记住，只有当你处于项目的尾声，当你准备上线一个分类器的时候，你才应该使用测试集)。此外，你应该使用`cross_val_predict()`函数。"
   ]
  },
  {
   "cell_type": "code",
   "execution_count": 13,
   "metadata": {},
   "outputs": [
    {
     "data": {
      "text/plain": [
       "(60000,)"
      ]
     },
     "execution_count": 13,
     "metadata": {},
     "output_type": "execute_result"
    }
   ],
   "source": [
    "y_train_pred = sklearn.model_selection.cross_val_predict(sgd_clf, X_train, y_train_5, cv=3)\n",
    "y_train_pred.shape"
   ]
  },
  {
   "cell_type": "markdown",
   "metadata": {},
   "source": [
    "就像`cross_val_score()`，`cross_val_predict()`也使用`K折交叉验证`。它不是返回一个评估分数，而是返回基于每一个测试折做出的一个预测值。这意味着，对于每一个训练集的样例，你得到一个干净的预测(`干净`是说一个模型在训练过程当中没有用到测试集的数据)。\n",
    "\n",
    "现在使用`confusion_matrix()`函数，传递目标类(y_train_5)和预测类(y_train_pred)给它，你将会得到一个混淆矩阵。"
   ]
  },
  {
   "cell_type": "code",
   "execution_count": 14,
   "metadata": {},
   "outputs": [
    {
     "data": {
      "text/plain": [
       "array([[53272,  1307],\n",
       "       [ 1077,  4344]])"
      ]
     },
     "execution_count": 14,
     "metadata": {},
     "output_type": "execute_result"
    }
   ],
   "source": [
    "sklearn.metrics.confusion_matrix(y_train_5, y_train_pred)"
   ]
  },
  {
   "cell_type": "markdown",
   "metadata": {},
   "source": [
    "混淆矩阵中的每一行表示一个实际的类, 而每一列表示一个预测的类。该矩阵的第一行认为`非5`(反例)中的53272张被正确归类为`非5`(他们被称为`真反例`，true negatives), 而其余1307被错误归类为`是5` (`假正例`，false positives)。第二行认为`是5` (正例)中的1077被错误地归类为`非5`(`假反例`，false negatives)，其余4344正确分类为`是5`类(`真正例`，true positives)。一个完美的分类器将只有`真反例`和`真正例`，所以混淆矩阵的非零值仅在其主对角线(左上至右下)。"
   ]
  },
  {
   "cell_type": "code",
   "execution_count": 15,
   "metadata": {},
   "outputs": [
    {
     "data": {
      "text/plain": [
       "array([[54579,     0],\n",
       "       [    0,  5421]])"
      ]
     },
     "execution_count": 15,
     "metadata": {},
     "output_type": "execute_result"
    }
   ],
   "source": [
    "y_train_perfect_predictions = y_train_5\n",
    "sklearn.metrics.confusion_matrix(y_train_5, y_train_perfect_predictions)"
   ]
  },
  {
   "cell_type": "markdown",
   "metadata": {},
   "source": [
    "混淆矩阵可以提供很多信息。有时候你会想要更加简明的指标。一个有趣的指标是正例预测的精度，也叫做分类器的`准确率`(precision)。\n",
    "**公式3-1 准确率**\n",
    "+ $precision = \\frac{TP}{TP+FP}$\n",
    "\n",
    "其中`TP`是真正例的数目，`FP`是假正例的数目。\n",
    "\n",
    "想要一个完美的准确率，一个简单的方法是构造一个单一正例的预测和确保这个预测是正确的(`precision = 1/1 = 100%`)。但是这没有什么用，因为分类器会忽略所有样例，除了那一个正例。所以准确率一般会伴随另一个指标一起使用，这个指标叫做`召回率`(recall)，也叫做`敏感度`(sensitivity)或者`真正例率`(true positive rate，TPR)。这是正例被分类器正确探测出的比率。\n",
    "**公式3-2 Recall**\n",
    "+ $recall = \\frac{TP}{TP+FN}$\n",
    "\n",
    "`FN`是假反例的数目。\n",
    "\n",
    "如果你对于混淆矩阵感到困惑，`图3-2`将对你有帮助：\n",
    "<img src=\"images/03_02.png\" style=\"width:500px;\"/>\n",
    "\n",
    "### 3.3.3 准确率与召回率\n",
    "`Scikit-Learn`提供了一些函数去计算分类器的指标，包括准确率和召回率。"
   ]
  },
  {
   "cell_type": "code",
   "execution_count": 16,
   "metadata": {},
   "outputs": [
    {
     "data": {
      "text/plain": [
       "0.7687135020350381"
      ]
     },
     "execution_count": 16,
     "metadata": {},
     "output_type": "execute_result"
    }
   ],
   "source": [
    "sklearn.metrics.precision_score(y_train_5, y_train_pred)"
   ]
  },
  {
   "cell_type": "code",
   "execution_count": 17,
   "metadata": {},
   "outputs": [
    {
     "data": {
      "text/plain": [
       "0.801328168234643"
      ]
     },
     "execution_count": 17,
     "metadata": {},
     "output_type": "execute_result"
    }
   ],
   "source": [
    "sklearn.metrics.recall_score(y_train_5, y_train_pred)"
   ]
  },
  {
   "cell_type": "markdown",
   "metadata": {},
   "source": [
    "当你去观察精度的时候，你的`数字5探测器`看起来还不够好。当它声明某张图片是5的时候，它只有`77%`的可能性是正确的。而且，它也只检测出`是5`类图片当中的`79%`。\n",
    "\n",
    "通常结合准确率和召回率会更加方便，这个指标叫做`F1值`，特别是当你需要一个简单的方法去比较两个分类器的优劣的时候。F1值是准确率和召回率的调和平均。普通的平均值平等地看待所有的值，而调和平均会给小的值更大的权重。所以，要想分类器得到一个高的F1值，需要召回率和准确率同时高。\n",
    "\n",
    "**公式3-3 F1值**\n",
    "+ $F_1 = \\frac{2}{\\frac{1}{precision} + \\frac{1}{recall}} = \\frac{TP}{TP+\\frac{FN+FP}{2}}$\n",
    "\n",
    "为了计算F1值，简单调用`f1_score()`："
   ]
  },
  {
   "cell_type": "code",
   "execution_count": 18,
   "metadata": {},
   "outputs": [
    {
     "data": {
      "text/plain": [
       "0.7846820809248555"
      ]
     },
     "execution_count": 18,
     "metadata": {},
     "output_type": "execute_result"
    }
   ],
   "source": [
    "sklearn.metrics.f1_score(y_train_5, y_train_pred)"
   ]
  },
  {
   "cell_type": "markdown",
   "metadata": {},
   "source": [
    "F1支持那些有着相近准确率和召回率的分类器。这不会总是你想要的。有的场景你会绝大程度地关心准确率，而另外一些场景你会更关心召回率。举例子，如果你训练一个分类器去检测视频是否适合儿童观看，你会倾向选择那种即便拒绝了很多好视频、但保证所保留的视频都是好(高准确率)的分类器，而不是那种高召回率、但让坏视频混入的分类器(这种情况下你或许想增加人工去检测分类器选择出来的视频)。另一方面，加入你训练一个分类器去检测监控图像当中的窃贼，有着`30%`准确率、`99%`召回率的分类器或许是合适的(当然，警卫会得到一些错误的报警，但是几乎所有的窃贼都会被抓到)。\n",
    "\n",
    "不幸的是，你不能同时拥有两者。增加准确率会降低召回率，反之亦然。这叫做准确率与召回率之间的折衷。\n",
    "\n",
    "### 3.3.4 准确率/召回率之间的折衷\n",
    "为了弄懂这个折衷，我们看一下SGDClassifier是如何做分类决策的。对于每个样例，它根据决策函数计算分数，如果这个分数大于一个阈值，它会将样例分配给正例，否则它将分配给反例。`图3-3`显示了几个数字从左边的最低分数排到右边的最高分。假设决策阈值位于中间的箭头(介于两个5之间)：您将发现4个真正例(数字5)和一个假正例(数字6)在该阈值的右侧。因此，使用该阈值，准确率为`80%`(4/5)。但实际有6个数字5，分类器只检测4个，所以召回是`67%`(4/6)。现在，如果你提高阈值(移动到右侧的箭头)，假正例(数字6)成为一个真反例，从而提高准确率(在这种情况下高达`100%`)，但一个真正例变成假反例，召回率降低到`50%`。相反，降低阈值可提高召回率、降低准确率。\n",
    "\n",
    "<img src=\"images/03_03.png\" style=\"width:500px;\"/>\n",
    "\n",
    "`Scikit-Learn`不让你直接设置阈值，但是它给你提供了设置决策分数的方法，这个决策分数可以用来产生预测。它不是调用分类器的`predict()`方法，而是调用`decision_function()`方法。这个方法返回每一个样例的分数值，然后基于这个分数值，使用你想要的任何阈值做出预测。"
   ]
  },
  {
   "cell_type": "code",
   "execution_count": 19,
   "metadata": {},
   "outputs": [
    {
     "data": {
      "text/plain": [
       "array([161855.74572176])"
      ]
     },
     "execution_count": 19,
     "metadata": {},
     "output_type": "execute_result"
    }
   ],
   "source": [
    "y_scores = sgd_clf.decision_function([some_digit])\n",
    "y_scores"
   ]
  },
  {
   "cell_type": "code",
   "execution_count": 20,
   "metadata": {},
   "outputs": [
    {
     "data": {
      "text/plain": [
       "array([ True])"
      ]
     },
     "execution_count": 20,
     "metadata": {},
     "output_type": "execute_result"
    }
   ],
   "source": [
    "threshold = 0\n",
    "y_some_digit_pred = (y_scores > threshold)\n",
    "y_some_digit_pred"
   ]
  },
  {
   "cell_type": "markdown",
   "metadata": {},
   "source": [
    "`SGDClassifier`用了一个等于0的阈值，所以前面的代码返回了跟`predict()`方法一样的结果(都返回了true)。让我们提高这个阈值："
   ]
  },
  {
   "cell_type": "code",
   "execution_count": 21,
   "metadata": {},
   "outputs": [
    {
     "data": {
      "text/plain": [
       "array([False])"
      ]
     },
     "execution_count": 21,
     "metadata": {},
     "output_type": "execute_result"
    }
   ],
   "source": [
    "threshold = 200000\n",
    "y_some_digit_pred = (y_scores > threshold)\n",
    "y_some_digit_pred"
   ]
  },
  {
   "cell_type": "markdown",
   "metadata": {},
   "source": [
    "这证明了提高阈值会降调召回率。这个图片实际就是数字5，当阈值等于0的时候，分类器可以探测到这是一个5，当阈值提高到20000的时候，分类器将不能探测到这是数字5。\n",
    "\n",
    "那么，你应该如何使用哪个阈值呢？首先，你需要再次使用`cross_val_predict()`得到每一个样例的分数值，但是这一次指定返回一个决策分数，而不是预测值。"
   ]
  },
  {
   "cell_type": "code",
   "execution_count": 22,
   "metadata": {},
   "outputs": [
    {
     "data": {
      "image/png": "[encoded data removed]",
      "text/plain": [
       "<Figure size 432x288 with 1 Axes>"
      ]
     },
     "metadata": {
      "needs_background": "light"
     },
     "output_type": "display_data"
    }
   ],
   "source": [
    "y_scores = sklearn.model_selection.cross_val_predict(sgd_clf, X_train, y_train_5, cv=3,  method=\"decision_function\")\n",
    "\n",
    "# 现在有了这些分数值。对于任何可能的阈值，使用precision_recall_curve(),\n",
    "# 你都可以计算准确率和召回率\n",
    "precisions, recalls, thresholds = sklearn.metrics.precision_recall_curve(y_train_5, y_scores)\n",
    "\n",
    "# 使用Matplotlib画出准确率和召回率\n",
    "def plot_precision_recall_vs_threshold(precisions, recalls, thresholds): \n",
    "    plt.plot(thresholds, precisions[:-1], \"b--\", label=\"Precision\") \n",
    "    plt.plot(thresholds, recalls[:-1], \"g-\", label=\"Recall\") \n",
    "    plt.xlabel(\"Threshold\") \n",
    "    plt.legend(loc=\"upper left\") \n",
    "    plt.ylim([0, 1])\n",
    "\n",
    "plot_precision_recall_vs_threshold(precisions, recalls, thresholds) \n",
    "plt.show()"
   ]
  },
  {
   "cell_type": "markdown",
   "metadata": {},
   "source": [
    "> 你也许会好奇为什么准确率曲线比召回率曲线更加起伏不平。原因是准确率有时候会降低，尽管当你提高阈值的时候，通常来说准确率会随之提高。回头看`图3-3`，留意当你从中间箭头开始然后向右移动一个数字会发生什么：准确率会由`4/5`(80%)降到`3/4`(75%)。另一方面，当阈值提高时候，召回率只会降低。这也就说明了为什么召回率的曲线更加平滑。\n",
    "\n",
    "现在你可以选择适合你任务的最佳阈值。另一个选出好的准确率/召回率折衷的方法是直接画出准确率对召回率的曲线，如`图3-5`所示。"
   ]
  },
  {
   "cell_type": "code",
   "execution_count": 23,
   "metadata": {},
   "outputs": [
    {
     "data": {
      "image/png": "[encoded data removed]",
      "text/plain": [
       "<Figure size 432x360 with 1 Axes>"
      ]
     },
     "metadata": {
      "needs_background": "light"
     },
     "output_type": "display_data"
    }
   ],
   "source": [
    "def plot_precision_vs_recall(precisions, recalls):\n",
    "    plt.plot(recalls, precisions, \"b-\", linewidth=2)\n",
    "    plt.xlabel(\"Recall\", fontsize=16)\n",
    "    plt.ylabel(\"Precision\", fontsize=16)\n",
    "    plt.axis([0, 1, 0, 1])\n",
    "\n",
    "plt.figure(figsize=(6, 5))\n",
    "plot_precision_vs_recall(precisions, recalls)\n",
    "plt.show()"
   ]
  },
  {
   "cell_type": "markdown",
   "metadata": {},
   "source": [
    "可以看到，在召回率在`80%`左右的时候，准确率急剧下降。你可能会想选择在急剧下降之前选择出一个准确率/召回率折衷点。比如说，在召回率`60%`左右的点。当然，这取决于你的项目需求。\n",
    "\n",
    "我们假设你决定达到`90%`的准确率。你查阅第一幅图(放大一些)，在70000附近找到一个阈值。为了作出预测(目前为止只在训练集上预测)，你可以运行以下代码，而不是运行分类器的`predict()`方法。"
   ]
  },
  {
   "cell_type": "code",
   "execution_count": 24,
   "metadata": {},
   "outputs": [],
   "source": [
    "y_train_pred_90 = (y_scores > 70000)"
   ]
  },
  {
   "cell_type": "markdown",
   "metadata": {},
   "source": [
    "让我们检查这些预测的准确率和召回率："
   ]
  },
  {
   "cell_type": "code",
   "execution_count": 25,
   "metadata": {},
   "outputs": [
    {
     "data": {
      "text/plain": [
       "0.8997149520601192"
      ]
     },
     "execution_count": 25,
     "metadata": {},
     "output_type": "execute_result"
    }
   ],
   "source": [
    "y_train_pred_90 = (y_scores > 103500)\n",
    "sklearn.metrics.precision_score(y_train_5, y_train_pred_90)"
   ]
  },
  {
   "cell_type": "code",
   "execution_count": 26,
   "metadata": {},
   "outputs": [
    {
     "data": {
      "text/plain": [
       "0.6404722375945398"
      ]
     },
     "execution_count": 26,
     "metadata": {},
     "output_type": "execute_result"
    }
   ],
   "source": [
    "sklearn.metrics.recall_score(y_train_5, y_train_pred_90)"
   ]
  },
  {
   "cell_type": "markdown",
   "metadata": {},
   "source": [
    "很棒！你拥有了一个(近似)`90%`准确率的分类器。它相当容易去创建一个任意准确率的分类器，只要将阈值设置得足够高。但是，一个高准确率的分类器不是非常有用，如果它的召回率太低！\n",
    "\n",
    "> 如果有人说`让我们达到99%的准确率`，你应该问`相应的召回率是多少？`\n",
    "\n",
    "### 3.3.5 ROC 曲线\n",
    "受试者工作特征(ROC)曲线是另一个二分类器常用的工具。它非常类似与准确率/召回率曲线，但不是画出准确率对召回率的曲线，ROC曲线是真正例率(true positive rate，另一个名字叫做召回率)对假正例率(false positive rate，FPR)的曲线。FPR是反例被错误分成正例的比率。它等于1减去真反例率(true negative rate，TNR)。TNR是反例被正确分类的比率。TNR也叫做`特异性`。所以ROC曲线画出召回率对(1减特异性)的曲线。\n",
    "\n",
    "> 说明\n",
    "> TPR表示被正确识别出的`正例`在所有`正例`中占的比率；而FPR表示被错误识别为`假正例`在所有`真反例`，\n",
    "\n",
    "为了画出ROC曲线，你首先需要计算各种不同阈值下的TPR、FPR，使用`roc_curve()`函数："
   ]
  },
  {
   "cell_type": "code",
   "execution_count": 27,
   "metadata": {},
   "outputs": [],
   "source": [
    "fpr, tpr, thresholds = sklearn.metrics.roc_curve(y_train_5, y_scores)"
   ]
  },
  {
   "cell_type": "markdown",
   "metadata": {},
   "source": [
    "然后你可以使用matplotlib，画出`FPR`对`TPR`的曲线："
   ]
  },
  {
   "cell_type": "code",
   "execution_count": 28,
   "metadata": {},
   "outputs": [
    {
     "data": {
      "image/png": "[encoded data removed]",
      "text/plain": [
       "<Figure size 432x288 with 1 Axes>"
      ]
     },
     "metadata": {
      "needs_background": "light"
     },
     "output_type": "display_data"
    }
   ],
   "source": [
    "def plot_roc_curve(fpr, tpr, label=None):\n",
    "    plt.plot(fpr, tpr, linewidth=2, label=label)\n",
    "    plt.plot([0, 1], [0, 1], 'k--')\n",
    "    plt.axis([0, 1, 0, 1])\n",
    "    plt.xlabel('False Positive Rate')\n",
    "    plt.ylabel('True Positive Rate')\n",
    "plot_roc_curve(fpr, tpr)\n",
    "plt.show()"
   ]
  },
  {
   "cell_type": "markdown",
   "metadata": {},
   "source": [
    "这里同样存在折衷的问题：召回率(TPR)越高，分类器就会产生越多的假正例(FPR)。图中的点线是一个完全随机的分类器生成的ROC曲线；一个好的分类器的ROC曲线应该尽可能远离这条线(即向左上角方向靠拢)。\n",
    "\n",
    "一个比较分类器之间优劣的方法是：测量ROC曲线下的面积(AUC)。一个完美的分类器的ROC AUC等于1，而一个纯随机分类器的ROC AUC等于0.5。`Scikit-Learn`提供了一个函数来计算ROC AUC："
   ]
  },
  {
   "cell_type": "code",
   "execution_count": 29,
   "metadata": {},
   "outputs": [
    {
     "data": {
      "text/plain": [
       "0.9624496555967156"
      ]
     },
     "execution_count": 29,
     "metadata": {},
     "output_type": "execute_result"
    }
   ],
   "source": [
    "sklearn.metrics.roc_auc_score(y_train_5, y_scores)"
   ]
  },
  {
   "cell_type": "markdown",
   "metadata": {},
   "source": [
    "> 因为ROC曲线跟准确率/召回率曲线(或者叫PR)很类似，你或许会好奇如何决定使用哪一个曲线呢？一个笨拙的规则是，当正例很少，或者当你关注假正例多于假反例的时候，优先使用PR曲线。其他情况使用ROC曲线。举例子，回顾前面的ROC曲线和ROC AUC数值，你或许认为这个分类器很棒。但是这几乎全是因为只有少数正例(`是5`)，而大部分是反例(`非5`)。相反，PR曲线清楚显示出这个分类器还有很大的改善空间(PR曲线应该尽可能地靠近右上角)。\n",
    "\n",
    "让我们训练一个RandomForestClassifier，然后拿它的的ROC曲线和ROC AUC数值去跟SGDClassifier的比较。首先你需要得到训练集每个样例的数值。但是由于随机森林分类器的工作方式，RandomForestClassifier不提供`decision_function()`方法。相反，它提供了`predict_proba()`方法。`Skikit-Learn`分类器通常二者中的一个。`predict_proba()`方法返回一个数组，数组的每一行代表一个样例，每一列代表一个类。数组当中的值的意思是：给定一个样例属于给定类的概率。比如，`70%`的概率这幅图是数字5。"
   ]
  },
  {
   "cell_type": "code",
   "execution_count": 30,
   "metadata": {},
   "outputs": [],
   "source": [
    "forest_clf = sklearn.ensemble.RandomForestClassifier(random_state=42) \n",
    "y_probas_forest = sklearn.model_selection.cross_val_predict(forest_clf, X_train, y_train_5, \n",
    "                                                            cv=3, method=\"predict_proba\")"
   ]
  },
  {
   "cell_type": "markdown",
   "metadata": {},
   "source": [
    "但是要画ROC曲线，你需要的是样例的分数，而不是概率。一个简单的解决方法是使用正例的概率当作样例的分数。"
   ]
  },
  {
   "cell_type": "code",
   "execution_count": 31,
   "metadata": {},
   "outputs": [],
   "source": [
    "y_scores_forest = y_probas_forest[:, 1] # score = proba of positive class \n",
    "fpr_forest, tpr_forest, thresholds_forest = sklearn.metrics.roc_curve(y_train_5,y_scores_forest)"
   ]
  },
  {
   "cell_type": "markdown",
   "metadata": {},
   "source": [
    "现在你即将得到ROC曲线。将前面一个分类器的ROC曲线一并画出来是很有用的，可以清楚地进行比较："
   ]
  },
  {
   "cell_type": "code",
   "execution_count": 32,
   "metadata": {},
   "outputs": [
    {
     "data": {
      "image/png": "[encoded data removed]",
      "text/plain": [
       "<Figure size 432x288 with 1 Axes>"
      ]
     },
     "metadata": {
      "needs_background": "light"
     },
     "output_type": "display_data"
    }
   ],
   "source": [
    "plt.plot(fpr, tpr, \"b:\", label=\"SGD\") \n",
    "plot_roc_curve(fpr_forest, tpr_forest, \"Random Forest\") \n",
    "plt.legend(loc=\"lower right\") \n",
    "plt.show()"
   ]
  },
  {
   "cell_type": "markdown",
   "metadata": {},
   "source": [
    "如你所见，RandomForestClassifier的ROC曲线比SGDClassifier的好得多：它更靠近左上角。所以，它的ROC AUC也会更大。"
   ]
  },
  {
   "cell_type": "code",
   "execution_count": 33,
   "metadata": {},
   "outputs": [
    {
     "data": {
      "text/plain": [
       "0.9931243366003829"
      ]
     },
     "execution_count": 33,
     "metadata": {},
     "output_type": "execute_result"
    }
   ],
   "source": [
    "sklearn.metrics.roc_auc_score(y_train_5, y_scores_forest)"
   ]
  },
  {
   "cell_type": "markdown",
   "metadata": {},
   "source": [
    "计算一下准确率和召回率：`98.5%`的准确率，`82.8%`的召回率。还不错。\n",
    "\n",
    "现在你知道如何训练一个二分类器，选择合适的标准，使用交叉验证去评估你的分类器，选择满足你需要的准确率/召回率折衷方案，和比较不同模型的ROC曲线和ROC AUC数值。现在让我们检测更多的数字，而不仅仅是一个数字5。\n",
    "\n",
    "## 3.4 多类分类\n",
    "二分类器只能区分两个类，而`多类分类器`(也被叫做多项式分类器)可以区分多于两个类。\n",
    "\n",
    "一些算法(比如随机森林分类器或者朴素贝叶斯分类器)可以直接处理多类分类问题。其他一些算法(比如SVM分类器或者线性分类器)则是严格的二分类器。然后，有许多策略可以让你用二分类器去执行多类分类。\n",
    "\n",
    "举例子，创建一个可以将图片分成10类(从0到9)的系统的一个方法是：训练10个二分类器，每一个对应一个数字(探测器0，探测器1，探测器2，以此类推)。然后当你想对某张图片进行分类的时候，让每一个分类器对这个图片进行分类，选出决策分数最高的那个分类器。这叫做`一对所有`(OvA)策略(也被叫做`一对其他`)。\n",
    "\n",
    "另一个策略是对每一对数字都训练一个二分类器：一个分类器用来处理数字0和数字1，一个用来处理数字0和数字2，一个用来处理数字1和2，以此类推。这叫做`一对一`(OvO)策略。如果有N个类。你需要训练`N*(N-1)/2`个分类器。对于MNIST问题，需要训练45个二分类器！当你想对一张图片进行分类，你必须将这张图片跑在全部45个二分类器上。然后看哪个类胜出。OvO策略的主要优点是：每个分类器只需要在训练集的部分数据上面进行训练。这部分数据是它所需要区分的那两个类对应的数据。\n",
    "\n",
    "一些算法(比如SVM分类器)在训练集的大小上很难扩展，所以对于这些算法，OvO是比较好的，因为它可以在小的数据集上面可以更多地训练，较之于巨大的数据集而言。但是，对于大部分的二分类器来说，OvA是更好的选择。\n",
    "\n",
    "`Scikit-Learn`可以探测出你想使用一个二分类器去完成多分类的任务，它会自动地执行OvA(除了SVM分类器，它使用OvO)。让我们试一下SGDClassifier。"
   ]
  },
  {
   "cell_type": "code",
   "execution_count": 34,
   "metadata": {},
   "outputs": [
    {
     "data": {
      "text/plain": [
       "array([5.])"
      ]
     },
     "execution_count": 34,
     "metadata": {},
     "output_type": "execute_result"
    }
   ],
   "source": [
    "# y_train, not y_train_5\n",
    "sgd_clf.fit(X_train, y_train)\n",
    "sgd_clf.predict([some_digit])"
   ]
  },
  {
   "cell_type": "markdown",
   "metadata": {},
   "source": [
    "很容易。上面的代码在训练集上训练了一个SGDClassifier。这个分类器处理原始的目标class，从0到9(y_train)，而不是仅仅探测是否为5(y_train_5)。然后它做出一个判断(在这个案例下只有一个正确的数字)。在幕后，`Scikit-Learn`实际上训练了10个二分类器，每个分类器都产到一张图片的决策数值，选择数值最高的那个类。\n",
    "\n",
    "为了证明这是真实的，你可以调用`decision_function()`方法。不是返回每个样例的一个数值，而是返回10个数值，一个数值对应于一个类。"
   ]
  },
  {
   "cell_type": "code",
   "execution_count": 35,
   "metadata": {},
   "outputs": [
    {
     "data": {
      "text/plain": [
       "array([[-311402.62954431, -363517.28355739, -446449.5306454 ,\n",
       "        -183226.61023518, -414337.15339485,  161855.74572176,\n",
       "        -452576.39616343, -471957.14962573, -518542.33997148,\n",
       "        -536774.63961222]])"
      ]
     },
     "execution_count": 35,
     "metadata": {},
     "output_type": "execute_result"
    }
   ],
   "source": [
    "some_digit_scores = sgd_clf.decision_function([some_digit])\n",
    "some_digit_scores"
   ]
  },
  {
   "cell_type": "markdown",
   "metadata": {},
   "source": [
    "最高数值是对应于类别5："
   ]
  },
  {
   "cell_type": "code",
   "execution_count": 36,
   "metadata": {},
   "outputs": [
    {
     "data": {
      "text/plain": [
       "array([0., 1., 2., 3., 4., 5., 6., 7., 8., 9.])"
      ]
     },
     "execution_count": 36,
     "metadata": {},
     "output_type": "execute_result"
    }
   ],
   "source": [
    "sgd_clf.classes_"
   ]
  },
  {
   "cell_type": "code",
   "execution_count": 37,
   "metadata": {},
   "outputs": [
    {
     "data": {
      "text/plain": [
       "5.0"
      ]
     },
     "execution_count": 37,
     "metadata": {},
     "output_type": "execute_result"
    }
   ],
   "source": [
    "sgd_clf.classes_[np.argmax(some_digit_scores)]"
   ]
  },
  {
   "cell_type": "markdown",
   "metadata": {},
   "source": [
    "> 一个分类器被训练好了之后，它会保存目标类别列表到它的属性classes_中去，按照值排序。在本例子当中，在classes_数组当中的每个类的索引方便地匹配了类本身，比如，索引为5的类恰好是类别5本身。但通常不会这么幸运。\n",
    "\n",
    "如果你想强制Scikit-Learn使用OvO策略或者OvA策略，你可以使用`OneVsOneClassifier`类或者`OneVsRestClassifier`类。创建一个样例，传递一个二分类器给它的构造函数。举例子，下面的代码会创建一个多类分类器，使用OvO策略，基于SGDClassifier。"
   ]
  },
  {
   "cell_type": "code",
   "execution_count": 38,
   "metadata": {},
   "outputs": [
    {
     "data": {
      "text/plain": [
       "array([5.])"
      ]
     },
     "execution_count": 38,
     "metadata": {},
     "output_type": "execute_result"
    }
   ],
   "source": [
    "ovo_clf = sklearn.multiclass.OneVsOneClassifier(sklearn.linear_model.SGDClassifier(random_state=42, max_iter=5, tol=1e-3))\n",
    "ovo_clf.fit(X_train, y_train)\n",
    "ovo_clf.predict([some_digit])"
   ]
  },
  {
   "cell_type": "code",
   "execution_count": 39,
   "metadata": {},
   "outputs": [
    {
     "data": {
      "text/plain": [
       "45"
      ]
     },
     "execution_count": 39,
     "metadata": {},
     "output_type": "execute_result"
    }
   ],
   "source": [
    "len(ovo_clf.estimators_)"
   ]
  },
  {
   "cell_type": "markdown",
   "metadata": {},
   "source": [
    "训练一个RandomForestClassifier同样简单："
   ]
  },
  {
   "cell_type": "code",
   "execution_count": 40,
   "metadata": {},
   "outputs": [
    {
     "data": {
      "text/plain": [
       "array([5.])"
      ]
     },
     "execution_count": 40,
     "metadata": {},
     "output_type": "execute_result"
    }
   ],
   "source": [
    "forest_clf.fit(X_train, y_train)\n",
    "forest_clf.predict([some_digit])"
   ]
  },
  {
   "cell_type": "markdown",
   "metadata": {},
   "source": [
    "这次`Scikit-Learn`没有必要去运行OvO或者OvA，因为随机森林分类器能够直接将一个样例分到多个类别。你可以调用`predict_proba()`，得到样例对应的类别的概率值的列表："
   ]
  },
  {
   "cell_type": "code",
   "execution_count": 41,
   "metadata": {},
   "outputs": [
    {
     "data": {
      "text/plain": [
       "array([[0.1, 0. , 0. , 0.1, 0. , 0.8, 0. , 0. , 0. , 0. ]])"
      ]
     },
     "execution_count": 41,
     "metadata": {},
     "output_type": "execute_result"
    }
   ],
   "source": [
    "forest_clf.predict_proba([some_digit])"
   ]
  },
  {
   "cell_type": "markdown",
   "metadata": {},
   "source": [
    "你可以看到这个分类器相当确信它的预测：在数组的索引5上的0.8，意味着这个模型以`80%`的概率估算这张图片代表数字5。它也认为这个图片可能是数字0或者数字3，分别都是10%的几率。\n",
    "\n",
    "现在当然你想评估这些分类器。像平常一样，你想使用交叉验证。让我们用`cross_val_score()`来评估SGDClassifier的精度。"
   ]
  },
  {
   "cell_type": "code",
   "execution_count": 42,
   "metadata": {},
   "outputs": [
    {
     "data": {
      "text/plain": [
       "array([0.84063187, 0.84899245, 0.86652998])"
      ]
     },
     "execution_count": 42,
     "metadata": {},
     "output_type": "execute_result"
    }
   ],
   "source": [
    "sklearn.model_selection.cross_val_score(sgd_clf, X_train, y_train, cv=3, scoring=\"accuracy\")"
   ]
  },
  {
   "cell_type": "markdown",
   "metadata": {},
   "source": [
    "在所有测试折(test fold)上，它有`84%`的精度。如果你是用一个随机的分类器，你将会得到`10%`的正确率。所以这不是一个坏的分数，但是你可以做的更好。举例子，简单将输入正则化，将会提高精度到`90%`以上。"
   ]
  },
  {
   "cell_type": "code",
   "execution_count": 43,
   "metadata": {},
   "outputs": [
    {
     "data": {
      "text/plain": [
       "array([0.91011798, 0.90874544, 0.906636  ])"
      ]
     },
     "execution_count": 43,
     "metadata": {},
     "output_type": "execute_result"
    }
   ],
   "source": [
    "scaler = sklearn.preprocessing.StandardScaler()\n",
    "X_train_scaled = scaler.fit_transform(X_train.astype(np.float64))\n",
    "sklearn.model_selection.cross_val_score(sgd_clf, X_train_scaled, y_train, cv=3, scoring=\"accuracy\")"
   ]
  },
  {
   "cell_type": "markdown",
   "metadata": {},
   "source": [
    "## 3.5 误差分析\n",
    "当然，如果这是一个实际的项目，你会在你的机器学习项目当中，跟随以下步骤(见附录B)：探索准备数据的候选方案，尝试多种模型，把最好的几个模型列为入围名单，用GridSearchCV调试超参数，尽可能地自动化，像你前面的章节做的那样。在这里，我们假设你已经找到一个不错的模型，你试图找到方法去改善它。一个方式是分析模型产生的误差的类型。\n",
    "\n",
    "首先，你可以检查混淆矩阵。你需要使用`cross_val_predict()`做出预测，然后调用`confusion_matrix()`函数，像你早前做的那样。"
   ]
  },
  {
   "cell_type": "code",
   "execution_count": 44,
   "metadata": {},
   "outputs": [
    {
     "data": {
      "text/plain": [
       "array([[5725,    3,   24,    9,   10,   49,   50,   10,   39,    4],\n",
       "       [   2, 6493,   43,   25,    7,   40,    5,   10,  109,    8],\n",
       "       [  51,   41, 5321,  104,   89,   26,   87,   60,  166,   13],\n",
       "       [  47,   46,  141, 5342,    1,  231,   40,   50,  141,   92],\n",
       "       [  19,   29,   41,   10, 5366,    9,   56,   37,   86,  189],\n",
       "       [  73,   45,   36,  193,   64, 4582,  111,   30,  193,   94],\n",
       "       [  29,   34,   44,    2,   42,   85, 5627,   10,   45,    0],\n",
       "       [  25,   24,   74,   32,   54,   12,    6, 5787,   15,  236],\n",
       "       [  52,  161,   73,  156,   10,  163,   61,   25, 5027,  123],\n",
       "       [  43,   35,   26,   92,  178,   28,    2,  223,   82, 5240]])"
      ]
     },
     "execution_count": 44,
     "metadata": {},
     "output_type": "execute_result"
    }
   ],
   "source": [
    "y_train_pred = sklearn.model_selection.cross_val_predict(sgd_clf, X_train_scaled, y_train, cv=3)\n",
    "conf_mx = sklearn.metrics.confusion_matrix(y_train, y_train_pred)\n",
    "conf_mx"
   ]
  },
  {
   "cell_type": "markdown",
   "metadata": {},
   "source": [
    "这里是一堆数字。使用Matplotlib的`matshow()`函数，将混淆矩阵以图像的方式呈现，将会更加方便。"
   ]
  },
  {
   "cell_type": "code",
   "execution_count": 45,
   "metadata": {},
   "outputs": [
    {
     "data": {
      "image/png": "[encoded data removed]",
      "text/plain": [
       "<Figure size 288x288 with 1 Axes>"
      ]
     },
     "metadata": {
      "needs_background": "light"
     },
     "output_type": "display_data"
    }
   ],
   "source": [
    "plt.matshow(conf_mx, cmap=plt.cm.gray) \n",
    "plt.show()"
   ]
  },
  {
   "cell_type": "markdown",
   "metadata": {},
   "source": [
    "这个混淆矩阵看起来相当好，因为大多数的图片在主对角线上。在主对角线上意味着被分类正确。数字5对应的格子看起来比其他数字要暗淡许多。这可能是数据集当中数字5的图片比较少，又或者是分类器对于数字5的表现不如其他数字那么好。你可以验证两种情况。\n",
    "\n",
    "让我们关注仅包含误差数据的图像呈现。首先你需要将混淆矩阵的每一个值除以相应类别的图片的总数目。这样子，你可以比较错误率，而不是绝对的错误数(这对大的类别不公平)。"
   ]
  },
  {
   "cell_type": "code",
   "execution_count": 46,
   "metadata": {},
   "outputs": [
    {
     "data": {
      "image/png": "[encoded data removed]",
      "text/plain": [
       "<Figure size 288x288 with 1 Axes>"
      ]
     },
     "metadata": {
      "needs_background": "light"
     },
     "output_type": "display_data"
    }
   ],
   "source": [
    "row_sums = conf_mx.sum(axis=1, keepdims=True)\n",
    "norm_conf_mx = conf_mx / row_sums\n",
    "\n",
    "# 我们用0来填充对角线。这样子就只保留了被错误分类的数据\n",
    "np.fill_diagonal(norm_conf_mx, 0)\n",
    "plt.matshow(norm_conf_mx, cmap=plt.cm.gray)\n",
    "plt.show()"
   ]
  },
  {
   "cell_type": "markdown",
   "metadata": {},
   "source": [
    "现在你可以清楚看出分类器制造出来的各类误差。记住：行代表实际类别，列代表预测的类别。第8、9列相当亮，这告诉你许多图片被误分成数字8或者数字9。相似的，第8、9行也相当亮，告诉你数字8、数字9经常被误以为是其他数字。相反，一些行相当黑，比如第一行：这意味着大部分的数字1被正确分类(一些被误分类为数字8)。留意到误差图不是严格对称的。举例子，比起将数字8误分类为数字5的数量，有更多的数字5被误分类为数字8。\n",
    "\n",
    "分析混淆矩阵通常可以给你提供深刻的见解去改善你的分类器。回顾这幅图，看样子你应该努力改善分类器在数字8和数字9上的表现，和纠正3/5的混淆。举例子，你可以尝试去收集更多的数据，或者你可以构造新的、有助于分类器的特征。举例子，写一个算法去数闭合的环(比如，数字8有两个环，数字6有一个， 5没有）。又或者你可以预处理图片(比如，使用`Scikit-Learn`，`Pillow`，`OpenCV`)去构造一个模式，比如闭合的环。\n",
    "\n",
    "分析独特的误差，是获得关于你的分类器是如何工作及其为什么失败的洞见的一个好途径。但是这相对难和耗时。举例子，我们可以画出数字3和5的例子。"
   ]
  },
  {
   "cell_type": "code",
   "execution_count": 47,
   "metadata": {},
   "outputs": [
    {
     "data": {
      "image/png": "[encoded data removed]",
      "text/plain": [
       "<Figure size 576x576 with 4 Axes>"
      ]
     },
     "metadata": {
      "needs_background": "light"
     },
     "output_type": "display_data"
    }
   ],
   "source": [
    "# EXTRA\n",
    "def plot_digits(instances, images_per_row=10, **options):\n",
    "    size = 28\n",
    "    images_per_row = min(len(instances), images_per_row)\n",
    "    images = [instance.reshape(size,size) for instance in instances]\n",
    "    n_rows = (len(instances) - 1) // images_per_row + 1\n",
    "    row_images = []\n",
    "    n_empty = n_rows * images_per_row - len(instances)\n",
    "    images.append(np.zeros((size, size * n_empty)))\n",
    "    for row in range(n_rows):\n",
    "        rimages = images[row * images_per_row : (row + 1) * images_per_row]\n",
    "        row_images.append(np.concatenate(rimages, axis=1))\n",
    "    image = np.concatenate(row_images, axis=0)\n",
    "    plt.imshow(image, cmap = matplotlib.cm.binary, **options)\n",
    "    plt.axis(\"off\")\n",
    "\n",
    "cl_a, cl_b = 3, 5 \n",
    "X_aa = X_train[(y_train == cl_a) & (y_train_pred == cl_a)] \n",
    "X_ab = X_train[(y_train == cl_a) & (y_train_pred == cl_b)] \n",
    "X_ba = X_train[(y_train == cl_b) & (y_train_pred == cl_a)] \n",
    "X_bb = X_train[(y_train == cl_b) & (y_train_pred == cl_b)]\n",
    "\n",
    "plt.figure(figsize=(8,8))\n",
    "plt.subplot(221); plot_digits(X_aa[:25], images_per_row=5)\n",
    "plt.subplot(222); plot_digits(X_ab[:25], images_per_row=5)\n",
    "plt.subplot(223); plot_digits(X_ba[:25], images_per_row=5)\n",
    "plt.subplot(224); plot_digits(X_bb[:25], images_per_row=5)\n",
    "plt.show()"
   ]
  },
  {
   "cell_type": "markdown",
   "metadata": {},
   "source": [
    "左边两个`5*5`的块将数字识别为3，右边的将数字识别为5。一些被分类器错误分类的数字(比如左下角和右上角的块)是书写地相当差，甚至让人类分类都会觉得很困难(比如第8行第1列的数字5，看起来非常像数字3)。但是，大部分被误分类的数字，在我们看来都是显而易见的错误。很难明白为什么分类器会分错。原因是我们使用的简单的SGDClassifier，这是一个线性模型。它所做的全部工作就是分配一个类权重给每一个像素，然后当它看到一张新的图片，它就将加权的像素强度相加，每个类得到一个新的值。所以，因为3和5只有一小部分的像素有差异，这个模型很容易混淆它们。\n",
    "\n",
    "3和5之间的主要差异是连接顶部的线和底部的线的细线的位置。如果你画一个3，连接处稍微向左偏移，分类器很可能将它分类成 5。反之亦然。换一个说法，这个分类器对于图片的位移和旋转相当敏感。所以，减轻3/5混淆的一个方法是对图片进行预处理，确保它们都很好地中心化和不过度旋转。这同样很可能帮助减轻其他类型的错误。\n",
    "\n",
    "## 3.6 多标签分类\n",
    "到目前为止，所有的样例都总是被分配到仅一个类。有些情况下，你也许想让你的分类器给一个样例输出多个类别。比如说，思考一个人脸识别器。如果对于同一张图片，它识别出几个人，它应该做什么？当然它应该给每一个它识别出的人贴上一个标签。比方说，这个分类器被训练成识别三个人脸，Alice，Bob，Charlie；然后当它被输入一张含有Alice和Bob的图片，它应该输出`[1, 0, 1]`(意思是：Alice是，Bob不是，Charlie是)。这种输出多个二值标签的分类系统被叫做`多标签分类系统`。\n",
    "\n",
    "目前我们不打算深入脸部识别。我们可以先看一个简单点的例子，仅仅是为了阐明的目的。\n",
    "\n",
    "下面的代码创造了一个y_multilabel数组，里面包含两个目标标签。第一个标签指出这个数字是否为大数字（7，8 或者 9），第二个标签指出这个数字是否是奇数。接下来几行代码会创建一个KNeighborsClassifier样例（它支持多标签分类，但不是所有分类器都可以），然后我们使用多目标数组来训练它。现在你可以生成一个预测，然后它输出两个标签："
   ]
  },
  {
   "cell_type": "code",
   "execution_count": 48,
   "metadata": {},
   "outputs": [
    {
     "data": {
      "text/plain": [
       "array([[False,  True]])"
      ]
     },
     "execution_count": 48,
     "metadata": {},
     "output_type": "execute_result"
    }
   ],
   "source": [
    "y_train_large = (y_train >= 7) \n",
    "y_train_odd = (y_train % 2 == 1) \n",
    "y_multilabel = np.c_[y_train_large, y_train_odd]\n",
    "\n",
    "knn_clf = sklearn.neighbors.KNeighborsClassifier() \n",
    "knn_clf.fit(X_train, y_multilabel)\n",
    "knn_clf.predict([some_digit])"
   ]
  },
  {
   "cell_type": "markdown",
   "metadata": {},
   "source": [
    "它工作正确。数字5不是大数(False)，同时是一个奇数(True)。\n",
    "\n",
    "有许多方法去评估一个多标签分类器，和选择正确的量度标准，这取决于你的项目。举个例子，一个方法是对每个个体标签去量度F1值(或者前面讨论过的其他任意的二分类器的量度标准)，然后计算平均值。下面的代码计算全部标签的平均F1值："
   ]
  },
  {
   "cell_type": "code",
   "execution_count": 49,
   "metadata": {},
   "outputs": [],
   "source": [
    "# too slowly!\n",
    "# y_train_knn_pred = sklearn.model_selection.cross_val_predict(knn_clf, X_train, y_train, cv=3)\n",
    "# sklearn.model_selection.f1_score(y_train, y_train_knn_pred, average=\"macro\")"
   ]
  },
  {
   "cell_type": "markdown",
   "metadata": {},
   "source": [
    "这里假设所有标签有着同等的重要性，但可能不是这样。特别是，如果你的Alice的照片比Bob或者Charlie更多的时候，也许你想让分类器在Alice的照片上具有更大的权重。一个简单的选项是：给每一个标签的权重等于它的支持度(比如，那个标签的样例的数目)。为了做到这点，简单地在上面代码中设置`average=\"weighted\"`。\n",
    "\n",
    "## 3.7 多输出分类\n",
    "我们即将讨论的最后一种分类任务被叫做`多输出-多类分类`(或者简称为`多输出分类`)。它是多标签分类的简单泛化，在这里每一个标签可以是多类别的(比如说，它可以有多于两个可能值)。\n",
    "\n",
    "为了说明这点，我们建立一个系统，它可以去除图片当中的噪音。它将一张混有噪音的图片作为输入，期待它输出一张干净的数字图片，用一个像素强度的数组表示，就像MNIST图片那样。注意到这个分类器的输出是多标签的(一个像素一个标签)和每个标签可以有多个值(像素强度取值范围从0到255)。所以它是一个多输出分类系统的例子。\n",
    "\n",
    "> 分类与回归之间的界限是模糊的，比如这个例子。按理说，预测一个像素的强度更类似于一个回归任务，而不是一个分类任务。而且，多输出系统不限于分类任务。你甚至可以让你一个系统给每一个样例都输出多个标签，包括类标签和值标签。\n",
    "\n",
    "让我们从MNIST的图片创建训练集和测试集开始，然后给图片的像素强度添加噪声，这里是用NumPy的`randint()`函数。目标图像是原始图像。"
   ]
  },
  {
   "cell_type": "code",
   "execution_count": 50,
   "metadata": {},
   "outputs": [],
   "source": [
    "noise = np.random.randint(0, 100, (len(X_train), 784))\n",
    "X_train_mod = X_train + noise\n",
    "noise = np.random.randint(0, 100, (len(X_test), 784))\n",
    "X_test_mod = X_test + noise\n",
    "y_train_mod = X_train\n",
    "y_test_mod = X_test"
   ]
  },
  {
   "cell_type": "markdown",
   "metadata": {},
   "source": [
    "让我们看一下测试集当中的一张图片(是的，我们在窥探测试集，所以你应该马上邹眉)："
   ]
  },
  {
   "cell_type": "code",
   "execution_count": 51,
   "metadata": {},
   "outputs": [
    {
     "data": {
      "image/png": "[encoded data removed]",
      "text/plain": [
       "<Figure size 432x288 with 2 Axes>"
      ]
     },
     "metadata": {
      "needs_background": "light"
     },
     "output_type": "display_data"
    }
   ],
   "source": [
    "def plot_digit(data):\n",
    "    image = data.reshape(28, 28)\n",
    "    plt.imshow(image, cmap = matplotlib.cm.binary, interpolation=\"nearest\")\n",
    "    # plt.axis(\"off\")\n",
    "\n",
    "some_index = 5500\n",
    "plt.subplot(121); plot_digit(X_test_mod[some_index])\n",
    "plt.subplot(122); plot_digit(y_test_mod[some_index])\n",
    "plt.show()"
   ]
  },
  {
   "cell_type": "markdown",
   "metadata": {},
   "source": [
    "左边的加噪声的输入图片。右边是干净的目标图片。现在我们训练分类器，让它清洁这张图片："
   ]
  },
  {
   "cell_type": "code",
   "execution_count": 52,
   "metadata": {},
   "outputs": [
    {
     "data": {
      "image/png": "[encoded data removed]",
      "text/plain": [
       "<Figure size 432x288 with 1 Axes>"
      ]
     },
     "metadata": {
      "needs_background": "light"
     },
     "output_type": "display_data"
    }
   ],
   "source": [
    "knn_clf.fit(X_train_mod, y_train_mod)\n",
    "clean_digit = knn_clf.predict([X_test_mod[some_index]])\n",
    "plot_digit(clean_digit)"
   ]
  },
  {
   "cell_type": "markdown",
   "metadata": {},
   "source": [
    "看起来足够接近目标图片。现在总结我们的分类之旅。希望你现在应该知道如何选择好的量度标准，挑选出合适的准确率/召回率的折衷方案，比较分类器，更概括地说，就是为不同的任务建立起好的分类系统。"
   ]
  }
 ],
 "metadata": {
  "kernelspec": {
   "display_name": "Python 3",
   "language": "python",
   "name": "python3"
  },
  "language_info": {
   "codemirror_mode": {
    "name": "ipython",
    "version": 3
   },
   "file_extension": ".py",
   "mimetype": "text/x-python",
   "name": "python",
   "nbconvert_exporter": "python",
   "pygments_lexer": "ipython3",
   "version": "3.6.9"
  }
 },
 "nbformat": 4,
 "nbformat_minor": 2
}
