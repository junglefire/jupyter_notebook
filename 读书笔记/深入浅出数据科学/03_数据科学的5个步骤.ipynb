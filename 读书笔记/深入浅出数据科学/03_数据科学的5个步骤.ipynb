{
 "cells": [
  {
   "cell_type": "code",
   "execution_count": 1,
   "metadata": {},
   "outputs": [],
   "source": [
    "import pandas as pd\n",
    "import numpy as np\n",
    "%matplotlib inline"
   ]
  },
  {
   "cell_type": "markdown",
   "metadata": {},
   "source": [
    "# 03. 数据科学的5个步骤\n",
    "本章将重点介绍数据科学的第三步—`探索数据`(data exploration)。\n",
    "\n",
    "## 3.1 数据科学简介\n",
    "`数据科学`(data science)和`数据分析`(data analytic)的最大区别是什么？\n",
    "\n",
    "有的人认为两者没有区别，有的人则认为两者千差万别。我认为，两者最大的不同在于数据科学严格遵循结构化、一步一步的操作过程，保证了分析结果的可靠性。\n",
    "\n",
    "和其他科学研究一样，这些过程必须被严格执行，否则分析结果将不可靠。再直白一点，对于外行的数据科学家，严格遵循这些过程将能够快速获得准确结果。反之，如果没有清晰的路线图，则分析结果很难得到保证。\n",
    "\n",
    "## 3.2 5个步骤概览\n",
    "`数据科学`的 5 个必备步骤分别是：\n",
    "1. 提出有意思的问题\n",
    "2. 获取数据\n",
    "3. 探索数据\n",
    "4. 数据建模\n",
    "5. 可视化和分享结果。\n",
    "\n",
    "## 3.3 探索数据\n",
    "`数据探索`的过程并不简单，它涉及识别数据类型、转换数据类型、使用代码系统性提高数据质量为模型做准备的能力。\n",
    "\n",
    "当我们接触新数据集时，有5个基本问题需要回答。请牢记，这些问题并不是数据科学的起点和终点，它们是我们面对新数据集时需要遵循的基本原则。\n",
    "\n",
    "### 3.3.1 数据探索的基本问题\n",
    "每当接触新数据集时，在初次进行分析前回答以下问题都非常有必要。\n",
    "+ 数据是有组织格式的，还是无组织格式的？如果数据是无组织格式的，我们需要将其转换为有组织的行列结构\n",
    "+ 每一行代表什么？\n",
    "+ 每一列代表什么？我们需要识别每一列的数据层次、定性/定量属性等。分类结果可能随着分析的不断深入而改变，但越早开始这一步越好\n",
    "+ 是否有缺失值？数据并不完美。很多时候，人工或机械的错误将导致数据缺失。当这种错误发生时， 作为数据科学家，我们需要决定如何处理这些错误。\n",
    "+ 是否需要对某些列进行数据转换？我们可能需要对某些列进行数据转换，这取决于该列的数据层次和定性/定量属性。比如，为了使用统计模型和机器学习模型，数据集中的每一列都需要是数值型的\n",
    "\n",
    "自始至终，我们的核心问题是：**我们能从前期的推理统计中得到哪些信息？**我们希望对数据的理解比初次接触时更深。\n",
    "\n",
    "### 3.3.2 数据集1：Yelp 点评数据\n",
    "第1个数据集来自点评网站Yelp的公开数据，数据集中所有的身份识别信息已经被删除。"
   ]
  },
  {
   "cell_type": "code",
   "execution_count": 2,
   "metadata": {},
   "outputs": [
    {
     "data": {
      "text/html": [
       "<div>\n",
       "<style scoped>\n",
       "    .dataframe tbody tr th:only-of-type {\n",
       "        vertical-align: middle;\n",
       "    }\n",
       "\n",
       "    .dataframe tbody tr th {\n",
       "        vertical-align: top;\n",
       "    }\n",
       "\n",
       "    .dataframe thead th {\n",
       "        text-align: right;\n",
       "    }\n",
       "</style>\n",
       "<table border=\"1\" class=\"dataframe\">\n",
       "  <thead>\n",
       "    <tr style=\"text-align: right;\">\n",
       "      <th></th>\n",
       "      <th>business_id</th>\n",
       "      <th>date</th>\n",
       "      <th>review_id</th>\n",
       "      <th>stars</th>\n",
       "      <th>text</th>\n",
       "      <th>type</th>\n",
       "      <th>user_id</th>\n",
       "      <th>cool</th>\n",
       "      <th>useful</th>\n",
       "      <th>funny</th>\n",
       "    </tr>\n",
       "  </thead>\n",
       "  <tbody>\n",
       "    <tr>\n",
       "      <th>0</th>\n",
       "      <td>9yKzy9PApeiPPOUJEtnvkg</td>\n",
       "      <td>2011-01-26</td>\n",
       "      <td>fWKvX83p0-ka4JS3dc6E5A</td>\n",
       "      <td>5</td>\n",
       "      <td>My wife took me here on my birthday for breakf...</td>\n",
       "      <td>review</td>\n",
       "      <td>rLtl8ZkDX5vH5nAx9C3q5Q</td>\n",
       "      <td>2</td>\n",
       "      <td>5</td>\n",
       "      <td>0</td>\n",
       "    </tr>\n",
       "    <tr>\n",
       "      <th>1</th>\n",
       "      <td>ZRJwVLyzEJq1VAihDhYiow</td>\n",
       "      <td>2011-07-27</td>\n",
       "      <td>IjZ33sJrzXqU-0X6U8NwyA</td>\n",
       "      <td>5</td>\n",
       "      <td>I have no idea why some people give bad review...</td>\n",
       "      <td>review</td>\n",
       "      <td>0a2KyEL0d3Yb1V6aivbIuQ</td>\n",
       "      <td>0</td>\n",
       "      <td>0</td>\n",
       "      <td>0</td>\n",
       "    </tr>\n",
       "    <tr>\n",
       "      <th>2</th>\n",
       "      <td>6oRAC4uyJCsJl1X0WZpVSA</td>\n",
       "      <td>2012-06-14</td>\n",
       "      <td>IESLBzqUCLdSzSqm0eCSxQ</td>\n",
       "      <td>4</td>\n",
       "      <td>love the gyro plate. Rice is so good and I als...</td>\n",
       "      <td>review</td>\n",
       "      <td>0hT2KtfLiobPvh6cDC8JQg</td>\n",
       "      <td>0</td>\n",
       "      <td>1</td>\n",
       "      <td>0</td>\n",
       "    </tr>\n",
       "    <tr>\n",
       "      <th>3</th>\n",
       "      <td>_1QQZuf4zZOyFCvXc0o6Vg</td>\n",
       "      <td>2010-05-27</td>\n",
       "      <td>G-WvGaISbqqaMHlNnByodA</td>\n",
       "      <td>5</td>\n",
       "      <td>Rosie, Dakota, and I LOVE Chaparral Dog Park!!...</td>\n",
       "      <td>review</td>\n",
       "      <td>uZetl9T0NcROGOyFfughhg</td>\n",
       "      <td>1</td>\n",
       "      <td>2</td>\n",
       "      <td>0</td>\n",
       "    </tr>\n",
       "    <tr>\n",
       "      <th>4</th>\n",
       "      <td>6ozycU1RpktNG2-1BroVtw</td>\n",
       "      <td>2012-01-05</td>\n",
       "      <td>1uJFq2r5QfJG_6ExMRCaGw</td>\n",
       "      <td>5</td>\n",
       "      <td>General Manager Scott Petello is a good egg!!!...</td>\n",
       "      <td>review</td>\n",
       "      <td>vYmM4KTsC8ZfQBg-j5MWkw</td>\n",
       "      <td>0</td>\n",
       "      <td>0</td>\n",
       "      <td>0</td>\n",
       "    </tr>\n",
       "  </tbody>\n",
       "</table>\n",
       "</div>"
      ],
      "text/plain": [
       "              business_id        date               review_id  stars  \\\n",
       "0  9yKzy9PApeiPPOUJEtnvkg  2011-01-26  fWKvX83p0-ka4JS3dc6E5A      5   \n",
       "1  ZRJwVLyzEJq1VAihDhYiow  2011-07-27  IjZ33sJrzXqU-0X6U8NwyA      5   \n",
       "2  6oRAC4uyJCsJl1X0WZpVSA  2012-06-14  IESLBzqUCLdSzSqm0eCSxQ      4   \n",
       "3  _1QQZuf4zZOyFCvXc0o6Vg  2010-05-27  G-WvGaISbqqaMHlNnByodA      5   \n",
       "4  6ozycU1RpktNG2-1BroVtw  2012-01-05  1uJFq2r5QfJG_6ExMRCaGw      5   \n",
       "\n",
       "                                                text    type  \\\n",
       "0  My wife took me here on my birthday for breakf...  review   \n",
       "1  I have no idea why some people give bad review...  review   \n",
       "2  love the gyro plate. Rice is so good and I als...  review   \n",
       "3  Rosie, Dakota, and I LOVE Chaparral Dog Park!!...  review   \n",
       "4  General Manager Scott Petello is a good egg!!!...  review   \n",
       "\n",
       "                  user_id  cool  useful  funny  \n",
       "0  rLtl8ZkDX5vH5nAx9C3q5Q     2       5      0  \n",
       "1  0a2KyEL0d3Yb1V6aivbIuQ     0       0      0  \n",
       "2  0hT2KtfLiobPvh6cDC8JQg     0       1      0  \n",
       "3  uZetl9T0NcROGOyFfughhg     1       2      0  \n",
       "4  vYmM4KTsC8ZfQBg-j5MWkw     0       0      0  "
      ]
     },
     "execution_count": 2,
     "metadata": {},
     "output_type": "execute_result"
    }
   ],
   "source": [
    "yelp_raw_data = pd.read_csv(\"data/yelp.csv\") \n",
    "yelp_raw_data.head()"
   ]
  },
  {
   "cell_type": "markdown",
   "metadata": {},
   "source": [
    "**问题1：数据是有组织格式的，还是无组织格式的？**\n",
    "数据源是非常好的行列结构，我们可以认为它是有组织格式的。\n",
    "\n",
    "**问题2：每一行代表什么？**\n",
    "每一行代表一条用户的评价。我们还会查看每一行和每一列的数据类型。 使用`DataFrame`的`shape`方法查看数据集的大小，结果显示，数据集有`10000`行和`10`列，即有10000个观测值和10个观测特征。"
   ]
  },
  {
   "cell_type": "code",
   "execution_count": 3,
   "metadata": {},
   "outputs": [
    {
     "data": {
      "text/plain": [
       "(10000, 10)"
      ]
     },
     "execution_count": 3,
     "metadata": {},
     "output_type": "execute_result"
    }
   ],
   "source": [
    "yelp_raw_data.shape"
   ]
  },
  {
   "cell_type": "markdown",
   "metadata": {},
   "source": [
    "**问题3：每一列代表什么？** 数据集有10列：\n",
    "+ `business_id`：每条评价对应的交易的唯一识别码。本列是`定类尺度`，因为识别码没有天然的顺序\n",
    "+ `date`：每条评价的提交日期(年-月-日)。虽然时间通常被认为是连续数据，但本列应该被视为离散数据。本列属于`定序尺度`，因为日期有天然的顺序\n",
    "+ `review_id`: 每条评价的唯一识别码。本列同样属于`定类尺度`，因为识别码没有天然的顺序\n",
    "+ `stars`：评价者给每一个餐馆的最终评分。本列是有次序的`定性数据`，因此属于`定序尺度`\n",
    "+ `text`：用户撰写的评价。对于大部分文本数据，我们将其归为`定类尺度`\n",
    "+ `type`：本列前 5 行均为`review`，我们猜测它是标记每行是否为`review`的列，也就是说很可能存在不是`review`的行。我们随后将进行更深入的分析。本列属于`定类尺度`\n",
    "+ `user_id`：每个提交评价的用户的唯一识别码，也属于`定类尺度`\n",
    "\n",
    "当区分了所有列的`定序尺度`和`定类尺度`类型后，还需要继续回答以下两个问题。这两个问题很常见，值得提醒。\n",
    "\n",
    "**问题4：是否有缺失值？** \n",
    "使用`isnull`方法判断是否有缺失值。\n",
    "\n",
    "**问题5：是否需要对某些列进行数据转换？**\n",
    "我们想知道是否需要改变定量数据的数值范围，或者是否需要为定性数据创建`哑变量`(dummy variables)？由于本数据集只有`定性数据`，所以我们将焦点放在`定序`和`定类`范围。\n",
    "\n",
    "在进行数据探索之前，我们先对数据分析包`Pandas`的术语做一个简单了解。"
   ]
  },
  {
   "cell_type": "markdown",
   "metadata": {},
   "source": [
    "##### DataFrame\n",
    "当我们读取数据集时，Pandas将创建一个名为`DataFrame`类型的对象，你可以将它想象成电子表格。"
   ]
  },
  {
   "cell_type": "code",
   "execution_count": 4,
   "metadata": {},
   "outputs": [
    {
     "data": {
      "text/plain": [
       "pandas.core.frame.DataFrame"
      ]
     },
     "execution_count": 4,
     "metadata": {},
     "output_type": "execute_result"
    }
   ],
   "source": [
    "type(yelp_raw_data)"
   ]
  },
  {
   "cell_type": "markdown",
   "metadata": {},
   "source": [
    "`DataFrame`本质上是一种二维结构，以行列结构存储数据。\n",
    "\n",
    "由于我们处理的大部分数据都是有组织数据，所以`DataFrame`是`Pandas`中使用频率仅次于`Series`的对象。\n",
    "\n",
    "##### Series\n",
    "`Series`是简化版的`DataFrame`，它只有一个维度。`Series`本质上是由数据点组成的列表。`DataFrame`的每一列都可以被看作一个`Series`对象："
   ]
  },
  {
   "cell_type": "code",
   "execution_count": 5,
   "metadata": {},
   "outputs": [
    {
     "data": {
      "text/plain": [
       "0    9yKzy9PApeiPPOUJEtnvkg\n",
       "1    ZRJwVLyzEJq1VAihDhYiow\n",
       "2    6oRAC4uyJCsJl1X0WZpVSA\n",
       "3    _1QQZuf4zZOyFCvXc0o6Vg\n",
       "4    6ozycU1RpktNG2-1BroVtw\n",
       "Name: business_id, dtype: object"
      ]
     },
     "execution_count": 5,
     "metadata": {},
     "output_type": "execute_result"
    }
   ],
   "source": [
    "yelp_raw_data['business_id'].head(5)"
   ]
  },
  {
   "cell_type": "code",
   "execution_count": 6,
   "metadata": {},
   "outputs": [
    {
     "data": {
      "text/plain": [
       "pandas.core.series.Series"
      ]
     },
     "execution_count": 6,
     "metadata": {},
     "output_type": "execute_result"
    }
   ],
   "source": [
    "type(yelp_raw_data['business_id'])"
   ]
  },
  {
   "cell_type": "markdown",
   "metadata": {},
   "source": [
    "##### 定性数据的探索技巧\n",
    "对于定性数据，我们主要关注`定类尺度`和`定序尺度`。\n",
    "\n",
    "**定类尺度列**\n",
    "对于`定类尺度`列，列名描述了该列的含义，数据类型是定性数据。在Yelp数据集中，定类尺度列有`business_id`、`review_id`、`text`、`type`和`user_id`。我们使用Pandas进行更深入的分析："
   ]
  },
  {
   "cell_type": "code",
   "execution_count": 7,
   "metadata": {},
   "outputs": [
    {
     "data": {
      "text/plain": [
       "count                      10000\n",
       "unique                      4174\n",
       "top       ntN85eu27C04nwyPa8IHtw\n",
       "freq                          37\n",
       "Name: business_id, dtype: object"
      ]
     },
     "execution_count": 7,
     "metadata": {},
     "output_type": "execute_result"
    }
   ],
   "source": [
    "yelp_raw_data['business_id'].describe()"
   ]
  },
  {
   "cell_type": "markdown",
   "metadata": {},
   "source": [
    "`Pandas`自动识别出`business_id`列为定性数据。当`describe`函数作用于定性数据时，我们将得到以下4个统计信息：\n",
    "+ `count`：该列含有多少个值\n",
    "+ `unique`：该列含有多少个非重复值\n",
    "+ `top`：该列出现次数最多的值\n",
    "+ `freq`：该列出现次数最多的值的次数\n",
    "\n",
    "对于`定类尺度`数据，我们通常观察以下几个特征，以决定是否需要进行数据转换:\n",
    "+ 非重复项的个数是否合理(通常小于20个)？\n",
    "+ 该列是自由文本吗？\n",
    "+ 该列所有的行都不重复吗？ \n",
    "\n",
    "我们已经知道`business_id`列有10000个值，但千万别被骗了！这并不意味着真的有10000条交易评价，它仅仅意味着`business_id`列被填充了10000次。统计指标`unique`显示数据集有4174个不重复的餐馆，其中被评价次数最多的餐馆是`JokKtdXU7zXHcr20Lrk29A`， 总评价次数是37次。"
   ]
  },
  {
   "cell_type": "code",
   "execution_count": 8,
   "metadata": {},
   "outputs": [
    {
     "data": {
      "text/plain": [
       "count                      10000\n",
       "unique                     10000\n",
       "top       iUW-BlT3Nyn96HX3uEJxNA\n",
       "freq                           1\n",
       "Name: review_id, dtype: object"
      ]
     },
     "execution_count": 8,
     "metadata": {},
     "output_type": "execute_result"
    }
   ],
   "source": [
    "yelp_raw_data['review_id'].describe()"
   ]
  },
  {
   "cell_type": "markdown",
   "metadata": {},
   "source": [
    "`count`和`unique`值均为10000。请你结合每一行和每一列代表的意思，思考几秒，这个结果合理吗？\n",
    "\n",
    "当然是合理的！因为该列是每条评价的唯一识别码，每一行代表独立的、不重复的点评，所以`review_id`列含有10000个不重复值是合理的。`eTa5KD-LTgQv6UT1 Zmijmw`是出现次数最多的值，它只是从10000个值中随机选择的结果。"
   ]
  },
  {
   "cell_type": "code",
   "execution_count": 9,
   "metadata": {},
   "outputs": [
    {
     "data": {
      "text/plain": [
       "count                                                 10000\n",
       "unique                                                 9998\n",
       "top       This review is for the chain in general. The l...\n",
       "freq                                                      2\n",
       "Name: text, dtype: object"
      ]
     },
     "execution_count": 9,
     "metadata": {},
     "output_type": "execute_result"
    }
   ],
   "source": [
    "yelp_raw_data['text'].describe()"
   ]
  },
  {
   "cell_type": "markdown",
   "metadata": {},
   "source": [
    "`text`列有点意思，它是用户撰写的评价。理论上，我们认为它也是不重复的文本，因为如果两个不同的人撰写的评价完全一致会非常诡异。但是，数据集中恰恰有两条评价完全一样！下面让我们花点时间学习一下`DataFrame`的数据筛选功能，然后再研究这一奇怪现象。\n",
    "\n",
    "**Pandas中的筛选** 在`Pandas`中，基于特定条件对行进行筛选非常简单。对于DataFrame对象，只需一行一行检查是否满足特定条件即可，同时`Pandas`将判断结果存在一个`Series`对象中。\n",
    "\n",
    "下面从数据集中提取出现两次的文本："
   ]
  },
  {
   "cell_type": "code",
   "execution_count": 10,
   "metadata": {},
   "outputs": [
    {
     "data": {
      "text/plain": [
       "\"This review is for the chain in general. The location we went to is new so it isn't in Yelp yet. Once it is I will put this review there as well. We were there on Friday at 5 PM. \\r\\n\\r\\nThe reason I gave it 2 stars is because the burger was very good and it was made the way I asked for it. My husbands burger was not.\\r\\n\\r\\nBut, the server and the fries left a lot to be desired. Let me preface by saying that we had been to several other locations. I like my fries crispy. I ask for them well done, extra crispy, scorched, tortured hollow tubes. Whatever their buzz word is for well done. The location will comply. EVERY OTHER 5 GUYS HAS COMPLIED. But not the one at TATUM AND SHEA. She said that corporate said they are not to cook the fries that way. So if we were to put up with soggy fries - yes soggy, then we did not want them. \\r\\n\\r\\nShe also interrupted us several times which is rude. THEN she went and called corporate just to double check for us and she came to the table and said they said no they were not to cook them that way. Seriously? We did not ask for her to do this. She actually accused us of being undercover shoppers. We started to say something and then again- she interupted.\\r\\n\\r\\nListen, if you explain that our choice is not how the company wishes to present their product and we still choose to have them a different way, you should comply. It is after all our money and our decision. I was raised with the rules that #1 the customer is always right. And #2 if the customer is wrong REFER TO RULE NUMBER 1!!\\r\\n\\r\\nWe will not return. They have lost our business and I hope she loses her job.\\r\\nIf you want to try a really good burger AND FRIES place- go to Paradise Valley Burger Company at 40th Street and Bell. You will not be disappointed.\""
      ]
     },
     "execution_count": 10,
     "metadata": {},
     "output_type": "execute_result"
    }
   ],
   "source": [
    "duplicate_text = yelp_raw_data['text'].describe()['top']\n",
    "duplicate_text"
   ]
  },
  {
   "cell_type": "markdown",
   "metadata": {},
   "source": [
    "我们已经找出了重复文本，下面来创建判断真或假的`Series`对象："
   ]
  },
  {
   "cell_type": "code",
   "execution_count": 11,
   "metadata": {},
   "outputs": [],
   "source": [
    "text_is_the_duplicate = yelp_raw_data['text'] == duplicate_text"
   ]
  },
  {
   "cell_type": "markdown",
   "metadata": {},
   "source": [
    "上面的代码将数据集中的`text`列和重复文本`duplicate_text`进行比较。这看起来有点不可思议，因为在将含有10000个元素的列表和1条文本做比较。\n",
    "\n",
    "事实上，当我们将`Series`对象和另一个对象做比较时，相当于将`Series`中每个元素和该对象做比较，返回的结果是一个和`Series`对象长度相同的新`Series`对象:"
   ]
  },
  {
   "cell_type": "code",
   "execution_count": 12,
   "metadata": {},
   "outputs": [
    {
     "data": {
      "text/plain": [
       "pandas.core.series.Series"
      ]
     },
     "execution_count": 12,
     "metadata": {},
     "output_type": "execute_result"
    }
   ],
   "source": [
    "# it is a Series of Trues and Falses\n",
    "type(text_is_the_duplicate) "
   ]
  },
  {
   "cell_type": "code",
   "execution_count": 13,
   "metadata": {},
   "outputs": [
    {
     "data": {
      "text/plain": [
       "0    False\n",
       "1    False\n",
       "2    False\n",
       "3    False\n",
       "4    False\n",
       "Name: text, dtype: bool"
      ]
     },
     "execution_count": 13,
     "metadata": {},
     "output_type": "execute_result"
    }
   ],
   "source": [
    "# shows a few Falses out of the Series\n",
    "text_is_the_duplicate.head(5) "
   ]
  },
  {
   "cell_type": "markdown",
   "metadata": {},
   "source": [
    "Python可以像对数值一样，对真和假进行相加或相减。比如，`真+假-真+假+真==1`。所以，我们可以通过将`Series`对象的值相加来验证其是否正确："
   ]
  },
  {
   "cell_type": "code",
   "execution_count": 14,
   "metadata": {},
   "outputs": [
    {
     "data": {
      "text/plain": [
       "2"
      ]
     },
     "execution_count": 14,
     "metadata": {},
     "output_type": "execute_result"
    }
   ],
   "source": [
    "sum(text_is_the_duplicate)"
   ]
  },
  {
   "cell_type": "markdown",
   "metadata": {},
   "source": [
    "现在，我们已经有了布尔型`Series`对象，我们可以用括号将它传入`DataFrame`数据集中，得到筛选后的结果："
   ]
  },
  {
   "cell_type": "code",
   "execution_count": 15,
   "metadata": {},
   "outputs": [
    {
     "data": {
      "text/html": [
       "<div>\n",
       "<style scoped>\n",
       "    .dataframe tbody tr th:only-of-type {\n",
       "        vertical-align: middle;\n",
       "    }\n",
       "\n",
       "    .dataframe tbody tr th {\n",
       "        vertical-align: top;\n",
       "    }\n",
       "\n",
       "    .dataframe thead th {\n",
       "        text-align: right;\n",
       "    }\n",
       "</style>\n",
       "<table border=\"1\" class=\"dataframe\">\n",
       "  <thead>\n",
       "    <tr style=\"text-align: right;\">\n",
       "      <th></th>\n",
       "      <th>business_id</th>\n",
       "      <th>date</th>\n",
       "      <th>review_id</th>\n",
       "      <th>stars</th>\n",
       "      <th>text</th>\n",
       "      <th>type</th>\n",
       "      <th>user_id</th>\n",
       "      <th>cool</th>\n",
       "      <th>useful</th>\n",
       "      <th>funny</th>\n",
       "    </tr>\n",
       "  </thead>\n",
       "  <tbody>\n",
       "    <tr>\n",
       "      <th>4372</th>\n",
       "      <td>jvvh4Q00Hq2XyIcfmAAT2A</td>\n",
       "      <td>2012-06-16</td>\n",
       "      <td>ivGRamFF3KurE9bjkl6uMw</td>\n",
       "      <td>2</td>\n",
       "      <td>This review is for the chain in general. The l...</td>\n",
       "      <td>review</td>\n",
       "      <td>KLekdmo4FdNnP0huUhzZNw</td>\n",
       "      <td>0</td>\n",
       "      <td>0</td>\n",
       "      <td>0</td>\n",
       "    </tr>\n",
       "    <tr>\n",
       "      <th>9680</th>\n",
       "      <td>rIonUa02zMz_ki8eF-Adug</td>\n",
       "      <td>2012-06-16</td>\n",
       "      <td>mutQE6UfjLIpJ8Wozpq5UA</td>\n",
       "      <td>2</td>\n",
       "      <td>This review is for the chain in general. The l...</td>\n",
       "      <td>review</td>\n",
       "      <td>KLekdmo4FdNnP0huUhzZNw</td>\n",
       "      <td>0</td>\n",
       "      <td>0</td>\n",
       "      <td>0</td>\n",
       "    </tr>\n",
       "  </tbody>\n",
       "</table>\n",
       "</div>"
      ],
      "text/plain": [
       "                 business_id        date               review_id  stars  \\\n",
       "4372  jvvh4Q00Hq2XyIcfmAAT2A  2012-06-16  ivGRamFF3KurE9bjkl6uMw      2   \n",
       "9680  rIonUa02zMz_ki8eF-Adug  2012-06-16  mutQE6UfjLIpJ8Wozpq5UA      2   \n",
       "\n",
       "                                                   text    type  \\\n",
       "4372  This review is for the chain in general. The l...  review   \n",
       "9680  This review is for the chain in general. The l...  review   \n",
       "\n",
       "                     user_id  cool  useful  funny  \n",
       "4372  KLekdmo4FdNnP0huUhzZNw     0       0      0  \n",
       "9680  KLekdmo4FdNnP0huUhzZNw     0       0      0  "
      ]
     },
     "execution_count": 15,
     "metadata": {},
     "output_type": "execute_result"
    }
   ],
   "source": [
    "filtered_dataframe = yelp_raw_data[text_is_the_duplicate]\n",
    "filtered_dataframe"
   ]
  },
  {
   "cell_type": "markdown",
   "metadata": {},
   "source": [
    "看起来我们的猜测是对的：某人在同一天、给同一连锁品牌的两家餐馆，撰写了相同的评语。\n",
    "\n",
    "接着分析其他列："
   ]
  },
  {
   "cell_type": "code",
   "execution_count": 16,
   "metadata": {},
   "outputs": [
    {
     "data": {
      "text/plain": [
       "count      10000\n",
       "unique         1\n",
       "top       review\n",
       "freq       10000\n",
       "Name: type, dtype: object"
      ]
     },
     "execution_count": 16,
     "metadata": {},
     "output_type": "execute_result"
    }
   ],
   "source": [
    "yelp_raw_data['type'].describe()"
   ]
  },
  {
   "cell_type": "markdown",
   "metadata": {},
   "source": [
    "统计显示该列的列值只有一个：`review`。 "
   ]
  },
  {
   "cell_type": "code",
   "execution_count": 17,
   "metadata": {},
   "outputs": [
    {
     "data": {
      "text/plain": [
       "count                      10000\n",
       "unique                      6403\n",
       "top       fczQCSmaWF78toLEmb0Zsw\n",
       "freq                          38\n",
       "Name: user_id, dtype: object"
      ]
     },
     "execution_count": 17,
     "metadata": {},
     "output_type": "execute_result"
    }
   ],
   "source": [
    "yelp_raw_data['user_id'].describe()"
   ]
  },
  {
   "cell_type": "markdown",
   "metadata": {},
   "source": [
    "和`business_id`类似，数据集由`6403`个用户的评价组成，其中评价次数最多的用户评价了`38`次！\n",
    "\n",
    "**定序尺度列**\n",
    "只有`date`和`stars`列属于定序尺度："
   ]
  },
  {
   "cell_type": "code",
   "execution_count": 18,
   "metadata": {},
   "outputs": [
    {
     "data": {
      "text/plain": [
       "count    10000.000000\n",
       "mean         3.777500\n",
       "std          1.214636\n",
       "min          1.000000\n",
       "25%          3.000000\n",
       "50%          4.000000\n",
       "75%          5.000000\n",
       "max          5.000000\n",
       "Name: stars, dtype: float64"
      ]
     },
     "execution_count": 18,
     "metadata": {},
     "output_type": "execute_result"
    }
   ],
   "source": [
    "yelp_raw_data['stars'].describe()"
   ]
  },
  {
   "cell_type": "markdown",
   "metadata": {},
   "source": [
    "虽然该列是`定序尺度`，但`describe`方法将其看作`定量数据`，并返回相应的统计信息。 这是因为软件识别到一串数值后，以为我们希望查看平均值、最小值和最大值，这是正确的。\n",
    "\n",
    "我们接着使用`value_counts`方法查看字段值的分布情况："
   ]
  },
  {
   "cell_type": "code",
   "execution_count": 19,
   "metadata": {},
   "outputs": [
    {
     "data": {
      "text/plain": [
       "4    3526\n",
       "5    3337\n",
       "3    1461\n",
       "2     927\n",
       "1     749\n",
       "Name: stars, dtype: int64"
      ]
     },
     "execution_count": 19,
     "metadata": {},
     "output_type": "execute_result"
    }
   ],
   "source": [
    "yelp_raw_data['stars'].value_counts()"
   ]
  },
  {
   "cell_type": "markdown",
   "metadata": {},
   "source": [
    "`value_counts`方法用于统计指定列字段值的分布。我们首先按照星级排序，再使用内置的`plot`方法制作条形图："
   ]
  },
  {
   "cell_type": "code",
   "execution_count": 20,
   "metadata": {},
   "outputs": [
    {
     "data": {
      "text/plain": [
       "<matplotlib.axes._subplots.AxesSubplot at 0x7f37e2cd23c8>"
      ]
     },
     "execution_count": 20,
     "metadata": {},
     "output_type": "execute_result"
    },
    {
     "data": {
      "image/png": "[encoded data removed]",
      "text/plain": [
       "<Figure size 432x288 with 1 Axes>"
      ]
     },
     "metadata": {
      "needs_background": "light"
     },
     "output_type": "display_data"
    }
   ],
   "source": [
    "dates = yelp_raw_data['stars'].value_counts() \n",
    "dates.sort_values()\n",
    "dates.plot(kind='bar')"
   ]
  },
  {
   "cell_type": "markdown",
   "metadata": {},
   "source": [
    "### 3.3.3 数据集2：泰坦尼克\n",
    "泰坦尼克数据集是包含乘客信息的样本数据。"
   ]
  },
  {
   "cell_type": "code",
   "execution_count": 21,
   "metadata": {},
   "outputs": [
    {
     "data": {
      "text/html": [
       "<div>\n",
       "<style scoped>\n",
       "    .dataframe tbody tr th:only-of-type {\n",
       "        vertical-align: middle;\n",
       "    }\n",
       "\n",
       "    .dataframe tbody tr th {\n",
       "        vertical-align: top;\n",
       "    }\n",
       "\n",
       "    .dataframe thead th {\n",
       "        text-align: right;\n",
       "    }\n",
       "</style>\n",
       "<table border=\"1\" class=\"dataframe\">\n",
       "  <thead>\n",
       "    <tr style=\"text-align: right;\">\n",
       "      <th></th>\n",
       "      <th>Survived</th>\n",
       "      <th>Pclass</th>\n",
       "      <th>Name</th>\n",
       "      <th>Sex</th>\n",
       "      <th>Age</th>\n",
       "    </tr>\n",
       "  </thead>\n",
       "  <tbody>\n",
       "    <tr>\n",
       "      <th>0</th>\n",
       "      <td>0</td>\n",
       "      <td>3</td>\n",
       "      <td>Braund, Mr. Owen Harris</td>\n",
       "      <td>male</td>\n",
       "      <td>22.0</td>\n",
       "    </tr>\n",
       "    <tr>\n",
       "      <th>1</th>\n",
       "      <td>1</td>\n",
       "      <td>1</td>\n",
       "      <td>Cumings, Mrs. John Bradley (Florence Briggs Th...</td>\n",
       "      <td>female</td>\n",
       "      <td>38.0</td>\n",
       "    </tr>\n",
       "    <tr>\n",
       "      <th>2</th>\n",
       "      <td>1</td>\n",
       "      <td>3</td>\n",
       "      <td>Heikkinen, Miss. Laina</td>\n",
       "      <td>female</td>\n",
       "      <td>26.0</td>\n",
       "    </tr>\n",
       "    <tr>\n",
       "      <th>3</th>\n",
       "      <td>1</td>\n",
       "      <td>1</td>\n",
       "      <td>Futrelle, Mrs. Jacques Heath (Lily May Peel)</td>\n",
       "      <td>female</td>\n",
       "      <td>35.0</td>\n",
       "    </tr>\n",
       "    <tr>\n",
       "      <th>4</th>\n",
       "      <td>0</td>\n",
       "      <td>3</td>\n",
       "      <td>Allen, Mr. William Henry</td>\n",
       "      <td>male</td>\n",
       "      <td>35.0</td>\n",
       "    </tr>\n",
       "  </tbody>\n",
       "</table>\n",
       "</div>"
      ],
      "text/plain": [
       "   Survived  Pclass                                               Name  \\\n",
       "0         0       3                            Braund, Mr. Owen Harris   \n",
       "1         1       1  Cumings, Mrs. John Bradley (Florence Briggs Th...   \n",
       "2         1       3                             Heikkinen, Miss. Laina   \n",
       "3         1       1       Futrelle, Mrs. Jacques Heath (Lily May Peel)   \n",
       "4         0       3                           Allen, Mr. William Henry   \n",
       "\n",
       "      Sex   Age  \n",
       "0    male  22.0  \n",
       "1  female  38.0  \n",
       "2  female  26.0  \n",
       "3  female  35.0  \n",
       "4    male  35.0  "
      ]
     },
     "execution_count": 21,
     "metadata": {},
     "output_type": "execute_result"
    }
   ],
   "source": [
    "titanic = pd.read_csv('data/short_titanic.csv') \n",
    "titanic.head()"
   ]
  },
  {
   "cell_type": "code",
   "execution_count": 22,
   "metadata": {},
   "outputs": [
    {
     "data": {
      "text/plain": [
       "(891, 5)"
      ]
     },
     "execution_count": 22,
     "metadata": {},
     "output_type": "execute_result"
    }
   ],
   "source": [
    "titanic.shape"
   ]
  },
  {
   "cell_type": "markdown",
   "metadata": {},
   "source": [
    "数据集有891行和5列，每一行代表一名乘客，每一列的含义如下。\n",
    "+ Survived：这是一个二元变量(binary variable)，表示乘客是否在灾难中幸存，`1`表示幸存，`0`表示罹难。该字段为定类尺度，因为字段值仅有两个\n",
    "+ Pclass：舱位等级，`3`表示三等舱，以此类推。该字段为定序尺度\n",
    "+ Name：这是乘客的姓名。该字段毫无疑问是定类尺度\n",
    "+ Sex：这是乘客的性别，定类尺度\n",
    "+ Age：这个字段有些特殊。理论上，年龄既可以是定性数据，也可以是定量数据，然而，我认为年龄应该具有定量的特征，因此它属于定比尺度\n",
    "\n",
    "通常情况下，`数据转换`是指忽略被转化列的定性特征，将其转为数值型。对于泰坦尼克数据集，我们需要将`Name`列和`Sex`列转换为数值型。对于`Sex`列，我们可以用1表示女性，0表示男性。如下所示："
   ]
  },
  {
   "cell_type": "code",
   "execution_count": 23,
   "metadata": {},
   "outputs": [
    {
     "data": {
      "text/plain": [
       "0    0\n",
       "1    1\n",
       "2    1\n",
       "3    1\n",
       "4    0\n",
       "5    0\n",
       "6    0\n",
       "7    0\n",
       "8    1\n",
       "9    1\n",
       "Name: Sex, dtype: int64"
      ]
     },
     "execution_count": 23,
     "metadata": {},
     "output_type": "execute_result"
    }
   ],
   "source": [
    "titanic['Sex'] = np.where(titanic['Sex']=='female', 1, 0)\n",
    "titanic['Sex'].head(10)"
   ]
  },
  {
   "cell_type": "markdown",
   "metadata": {},
   "source": [
    "下面快速查看所有列的信息："
   ]
  },
  {
   "cell_type": "code",
   "execution_count": 24,
   "metadata": {},
   "outputs": [
    {
     "data": {
      "text/html": [
       "<div>\n",
       "<style scoped>\n",
       "    .dataframe tbody tr th:only-of-type {\n",
       "        vertical-align: middle;\n",
       "    }\n",
       "\n",
       "    .dataframe tbody tr th {\n",
       "        vertical-align: top;\n",
       "    }\n",
       "\n",
       "    .dataframe thead th {\n",
       "        text-align: right;\n",
       "    }\n",
       "</style>\n",
       "<table border=\"1\" class=\"dataframe\">\n",
       "  <thead>\n",
       "    <tr style=\"text-align: right;\">\n",
       "      <th></th>\n",
       "      <th>Survived</th>\n",
       "      <th>Pclass</th>\n",
       "      <th>Sex</th>\n",
       "      <th>Age</th>\n",
       "    </tr>\n",
       "  </thead>\n",
       "  <tbody>\n",
       "    <tr>\n",
       "      <th>count</th>\n",
       "      <td>891.000000</td>\n",
       "      <td>891.000000</td>\n",
       "      <td>891.000000</td>\n",
       "      <td>714.000000</td>\n",
       "    </tr>\n",
       "    <tr>\n",
       "      <th>mean</th>\n",
       "      <td>0.383838</td>\n",
       "      <td>2.308642</td>\n",
       "      <td>0.352413</td>\n",
       "      <td>29.699118</td>\n",
       "    </tr>\n",
       "    <tr>\n",
       "      <th>std</th>\n",
       "      <td>0.486592</td>\n",
       "      <td>0.836071</td>\n",
       "      <td>0.477990</td>\n",
       "      <td>14.526497</td>\n",
       "    </tr>\n",
       "    <tr>\n",
       "      <th>min</th>\n",
       "      <td>0.000000</td>\n",
       "      <td>1.000000</td>\n",
       "      <td>0.000000</td>\n",
       "      <td>0.420000</td>\n",
       "    </tr>\n",
       "    <tr>\n",
       "      <th>25%</th>\n",
       "      <td>0.000000</td>\n",
       "      <td>2.000000</td>\n",
       "      <td>0.000000</td>\n",
       "      <td>20.125000</td>\n",
       "    </tr>\n",
       "    <tr>\n",
       "      <th>50%</th>\n",
       "      <td>0.000000</td>\n",
       "      <td>3.000000</td>\n",
       "      <td>0.000000</td>\n",
       "      <td>28.000000</td>\n",
       "    </tr>\n",
       "    <tr>\n",
       "      <th>75%</th>\n",
       "      <td>1.000000</td>\n",
       "      <td>3.000000</td>\n",
       "      <td>1.000000</td>\n",
       "      <td>38.000000</td>\n",
       "    </tr>\n",
       "    <tr>\n",
       "      <th>max</th>\n",
       "      <td>1.000000</td>\n",
       "      <td>3.000000</td>\n",
       "      <td>1.000000</td>\n",
       "      <td>80.000000</td>\n",
       "    </tr>\n",
       "  </tbody>\n",
       "</table>\n",
       "</div>"
      ],
      "text/plain": [
       "         Survived      Pclass         Sex         Age\n",
       "count  891.000000  891.000000  891.000000  714.000000\n",
       "mean     0.383838    2.308642    0.352413   29.699118\n",
       "std      0.486592    0.836071    0.477990   14.526497\n",
       "min      0.000000    1.000000    0.000000    0.420000\n",
       "25%      0.000000    2.000000    0.000000   20.125000\n",
       "50%      0.000000    3.000000    0.000000   28.000000\n",
       "75%      1.000000    3.000000    1.000000   38.000000\n",
       "max      1.000000    3.000000    1.000000   80.000000"
      ]
     },
     "execution_count": 24,
     "metadata": {},
     "output_type": "execute_result"
    }
   ],
   "source": [
    "titanic.describe()"
   ]
  },
  {
   "cell_type": "markdown",
   "metadata": {},
   "source": [
    "`Sex`列已经被作为定量数据对待。`Age`列仅有714个值，说明`Age`列有缺失值！我们使用`Pandas`的`isnull`和`sum`函数来验证："
   ]
  },
  {
   "cell_type": "code",
   "execution_count": 25,
   "metadata": {},
   "outputs": [
    {
     "data": {
      "text/plain": [
       "Survived      0\n",
       "Pclass        0\n",
       "Name          0\n",
       "Sex           0\n",
       "Age         177\n",
       "dtype: int64"
      ]
     },
     "execution_count": 25,
     "metadata": {},
     "output_type": "execute_result"
    }
   ],
   "source": [
    "titanic.isnull().sum()"
   ]
  },
  {
   "cell_type": "markdown",
   "metadata": {},
   "source": [
    "面对缺失值时通常有两个选择：\n",
    "+ 删除含有缺失值的行\n",
    "+ 尝试填充数据\n",
    "\n",
    "删除行是最简单的选择，但你面临着丢失有价值数据的风险。例如，本例中有177行缺失年龄信息，接近全部数据的20%。为了填充数据，我们要么查阅历史资料，找出每一个乘客的真实年龄，要么用占位符进行填充。\n",
    "\n",
    "下面我们用数据集中所有乘客的平均年龄填充缺失值："
   ]
  },
  {
   "cell_type": "code",
   "execution_count": 26,
   "metadata": {},
   "outputs": [
    {
     "data": {
      "text/plain": [
       "0"
      ]
     },
     "execution_count": 26,
     "metadata": {},
     "output_type": "execute_result"
    }
   ],
   "source": [
    "average_age = titanic['Age'].mean()\n",
    "titanic['Age'].fillna(average_age, inplace = True)\n",
    "sum(titanic['Age'].isnull())"
   ]
  },
  {
   "cell_type": "markdown",
   "metadata": {},
   "source": [
    "有了以上数据集，我们就可以回答更复杂的问题。比如，男性或女性的平均年龄分别是多少？我们可以先按性别进行筛选，再计算平均值。`Pandas`的`groupby`函数可以实现这个功能，用法如下："
   ]
  },
  {
   "cell_type": "code",
   "execution_count": 27,
   "metadata": {},
   "outputs": [
    {
     "data": {
      "text/plain": [
       "Sex\n",
       "0    30.505824\n",
       "1    28.216730\n",
       "Name: Age, dtype: float64"
      ]
     },
     "execution_count": 27,
     "metadata": {},
     "output_type": "execute_result"
    }
   ],
   "source": [
    "titanic.groupby('Sex')['Age'].mean()"
   ]
  },
  {
   "cell_type": "markdown",
   "metadata": {},
   "source": [
    "## 3.4 总结\n",
    "这是我们第一次按照数据科学的5个步骤进行数据探索。从现在起，每当我们遇到一个新的数据集，都将使用以上数据探索步骤对数据进行转换、分解和标准化。尽管本章介绍的步骤仅仅是一个指引，但为每个数据科学家 建立了工作中可遵循的实践标准。这些步骤适用于任何数据集。\n",
    "\n",
    "我们很快将进入本书的统计学、概率论和机器学习模型部分。在此之前，我们有必要掌握基础的数学知识。因此在下一章，我们将学习应用复杂模型所需的数学知识。"
   ]
  },
  {
   "cell_type": "code",
   "execution_count": null,
   "metadata": {},
   "outputs": [],
   "source": []
  }
 ],
 "metadata": {
  "kernelspec": {
   "display_name": "Python 3",
   "language": "python",
   "name": "python3"
  },
  "language_info": {
   "codemirror_mode": {
    "name": "ipython",
    "version": 3
   },
   "file_extension": ".py",
   "mimetype": "text/x-python",
   "name": "python",
   "nbconvert_exporter": "python",
   "pygments_lexer": "ipython3",
   "version": "3.6.5"
  }
 },
 "nbformat": 4,
 "nbformat_minor": 2
}
