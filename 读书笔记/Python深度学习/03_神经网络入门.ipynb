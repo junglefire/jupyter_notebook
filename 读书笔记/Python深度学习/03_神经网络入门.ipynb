{
 "cells": [
  {
   "cell_type": "code",
   "execution_count": 1,
   "metadata": {},
   "outputs": [
    {
     "name": "stderr",
     "output_type": "stream",
     "text": [
      "Using TensorFlow backend.\n"
     ]
    }
   ],
   "source": [
    "# 忽略warnings\n",
    "import warnings \n",
    "warnings.filterwarnings('ignore') \n",
    "\n",
    "import matplotlib.pyplot as plt\n",
    "import numpy as np\n",
    "\n",
    "# 导入util模块的各种方法\n",
    "from keras.utils.np_utils import to_categorical\n",
    "# 导入数据集\n",
    "from keras.datasets import boston_housing\n",
    "from keras.datasets import reuters\n",
    "from keras.datasets import imdb\n",
    "# 导入模型、优化器、损失函数等等\n",
    "from keras import optimizers\n",
    "from keras import metrics\n",
    "from keras import models\n",
    "from keras import losses\n",
    "from keras import layers"
   ]
  },
  {
   "cell_type": "markdown",
   "metadata": {},
   "source": [
    "# 03. 神经网络入门\n",
    "本章涵盖神经网络最常见的三种使用场景：二分类问题、多分类问题和标量回归问题。\n",
    "+ 将电影评论划分为正面或负面（二分类问题）\n",
    "+ 将新闻按主题分类（多分类问题）\n",
    "+ 根据房地产数据估算房屋价格（回归问题）\n",
    "\n",
    "## 3.1 神经网络剖析\n",
    "训练神经网络主要围绕以下四个方面。\n",
    "+ 层，多个层组合成网络（或模型）\n",
    "+ 输入数据和相应的目标\n",
    "+ 损失函数，即用于学习的反馈信号\n",
    "+ 优化器，决定学习过程如何进行\n",
    "\n",
    "如`图3-1`所示：多个层链接在一起组成了网络，将输入数据映射为预测值。然后损失函数将这些预测值与目标进行比较，得到损失值，用于衡量网络预测值与预期结果的匹配程度。优化器使用这个损失值来更新网络的权重。\n",
    "\n",
    "<img src=\"images/03_01.png\" style=\"width:350px;\"/>\n",
    "\n",
    "### 3.1.1 层：深度学习的基础组件\n",
    "神经网络的基本数据结构是`层`。`层`是一个数据处理模块，将一个或多个输入张量转换为一个或多个输出张量。有些层是无状态的，但大多数的层是有状态的，即层的`权重`。`权重`是利用随机梯度下降学到的一个或多个张量，其中包含网络的知识。\n",
    "\n",
    "不同的张量格式与不同的数据处理类型需要用到不同的层。例如：\n",
    "+ 简单的向量数据保存在形状为` (samples, features) `的`2D张量`中，通常用`密集连接层`［densely connected layer，也叫`全连接层`（fully connected layer）或`密集层`（dense layer），对应于`Keras`的`Dense`类］来处理\n",
    "+ 序列数据保存在形状为` (samples, timesteps, features) `的`3D张量`中，通常用`循环层`（recurrent layer，比如`Keras`的`LSTM`层）来处理\n",
    "+ 图像数据保存在`4D张量`中，通常用`二维卷积层`（`Keras`的`Conv2D`）来处理\n",
    "\n",
    "你可以将层看作深度学习的乐高积木，`Keras`等框架则将这种比喻具体化。在`Keras`中，构建深度学习模型就是将相互兼容的多个层拼接在一起，以建立有用的数据变换流程。这里`层兼容性`（layer compatibility）具体指的是每一层只接受特定形状的输入张量，并返回特定形状的输出张量。\n",
    "\n",
    "看看下面这个例子。"
   ]
  },
  {
   "cell_type": "code",
   "execution_count": 2,
   "metadata": {},
   "outputs": [
    {
     "data": {
      "text/plain": [
       "{'name': 'dense_1',\n",
       " 'trainable': True,\n",
       " 'batch_input_shape': (None, 784),\n",
       " 'dtype': 'float32',\n",
       " 'units': 32,\n",
       " 'activation': 'linear',\n",
       " 'use_bias': True,\n",
       " 'kernel_initializer': {'class_name': 'VarianceScaling',\n",
       "  'config': {'scale': 1.0,\n",
       "   'mode': 'fan_avg',\n",
       "   'distribution': 'uniform',\n",
       "   'seed': None}},\n",
       " 'bias_initializer': {'class_name': 'Zeros', 'config': {}},\n",
       " 'kernel_regularizer': None,\n",
       " 'bias_regularizer': None,\n",
       " 'activity_regularizer': None,\n",
       " 'kernel_constraint': None,\n",
       " 'bias_constraint': None}"
      ]
     },
     "execution_count": 2,
     "metadata": {},
     "output_type": "execute_result"
    }
   ],
   "source": [
    "# 有32个输出单元的密集层\n",
    "layer = layers.Dense(32, input_shape=(784,))\n",
    "layer.get_config()"
   ]
  },
  {
   "cell_type": "markdown",
   "metadata": {},
   "source": [
    "我们创建了一个层，只接受第一个维度大小为784的2D张量（第0轴是批量维度，其大小没有指定，因此可以任意取值）作为输入。这个层将返回一个张量，第一个维度的大小变成了32。因此，这个层后面只能连接一个接受32维向量作为输入的层。\n",
    "\n",
    "使用`Keras`时，你无须担心兼容性，因为向模型中添加的层都会自动匹配输入层的形状。"
   ]
  },
  {
   "cell_type": "code",
   "execution_count": 3,
   "metadata": {},
   "outputs": [],
   "source": [
    "model = models.Sequential()\n",
    "model.add(layers.Dense(32, input_shape=(784,)))\n",
    "model.add(layers.Dense(32))"
   ]
  },
  {
   "cell_type": "markdown",
   "metadata": {},
   "source": [
    "其中第二层没有输入形状（input_shape）的参数，相反，它可以自动推导出输入形状等于上一层的输出形状。\n",
    "\n",
    "### 3.1.2 模型：层构成的网络\n",
    "深度学习模型是层构成的有向无环图。最常见的例子就是层的线性堆叠，将单一输入映射为单一输出。\n",
    "\n",
    "但随着深入学习，你会接触到更多类型的网络拓扑结构。一些常见的网络拓扑结构如下：\n",
    "+ 双分支（two-branch）网络\n",
    "+ 多头（multihead）网络\n",
    "+ Inception 模块\n",
    "\n",
    "网络的拓扑结构定义了一个`假设空间`（hypothesis space）。选定了网络拓扑结构，意味着将`假设空间`限定为一系列特定的张量运算，将输入数据映射为输出数据。然后，你需要为这些张量运算的权重张量找到一组合适的值。\n",
    "\n",
    "> 机器学习可以定义为：在预先定义好的假设空间中，利用反馈信号的指引来寻找输入数据的有用表示\n",
    "\n",
    "选择正确的网络架构更像是一门艺术而不是科学。虽然有一些最佳实践和原则，但只有动手实践才能让你成为合格的神经网络架构师。\n",
    "\n",
    "### 3.1.3 损失函数与优化器：配置学习过程的关键\n",
    "一旦确定了网络架构，你还需要选择以下两个参数：\n",
    "+ 损失函数（目标函数）——在训练过程中需要将其最小化。它能够衡量当前任务是否已成功完成\n",
    "+ 优化器——决定如何基于损失函数对网络进行更新。它执行的是随机梯度下降（SGD）的某个变体\n",
    "\n",
    "具有多个输出的神经网络可能具有多个损失函数（每个输出对应一个损失函数）。但是，梯度下降过程必须基于单个标量损失值。因此，对于具有多个损失函数的网络，需要将所有损失函数取平均，变为一个标量值。\n",
    "\n",
    "选择正确的目标函数对解决问题是非常重要的。网络的目的是使损失尽可能最小化，因此，如果目标函数与成功完成当前任务不完全相关，那么网络最终得到的结果可能会不符合你的预期。\n",
    "\n",
    "你可以遵循一些简单的指导原则来选择正确的损失函数：\n",
    "+ 对于二分类问题，你可以使用`二元交叉熵`（binary crossentropy）损失函数\n",
    "+ 对于多分类问题，可以用`分类交叉熵`（categorical crossentropy）损失函数\n",
    "+ 对于回归问题，可以用`均方误差`（mean-squared error）损失函数\n",
    "+ 对于序列学习问题，可以用`联结主义时序分类`（CTC，connectionist temporal classification）损失函数，等等\n",
    "\n",
    "只有在面对真正全新的研究问题时，你才需要自主开发目标函数。\n",
    "\n",
    "## 3.2 Keras简介\n",
    "`Keras`是一个Python深度学习框架，可以方便地定义和训练几乎所有类型的深度学习模型。\n",
    "\n",
    "`Keras`具有以下重要特性：\n",
    "+ 相同的代码可以在CPU或GPU上无缝切换运行\n",
    "+ 具有用户友好的API，便于快速开发深度学习模型的原型\n",
    "+ 内置支持卷积网络（用于计算机视觉）、循环网络（用于序列处理）以及二者的任意组合\n",
    "+ 支持任意网络架构：多输入或多输出模型、层共享、模型共享等。这也就是说，Keras能够构建任意深度学习模型，无论是生成式对抗网络还是神经图灵机\n",
    "\n",
    "`Keras`是机器学习竞赛网站`Kaggle`上的热门框架，最新的深度学习竞赛中，几乎所有的优胜者用的都是`Keras`模型，如`图3-2`所示。\n",
    "\n",
    "<img src=\"images/03_02.png\" style=\"width:500px;\"/>\n",
    "\n",
    "### 3.2.1 Keras/TensorFlow/Theano和CNTK\n",
    "`Keras`是一个模型级（model-level）的库，为开发深度学习模型提供了高层次的构建模块。它不处理张量操作、求微分等低层次的运算。相反，它依赖于一个专门的、高度优化的张量库来完成这些运算，这个张量库就是`Keras`的`后端引擎`（backend engine）。`Keras`没有选择单个张量库并将`Keras`实现与这个库绑定，而是以模块化的方式处理这个问题，几个不同的后端引擎都可以无缝嵌入到`Keras`中。\n",
    "\n",
    "<img src=\"images/03_03.png\" style=\"width:300px;\"/>\n",
    "\n",
    "`TensorFlow`、`CNTK`和`Theano`是当今深度学习的几个主要平台。你用`Keras`写的每一段代码都可以在这三个后端上运行，无须任何修改。\n",
    "\n",
    "`Keras`可以在CPU和GPU上无缝运行。在CPU上运行时，`TensorFlow`本身封装了一个低层次的张量运算库，叫作`Eigen`；在GPU上运行时，`TensorFlow`封装了一个高度优化的深度学习运算库，叫作NVIDIA CUDA深度神经网络库（cuDNN）。\n",
    "\n",
    "### 3.2.2 使用Keras开发：概述\n",
    "典型的`Keras`工作流程：\n",
    "1. 定义训练数据：输入张量和目标张量\n",
    "2. 定义层组成的网络（或模型），将输入映射到目标\n",
    "3. 配置学习过程：选择损失函数、优化器和需要监控的指标\n",
    "4. 调用模型的fit方法在训练数据上进行迭代\n",
    "\n",
    "定义模型有两种方法：\n",
    "1. 使用`Sequential`类（仅用于层的线性堆叠，这是目前最常见的网络架构）\n",
    "2. 使用函数式API（functional API，用于层组成的有向无环图，让你可以构建任意形式的架构）\n",
    "\n",
    "例如，利用`Sequential`类定义的两层模型："
   ]
  },
  {
   "cell_type": "code",
   "execution_count": 4,
   "metadata": {},
   "outputs": [],
   "source": [
    "model = models.Sequential()\n",
    "model.add(layers.Dense(32, activation='relu', input_shape=(784,)))\n",
    "model.add(layers.Dense(10, activation='softmax'))"
   ]
  },
  {
   "cell_type": "markdown",
   "metadata": {},
   "source": [
    "下面是用函数式API定义的相同模型。"
   ]
  },
  {
   "cell_type": "code",
   "execution_count": 5,
   "metadata": {},
   "outputs": [],
   "source": [
    "input_tensor = layers.Input(shape=(784,))\n",
    "x = layers.Dense(32, activation='relu')(input_tensor)\n",
    "output_tensor = layers.Dense(10, activation='softmax')(x)\n",
    "\n",
    "model = models.Model(inputs=input_tensor, outputs=output_tensor)"
   ]
  },
  {
   "cell_type": "markdown",
   "metadata": {},
   "source": [
    "利用函数式API，你可以操纵模型处理的数据张量，并将层应用于这个张量，就好像这些层是函数一样。\n",
    "\n",
    "> **注意**\n",
    "> 第7章有关于函数式 API 的详细指南。在那之前，我们的代码示例中只会用到Sequential类。\n",
    "\n",
    "一旦定义好了模型架构，使用`Sequential`模型还是函数式API就不重要了。接下来的步骤都是相同的。"
   ]
  },
  {
   "cell_type": "code",
   "execution_count": 6,
   "metadata": {},
   "outputs": [],
   "source": [
    "model.compile(\n",
    "    optimizer=optimizers.RMSprop(lr=0.001),\n",
    "    loss='mse',\n",
    "    metrics=['accuracy'])"
   ]
  },
  {
   "cell_type": "markdown",
   "metadata": {},
   "source": [
    "最后，学习过程就是通过`fit()`方法将输入数据的Numpy数组（和对应的目标数据）传入模型，这一做法与`Scikit-Learn`及其他机器学习库类似。\n",
    "\n",
    "```python\n",
    "model.fit(input_tensor, target_tensor, batch_size=128, epochs=10)\n",
    "```"
   ]
  },
  {
   "cell_type": "markdown",
   "metadata": {},
   "source": [
    "## 3.3 建立深度学习工作站\n",
    "[略]\n",
    "\n",
    "\n",
    "## 3.4 电影评论分类：二分类问题\n",
    "二分类问题可能是应用最广泛的机器学习问题。在这个例子中，你将学习根据电影评论的文字内容将其划分为正面或负面。\n",
    "\n",
    "### 3.4.1 IMDB 数据集\n",
    "本节使用IMDB的50000条严重两极分化的评论。数据集被分为用于训练的25000条评论与用于测试的25000条评论，训练集和测试集都包含50%的正面评论和50%的负面评论。\n",
    "\n",
    "IMDB数据集也内置于`Keras`库，它已经过预处理：评论(单词序列)已经被转换为整数序列，其中每个整数代表字典中的某个单词。"
   ]
  },
  {
   "cell_type": "code",
   "execution_count": 7,
   "metadata": {},
   "outputs": [],
   "source": [
    "(train_data, train_labels), (test_data, test_labels) = imdb.load_data(num_words=10000)"
   ]
  },
  {
   "cell_type": "markdown",
   "metadata": {},
   "source": [
    "参数`num_words=10000`的意思是仅保留训练数据中前10000个最常出现的单词。低频单词将被舍弃。这样得到的向量数据不会太大，便于处理。\n",
    "\n",
    "`train_data`和`test_data`这两个变量都是评论组成的列表，每条评论又是单词索引组成的列表。`train_labels`和`test_labels`都是0(负面)和1(正面)组成的列表。"
   ]
  },
  {
   "cell_type": "code",
   "execution_count": 8,
   "metadata": {},
   "outputs": [
    {
     "name": "stdout",
     "output_type": "stream",
     "text": [
      "[1, 14, 22, 16, 43, 530, 973, 1622, 1385, 65, 458, 4468, 66, 3941, 4, 173, 36, 256, 5, 25, 100, 43, 838, 112, 50, 670, 2, 9, 35, 480, 284, 5, 150, 4, 172, 112, 167, 2, 336, 385, 39, 4, 172, 4536, 1111, 17, 546, 38, 13, 447, 4, 192, 50, 16, 6, 147, 2025, 19, 14, 22, 4, 1920, 4613, 469, 4, 22, 71, 87, 12, 16, 43, 530, 38, 76, 15, 13, 1247, 4, 22, 17, 515, 17, 12, 16, 626, 18, 2, 5, 62, 386, 12, 8, 316, 8, 106, 5, 4, 2223, 5244, 16, 480, 66, 3785, 33, 4, 130, 12, 16, 38, 619, 5, 25, 124, 51, 36, 135, 48, 25, 1415, 33, 6, 22, 12, 215, 28, 77, 52, 5, 14, 407, 16, 82, 2, 8, 4, 107, 117, 5952, 15, 256, 4, 2, 7, 3766, 5, 723, 36, 71, 43, 530, 476, 26, 400, 317, 46, 7, 4, 2, 1029, 13, 104, 88, 4, 381, 15, 297, 98, 32, 2071, 56, 26, 141, 6, 194, 7486, 18, 4, 226, 22, 21, 134, 476, 26, 480, 5, 144, 30, 5535, 18, 51, 36, 28, 224, 92, 25, 104, 4, 226, 65, 16, 38, 1334, 88, 12, 16, 283, 5, 16, 4472, 113, 103, 32, 15, 16, 5345, 19, 178, 32] 1\n"
     ]
    }
   ],
   "source": [
    "print(train_data[0], train_labels[0])"
   ]
  },
  {
   "cell_type": "markdown",
   "metadata": {},
   "source": [
    "由于限定为前10000个最常见的单词，单词索引都不会超过10000。"
   ]
  },
  {
   "cell_type": "code",
   "execution_count": 9,
   "metadata": {},
   "outputs": [
    {
     "data": {
      "text/plain": [
       "9999"
      ]
     },
     "execution_count": 9,
     "metadata": {},
     "output_type": "execute_result"
    }
   ],
   "source": [
    "max([max(sequence) for sequence in train_data])"
   ]
  },
  {
   "cell_type": "markdown",
   "metadata": {},
   "source": [
    "下面这段代码很有意思，你可以将某条评论迅速解码为英文单词。"
   ]
  },
  {
   "cell_type": "code",
   "execution_count": 10,
   "metadata": {},
   "outputs": [
    {
     "data": {
      "text/plain": [
       "\"? this film was just brilliant casting location scenery story direction everyone's really suited the part they played and you could just imagine being there robert ? is an amazing actor and now the same being director ? father came from the same scottish island as myself so i loved the fact there was a real connection with this film the witty remarks throughout the film were great it was just brilliant so much that i bought the film as soon as it was released for ? and would recommend it to everyone to watch and the fly fishing was amazing really cried at the end it was so sad and you know what they say if you cry at a film it must have been good and this definitely was also ? to the two little boy's that played the ? of norman and paul they were just brilliant children are often left out of the ? list i think because the stars that play them all grown up are such a big profile for the whole film but these children are amazing and should be praised for what they have done don't you think the whole story was so lovely because it was true and was someone's life after all that was shared with us all\""
      ]
     },
     "execution_count": 10,
     "metadata": {},
     "output_type": "execute_result"
    }
   ],
   "source": [
    "word_index = imdb.get_word_index()\n",
    "reverse_word_index = dict([(value, key) for (key, value) in word_index.items()])\n",
    "decoded_review = ' '.join([reverse_word_index.get(i - 3, '?') for i in train_data[0]])\n",
    "decoded_review"
   ]
  },
  {
   "cell_type": "markdown",
   "metadata": {},
   "source": [
    "### 3.4.2 准备数据\n",
    "你不能将整数序列直接输入神经网络。你需要将列表转换为张量。转换方法有以下两种：\n",
    "+ 填充列表，使其具有相同的长度，再将列表转换成形状为`(samples, word_indices)`的整数张量，然后网络第一层使用能处理这种整数张量的层（即`Embedding`层）\n",
    "+ 对列表进行one-hot编码，将其转换为0和1组成的向量。然后网络第一层可以用`Dense`层，它能够处理浮点数向量数据\n",
    "\n",
    "下面我们采用后一种方法将数据向量化。为了加深理解，你可以手动实现这一方法，如下所示。"
   ]
  },
  {
   "cell_type": "code",
   "execution_count": 11,
   "metadata": {},
   "outputs": [
    {
     "data": {
      "text/plain": [
       "array([0., 1., 1., ..., 0., 0., 0.])"
      ]
     },
     "execution_count": 11,
     "metadata": {},
     "output_type": "execute_result"
    }
   ],
   "source": [
    "def vectorize_sequences(sequences, dimension=10000):\n",
    "    # 创建一个形状为(len(sequences), dimension)的零矩阵\n",
    "    results = np.zeros((len(sequences), dimension))   \n",
    "    for i, sequence in enumerate(sequences):\n",
    "        # 将results[i]的指定索引设为1\n",
    "        results[i, sequence] = 1. \n",
    "    return results\n",
    "\n",
    "x_train = vectorize_sequences(train_data)  \n",
    "x_test = vectorize_sequences(test_data)\n",
    "\n",
    "x_train[0]"
   ]
  },
  {
   "cell_type": "markdown",
   "metadata": {},
   "source": [
    "你还应该将标签向量化，这很简单。"
   ]
  },
  {
   "cell_type": "code",
   "execution_count": 12,
   "metadata": {},
   "outputs": [],
   "source": [
    "y_train = np.asarray(train_labels).astype('float32')\n",
    "y_test = np.asarray(test_labels).astype('float32')"
   ]
  },
  {
   "cell_type": "markdown",
   "metadata": {},
   "source": [
    "现在可以将数据输入到神经网络中。\n",
    "\n",
    "### 3.4.3 构建网络\n",
    "输入数据是向量，而标签是标量（1和0），这是你会遇到的最简单的情况。有一类网络在这种问题上表现很好，就是带有`relu`激活的全连接层（`Dense`）的简单堆叠，比如`Dense(16, activation='relu')`。\n",
    "\n",
    "传入`Dense`层的参数（16）是该层隐藏单元的个数。一个`隐藏单元`（hidden unit）是该层表示空间的一个维度。每个带有`relu`激活的`Dense`层都实现了下列张量运算：\n",
    "\n",
    "```python\n",
    "output = relu(dot(W, input) + b)\n",
    "```\n",
    "\n",
    "16个隐藏单元对应的权重矩阵`W`的形状为`(input_dimension, 16)`，与`W`做点积相当于将输入数据投影到16维表示空间中（然后再加上偏置向量`b`并应用`relu`运算）。你可以将表示空间的维度直观地理解为“网络学习内部表示时所拥有的自由度”。隐藏单元越多（即更高维的表示空间），网络越能够学到更加复杂的表示，但网络的计算代价也变得更大，而且可能会导致学到不好的模式（这种模式会提高训练数据上的性能，但不会提高测试数据上的性能）。\n",
    "\n",
    "对于这种`Dense`层的堆叠，你需要确定以下两个关键架构：\n",
    "+ 网络有多少层\n",
    "+ 每层有多少个隐藏单元。\n",
    "\n",
    "第4章中的原则将会指导你对上述问题做出选择。现在你只需要相信我选择的下列架构：\n",
    "+ 两个中间层，每层都有16个隐藏单元\n",
    "+ 第三层输出一个标量，预测当前评论的情感\n",
    "+ 中间层使用`relu`作为激活函数，最后一层使用`sigmoid`激活以输出一个`0~1`范围内的概率值（表示样本的目标值等于1的可能性，即评论为正面的可能性）\n",
    "\n",
    "`relu`（rectified linear unit，整流线性单元）函数将所有负值归零（见`图3-4`），而`sigmoid`函数则将任意值“压缩”到 [0, 1] 区间内（见`图3-5`），其输出值可以看作概率值。\n",
    "\n",
    "<img src=\"images/03_04_05.png\" style=\"width:600px;\"/>\n",
    "\n",
    "`图3-6`显示了网络的结构。\n",
    "\n",
    "<img src=\"images/03_06.png\" style=\"width:250px;\"/>"
   ]
  },
  {
   "cell_type": "code",
   "execution_count": 13,
   "metadata": {},
   "outputs": [],
   "source": [
    "model = models.Sequential()\n",
    "model.add(layers.Dense(16, activation='relu', input_shape=(10000,)))\n",
    "model.add(layers.Dense(16, activation='relu'))\n",
    "model.add(layers.Dense(1, activation='sigmoid'))"
   ]
  },
  {
   "cell_type": "markdown",
   "metadata": {},
   "source": [
    "> **什么是激活函数？为什么要使用激活函数？**\n",
    "> \n",
    "> 如果没有`relu`等激活函数（也叫非线性），`Dense`层将只包含两个线性运算——点积和加法：\n",
    "> ```python\n",
    "> output = dot(W, input) + b\n",
    "> ```\n",
    ">这样`Dense`层就只能学习输入数据的线性变换（仿射变换）：该层的假设空间是从输入数据到16位空间所有可能的线性变换集合。这种假设空间非常有限，无法利用多个表示层的优势，因为多个线性层堆叠实现的仍是线性运算，添加层数并不会扩展假设空间。\n",
    "> \n",
    "> 为了得到更丰富的假设空间，从而充分利用多层表示的优势，你需要添加非线性或激活函数。`relu`是深度学习中最常用的激活函数，但还有许多其他函数可选，它们都有类似的奇怪名称，比如`prelu`、`elu`等。\n",
    "\n",
    "最后，你需要选择损失函数和优化器。由于你面对的是一个二分类问题，网络输出是一个概率值（网络最后一层使用`sigmoid`激活函数，仅包含一个单元），那么最好使用`binary_crossentropy`（二元交叉熵）损失。这并不是唯一可行的选择，比如你还可以使用`mean_squared_error`（均方误差）。但对于输出概率值的模型，`交叉熵`（crossentropy）往往是最好的选择。交叉熵是来自于信息论领域的概念，用于衡量概率分布之间的距离，在这个例子中就是真实分布与预测值之间的距离。\n",
    "\n",
    "下面的步骤是用`rmsprop`优化器和`binary_crossentropy`损失函数来配置模型。注意，我们还在训练过程中监控精度。"
   ]
  },
  {
   "cell_type": "code",
   "execution_count": 14,
   "metadata": {},
   "outputs": [
    {
     "name": "stdout",
     "output_type": "stream",
     "text": [
      "WARNING:tensorflow:From /home/alex/3rd/py-venv/lib/python3.6/site-packages/tensorflow/python/ops/nn_impl.py:180: add_dispatch_support.<locals>.wrapper (from tensorflow.python.ops.array_ops) is deprecated and will be removed in a future version.\n",
      "Instructions for updating:\n",
      "Use tf.where in 2.0, which has the same broadcast rule as np.where\n"
     ]
    }
   ],
   "source": [
    "model.compile(\n",
    "    optimizer='rmsprop',\n",
    "    loss='binary_crossentropy',\n",
    "    metrics=['accuracy'])"
   ]
  },
  {
   "cell_type": "markdown",
   "metadata": {},
   "source": [
    "有时你可能希望配置自定义优化器的参数，或者传入自定义的损失函数或指标函数。前者可通过向`optimizer`参数传入一个优化器类实例来实现，后者可通过向`loss`和`metrics`参数传入函数对象来实现。"
   ]
  },
  {
   "cell_type": "code",
   "execution_count": 15,
   "metadata": {},
   "outputs": [],
   "source": [
    "model.compile(\n",
    "    optimizer=optimizers.RMSprop(lr=0.001),\n",
    "    loss='binary_crossentropy',\n",
    "    metrics=['accuracy'])"
   ]
  },
  {
   "cell_type": "code",
   "execution_count": 16,
   "metadata": {},
   "outputs": [],
   "source": [
    "model.compile(\n",
    "    optimizer=optimizers.RMSprop(lr=0.001),\n",
    "    loss=losses.binary_crossentropy,\n",
    "    metrics=[metrics.binary_accuracy])"
   ]
  },
  {
   "cell_type": "markdown",
   "metadata": {},
   "source": [
    "### 3.4.4 验证你的方法\n",
    "为了在训练过程中监控模型在前所未见的数据上的精度，你需要将原始训练数据留出10000个样本作为验证集。"
   ]
  },
  {
   "cell_type": "code",
   "execution_count": 17,
   "metadata": {},
   "outputs": [],
   "source": [
    "x_val = x_train[:10000]\n",
    "partial_x_train = x_train[10000:]\n",
    "\n",
    "y_val = y_train[:10000]\n",
    "partial_y_train = y_train[10000:]"
   ]
  },
  {
   "cell_type": "markdown",
   "metadata": {},
   "source": [
    "现在使用512个样本组成的小批量，将模型训练20个轮次（即对`partial_x_train`和`partial_y_train`两个张量中的所有样本进行20次迭代）。与此同时，你还要监控在留出的10000个样本上的损失和精度。你可以通过将验证数据传入`validation_data`参数来完成。"
   ]
  },
  {
   "cell_type": "code",
   "execution_count": 18,
   "metadata": {},
   "outputs": [
    {
     "name": "stdout",
     "output_type": "stream",
     "text": [
      "WARNING:tensorflow:From /home/alex/3rd/py-venv/lib/python3.6/site-packages/keras/backend/tensorflow_backend.py:422: The name tf.global_variables is deprecated. Please use tf.compat.v1.global_variables instead.\n",
      "\n",
      "Train on 15000 samples, validate on 10000 samples\n",
      "Epoch 1/20\n",
      "15000/15000 [==============================] - 2s 164us/step - loss: 0.5215 - acc: 0.7777 - val_loss: 0.4012 - val_acc: 0.8724\n",
      "Epoch 2/20\n",
      "15000/15000 [==============================] - 2s 122us/step - loss: 0.3206 - acc: 0.9009 - val_loss: 0.3284 - val_acc: 0.8766\n",
      "Epoch 3/20\n",
      "15000/15000 [==============================] - 2s 123us/step - loss: 0.2328 - acc: 0.9276 - val_loss: 0.3126 - val_acc: 0.8733\n",
      "Epoch 4/20\n",
      "15000/15000 [==============================] - 2s 126us/step - loss: 0.1818 - acc: 0.9413 - val_loss: 0.2768 - val_acc: 0.8902\n",
      "Epoch 5/20\n",
      "15000/15000 [==============================] - 2s 112us/step - loss: 0.1477 - acc: 0.9533 - val_loss: 0.3113 - val_acc: 0.8771\n",
      "Epoch 6/20\n",
      "15000/15000 [==============================] - 2s 113us/step - loss: 0.1187 - acc: 0.9645 - val_loss: 0.3281 - val_acc: 0.8761\n",
      "Epoch 7/20\n",
      "15000/15000 [==============================] - 2s 125us/step - loss: 0.1006 - acc: 0.9711 - val_loss: 0.3083 - val_acc: 0.8817\n",
      "Epoch 8/20\n",
      "15000/15000 [==============================] - 2s 121us/step - loss: 0.0833 - acc: 0.9767 - val_loss: 0.3369 - val_acc: 0.8779\n",
      "Epoch 9/20\n",
      "15000/15000 [==============================] - 2s 117us/step - loss: 0.0677 - acc: 0.9834 - val_loss: 0.3415 - val_acc: 0.8814\n",
      "Epoch 10/20\n",
      "15000/15000 [==============================] - 2s 125us/step - loss: 0.0561 - acc: 0.9866 - val_loss: 0.3659 - val_acc: 0.8798\n",
      "Epoch 11/20\n",
      "15000/15000 [==============================] - 2s 125us/step - loss: 0.0444 - acc: 0.9898 - val_loss: 0.4009 - val_acc: 0.8763\n",
      "Epoch 12/20\n",
      "15000/15000 [==============================] - 2s 122us/step - loss: 0.0370 - acc: 0.9915 - val_loss: 0.4258 - val_acc: 0.8748\n",
      "Epoch 13/20\n",
      "15000/15000 [==============================] - 2s 121us/step - loss: 0.0284 - acc: 0.9946 - val_loss: 0.4532 - val_acc: 0.8731\n",
      "Epoch 14/20\n",
      "15000/15000 [==============================] - 2s 124us/step - loss: 0.0238 - acc: 0.9958 - val_loss: 0.4858 - val_acc: 0.8715\n",
      "Epoch 15/20\n",
      "15000/15000 [==============================] - 2s 123us/step - loss: 0.0166 - acc: 0.9977 - val_loss: 0.5117 - val_acc: 0.8714\n",
      "Epoch 16/20\n",
      "15000/15000 [==============================] - 2s 123us/step - loss: 0.0153 - acc: 0.9979 - val_loss: 0.5528 - val_acc: 0.8688\n",
      "Epoch 17/20\n",
      "15000/15000 [==============================] - 2s 115us/step - loss: 0.0121 - acc: 0.9984 - val_loss: 0.5702 - val_acc: 0.8705\n",
      "Epoch 18/20\n",
      "15000/15000 [==============================] - 2s 109us/step - loss: 0.0100 - acc: 0.9987 - val_loss: 0.6067 - val_acc: 0.8688\n",
      "Epoch 19/20\n",
      "15000/15000 [==============================] - 2s 116us/step - loss: 0.0049 - acc: 0.9999 - val_loss: 0.6334 - val_acc: 0.8695\n",
      "Epoch 20/20\n",
      "15000/15000 [==============================] - 2s 120us/step - loss: 0.0085 - acc: 0.9983 - val_loss: 0.6678 - val_acc: 0.8672\n"
     ]
    }
   ],
   "source": [
    "model.compile(\n",
    "    optimizer='rmsprop',\n",
    "    loss='binary_crossentropy',\n",
    "    metrics=['acc'])\n",
    "\n",
    "history = model.fit(partial_x_train, partial_y_train, epochs=20, batch_size=512, validation_data=(x_val, y_val))"
   ]
  },
  {
   "cell_type": "markdown",
   "metadata": {},
   "source": [
    "在CPU上运行，每轮的时间不到2秒，训练过程将在20秒内结束。每轮结束时会有短暂的停顿，因为模型要计算在验证集的10000个样本上的损失和精度。\n",
    "\n",
    "> **注意**，调用`model.fit()`返回了一个`History`对象。这个对象有一个成员`history`，它是一个字典，包含训练过程中的所有数据\n",
    "\n"
   ]
  },
  {
   "cell_type": "code",
   "execution_count": 19,
   "metadata": {},
   "outputs": [
    {
     "data": {
      "text/plain": [
       "dict_keys(['val_loss', 'val_acc', 'loss', 'acc'])"
      ]
     },
     "execution_count": 19,
     "metadata": {},
     "output_type": "execute_result"
    }
   ],
   "source": [
    "history_dict = history.history\n",
    "history_dict.keys()"
   ]
  },
  {
   "cell_type": "markdown",
   "metadata": {},
   "source": [
    "字典中包含4个条目，对应训练过程和验证过程中监控的指标。\n",
    "\n",
    "绘制训练损失和验证损失："
   ]
  },
  {
   "cell_type": "code",
   "execution_count": 20,
   "metadata": {},
   "outputs": [
    {
     "data": {
      "image/png": "[encoded data removed]",
      "text/plain": [
       "<Figure size 432x288 with 1 Axes>"
      ]
     },
     "metadata": {
      "needs_background": "light"
     },
     "output_type": "display_data"
    }
   ],
   "source": [
    "history_dict = history.history\n",
    "loss_values = history_dict['loss']\n",
    "val_loss_values = history_dict['val_loss']\n",
    "\n",
    "epochs = range(1, len(loss_values) + 1)\n",
    "\n",
    "# 'bo'表示蓝色圆点\n",
    "plt.plot(epochs, loss_values, 'bo', label='Training loss') \n",
    "# 'b'表示蓝色实线\n",
    "plt.plot(epochs, val_loss_values, 'b', label='Validation loss') \n",
    "plt.title('Training and validation loss')\n",
    "plt.xlabel('Epochs')\n",
    "plt.ylabel('Loss')\n",
    "plt.legend()\n",
    "\n",
    "plt.show()"
   ]
  },
  {
   "cell_type": "markdown",
   "metadata": {},
   "source": [
    "绘制训练精度和验证精度："
   ]
  },
  {
   "cell_type": "code",
   "execution_count": 21,
   "metadata": {},
   "outputs": [
    {
     "data": {
      "image/png": "[encoded data removed]",
      "text/plain": [
       "<Figure size 432x288 with 1 Axes>"
      ]
     },
     "metadata": {
      "needs_background": "light"
     },
     "output_type": "display_data"
    }
   ],
   "source": [
    "# 清空图像\n",
    "plt.clf() \n",
    "acc = history_dict['acc']\n",
    "val_acc = history_dict['val_acc']\n",
    "\n",
    "plt.plot(epochs, acc, 'bo', label='Training acc')\n",
    "plt.plot(epochs, val_acc, 'b', label='Validation acc')\n",
    "plt.title('Training and validation accuracy')\n",
    "plt.xlabel('Epochs')\n",
    "plt.ylabel('Accuracy')\n",
    "plt.legend()\n",
    "\n",
    "plt.show()"
   ]
  },
  {
   "cell_type": "markdown",
   "metadata": {},
   "source": [
    "如你所见，训练损失每轮都在降低，训练精度每轮都在提升。这就是梯度下降优化的预期结果。但验证损失和验证精度并非如此：它们似乎在第四轮达到最佳值：模型在训练数据上的表现越来越好，但在前所未见的数据上不一定表现得越来越好。这就是`过拟合`（overfit）。\n",
    "\n",
    "为了防止过拟合，你可以在3轮之后停止训练。通常来说，你可以使用许多方法来降低过拟合，我们将在第4章中详细介绍。\n",
    "\n",
    "我们从头开始训练一个新的网络，训练4轮，然后在测试数据上评估模型。"
   ]
  },
  {
   "cell_type": "code",
   "execution_count": 22,
   "metadata": {},
   "outputs": [
    {
     "name": "stdout",
     "output_type": "stream",
     "text": [
      "Epoch 1/4\n",
      "25000/25000 [==============================] - 2s 70us/step - loss: 0.4639 - accuracy: 0.8185\n",
      "Epoch 2/4\n",
      "25000/25000 [==============================] - 2s 63us/step - loss: 0.2613 - accuracy: 0.9089\n",
      "Epoch 3/4\n",
      "25000/25000 [==============================] - 2s 63us/step - loss: 0.2038 - accuracy: 0.9266\n",
      "Epoch 4/4\n",
      "25000/25000 [==============================] - 2s 63us/step - loss: 0.1696 - accuracy: 0.9410\n",
      "25000/25000 [==============================] - 1s 53us/step\n"
     ]
    }
   ],
   "source": [
    "model = models.Sequential()\n",
    "model.add(layers.Dense(16, activation='relu', input_shape=(10000,)))\n",
    "model.add(layers.Dense(16, activation='relu'))\n",
    "model.add(layers.Dense(1, activation='sigmoid'))\n",
    "\n",
    "model.compile(\n",
    "    optimizer='rmsprop',\n",
    "    loss='binary_crossentropy',\n",
    "    metrics=['accuracy'])\n",
    "\n",
    "model.fit(x_train, y_train, epochs=4, batch_size=512)\n",
    "results = model.evaluate(x_test, y_test)"
   ]
  },
  {
   "cell_type": "code",
   "execution_count": 23,
   "metadata": {},
   "outputs": [
    {
     "data": {
      "text/plain": [
       "[0.2898914954185486, 0.8851600289344788]"
      ]
     },
     "execution_count": 23,
     "metadata": {},
     "output_type": "execute_result"
    }
   ],
   "source": [
    "results"
   ]
  },
  {
   "cell_type": "markdown",
   "metadata": {},
   "source": [
    "这种相当简单的方法得到了`88%`的精度。利用最先进的方法，你应该能够得到接近`95%`的精度。\n",
    "\n",
    "### 3.4.6 进一步的实验\n",
    "通过以下实验，你可以确信前面选择的网络架构是非常合理的，虽然仍有改进的空间：\n",
    "+ 前面使用了两个隐藏层。你可以尝试使用一个或三个隐藏层，然后观察对验证精度和测试精度的影响\n",
    "+ 尝试使用更多或更少的隐藏单元，比如32个、64个等\n",
    "+ 尝试使用`mse`损失函数代替`binary_crossentropy`\n",
    "尝试使用`tanh`激活代替`relu`\n",
    "\n",
    "### 3.4.7 小结\n",
    "下面是你应该从这个例子中学到的要点：\n",
    "+ 通常需要对原始数据进行大量预处理，以便将其转换为张量输入到神经网络中。单词序列可以编码为二进制向量，但也有其他编码方式\n",
    "+ 带有`relu`激活的`Dense`层堆叠，可以解决很多种问题（包括情感分类），你可能会经常用到这种模型\n",
    "+ 对于二分类问题（两个输出类别），网络的最后一层应该是只有一个单元并使用`sigmoid`激活的`Dense`层，网络输出应该是`0~1`范围内的标量，表示概率值\n",
    "+ 对于二分类问题的`sigmoid`标量输出，你应该使用`binary_crossentropy`损失函数\n",
    "+ 无论你的问题是什么，`rmsprop`优化器通常都是足够好的选择。这一点你无须担心\n",
    "+ 随着神经网络在训练数据上的表现越来越好，模型最终会过拟合，并在前所未见的数据上得到越来越差的结果。一定要一直监控模型在训练集之外的数据上的性能"
   ]
  },
  {
   "cell_type": "markdown",
   "metadata": {},
   "source": [
    "## 3.5 新闻分类：多分类问题\n",
    "本节你会构建一个网络，将路透社新闻划分为46个互斥的主题。因为有多个类别，所以这是`多分类`（multiclass classification）问题。因为每个数据点只能划分到一个类别，所以更具体地说，这是`单标签、多分类`（single-label, multiclass classification）问题的一个例子。如果每个数据点可以划分到多个类别（主题），那它就是一个`多标签、多分类`（multilabel, multiclass classification）问题。\n",
    "\n",
    "### 3.5.1 路透社数据集\n",
    "路透社数据集是一个简单的、广泛使用的文本分类数据集。它包括46个不同的主题：某些主题的样本更多，但训练集中每个主题都有至少10个样本。路透社数据集也内置为`Keras`的一部分。"
   ]
  },
  {
   "cell_type": "code",
   "execution_count": 24,
   "metadata": {},
   "outputs": [],
   "source": [
    "(train_data, train_labels), (test_data, test_labels) = reuters.load_data(num_words=10000)"
   ]
  },
  {
   "cell_type": "markdown",
   "metadata": {},
   "source": [
    "我们有8982个训练样本和2246个测试样本。"
   ]
  },
  {
   "cell_type": "code",
   "execution_count": 25,
   "metadata": {},
   "outputs": [
    {
     "data": {
      "text/plain": [
       "(8982, 2246)"
      ]
     },
     "execution_count": 25,
     "metadata": {},
     "output_type": "execute_result"
    }
   ],
   "source": [
    "len(train_data), len(test_data)"
   ]
  },
  {
   "cell_type": "markdown",
   "metadata": {},
   "source": [
    "每个样本都是一个整数列表（表示单词索引）。"
   ]
  },
  {
   "cell_type": "code",
   "execution_count": 26,
   "metadata": {},
   "outputs": [
    {
     "name": "stdout",
     "output_type": "stream",
     "text": [
      "[1, 245, 273, 207, 156, 53, 74, 160, 26, 14, 46, 296, 26, 39, 74, 2979, 3554, 14, 46, 4689, 4329, 86, 61, 3499, 4795, 14, 61, 451, 4329, 17, 12]\n"
     ]
    }
   ],
   "source": [
    "print(train_data[10])"
   ]
  },
  {
   "cell_type": "markdown",
   "metadata": {},
   "source": [
    "可以用下列代码将索引解码为单词。"
   ]
  },
  {
   "cell_type": "code",
   "execution_count": 27,
   "metadata": {},
   "outputs": [
    {
     "data": {
      "text/plain": [
       "'? ? ? said as a result of its december acquisition of space co it expects earnings per share in 1987 of 1 15 to 1 30 dlrs per share up from 70 cts in 1986 the company said pretax net should rise to nine to 10 mln dlrs from six mln dlrs in 1986 and rental operation revenues to 19 to 22 mln dlrs from 12 5 mln dlrs it said cash flow per share this year should be 2 50 to three dlrs reuter 3'"
      ]
     },
     "execution_count": 27,
     "metadata": {},
     "output_type": "execute_result"
    }
   ],
   "source": [
    "word_index = reuters.get_word_index()\n",
    "reverse_word_index = dict([(value, key) for (key, value) in word_index.items()])\n",
    "# 索引减去了3，因为0、1、2是为`padding`(填充)、`start of sequence`(序列开始)、`unknown`(未知词)分别保留的索引\n",
    "decoded_newswire = ' '.join([reverse_word_index.get(i - 3, '?') for i in train_data[0]])\n",
    "decoded_newswire"
   ]
  },
  {
   "cell_type": "markdown",
   "metadata": {},
   "source": [
    "样本对应的标签是一个`0~45`范围内的整数，即话题索引编号。\n",
    "\n",
    "### 3.5.2 准备数据\n",
    "你可以使用与上一个例子相同的代码将数据向量化。"
   ]
  },
  {
   "cell_type": "code",
   "execution_count": 28,
   "metadata": {},
   "outputs": [],
   "source": [
    "x_train = vectorize_sequences(train_data)\n",
    "x_test = vectorize_sequences(test_data) "
   ]
  },
  {
   "cell_type": "markdown",
   "metadata": {},
   "source": [
    "将标签向量化有两种方法：你可以将标签列表转换为整数张量，或者使用`one-hot`编码。\n",
    "\n",
    "`Keras`内置方法`to_categorical`可以实现`one-hot`编码。"
   ]
  },
  {
   "cell_type": "code",
   "execution_count": 29,
   "metadata": {},
   "outputs": [],
   "source": [
    "one_hot_train_labels = to_categorical(train_labels)\n",
    "one_hot_test_labels = to_categorical(test_labels)"
   ]
  },
  {
   "cell_type": "markdown",
   "metadata": {},
   "source": [
    "### 3.5.3 构建网络\n",
    "这个主题分类问题与前面的电影评论分类问题类似，两个例子都是试图对简短的文本片段进行分类。但这个问题有一个新的约束条件：输出类别的数量从2个变为46个。输出空间的维度要大得多。\n",
    "\n",
    "对于前面用过的`Dense`层的堆叠，每层只能访问上一层输出的信息。如果某一层丢失了与分类问题相关的一些信息，那么这些信息无法被后面的层找回，也就是说，每一层都可能成为信息瓶颈。上一个例子使用了16维的中间层，但对这个例子来说16维空间可能太小了，无法学会区分46个不同的类别。这种维度较小的层可能成为信息瓶颈，永久地丢失相关信息。\n",
    "\n",
    "出于这个原因，下面将使用维度更大的层，包含64个单元。"
   ]
  },
  {
   "cell_type": "code",
   "execution_count": 30,
   "metadata": {},
   "outputs": [],
   "source": [
    "model = models.Sequential()\n",
    "model.add(layers.Dense(64, activation='relu', input_shape=(10000,)))\n",
    "model.add(layers.Dense(64, activation='relu'))\n",
    "model.add(layers.Dense(46, activation='softmax'))"
   ]
  },
  {
   "cell_type": "markdown",
   "metadata": {},
   "source": [
    "关于这个架构还应该注意另外两点：\n",
    "+ 网络的最后一层是大小为46的`Dense`层。这意味着，对于每个输入样本，网络都会输出一个46维向量。这个向量的每个元素代表不同的输出类别\n",
    "+ 最后一层使用了softmax激活，网络将输出在46个不同输出类别上的概率分布。对于每一个输入样本，网络都会输出一个46维向量，其中`output[i]`是样本属于第`i`个类别的概率。46个概率的总和为1\n",
    "\n",
    "对于这个例子，最好的损失函数是`categorical_crossentropy`（分类交叉熵）。它用于衡量两个概率分布之间的距离，这里两个概率分布分别是网络输出的概率分布和标签的真实分布。通过将这两个分布的距离最小化，训练网络可使输出结果尽可能接近真实标签。"
   ]
  },
  {
   "cell_type": "code",
   "execution_count": 31,
   "metadata": {},
   "outputs": [],
   "source": [
    "model.compile(\n",
    "    optimizer='rmsprop',\n",
    "    loss='categorical_crossentropy',\n",
    "    metrics=['accuracy'])"
   ]
  },
  {
   "cell_type": "markdown",
   "metadata": {},
   "source": [
    "### 3.5.4 验证你的方法\n",
    "我们在训练数据中留出1000个样本作为验证集。"
   ]
  },
  {
   "cell_type": "code",
   "execution_count": 32,
   "metadata": {},
   "outputs": [],
   "source": [
    "x_val = x_train[:1000]\n",
    "partial_x_train = x_train[1000:]\n",
    "\n",
    "y_val = one_hot_train_labels[:1000]\n",
    "partial_y_train = one_hot_train_labels[1000:]"
   ]
  },
  {
   "cell_type": "markdown",
   "metadata": {},
   "source": [
    "现在开始训练网络，共20个轮次。"
   ]
  },
  {
   "cell_type": "code",
   "execution_count": 33,
   "metadata": {},
   "outputs": [
    {
     "name": "stdout",
     "output_type": "stream",
     "text": [
      "Train on 7982 samples, validate on 1000 samples\n",
      "Epoch 1/20\n",
      "7982/7982 [==============================] - 1s 128us/step - loss: 2.5946 - accuracy: 0.5222 - val_loss: 1.7245 - val_accuracy: 0.6560\n",
      "Epoch 2/20\n",
      "7982/7982 [==============================] - 1s 92us/step - loss: 1.4134 - accuracy: 0.7085 - val_loss: 1.3016 - val_accuracy: 0.7050\n",
      "Epoch 3/20\n",
      "7982/7982 [==============================] - 1s 92us/step - loss: 1.0430 - accuracy: 0.7691 - val_loss: 1.1228 - val_accuracy: 0.7550\n",
      "Epoch 4/20\n",
      "7982/7982 [==============================] - 1s 92us/step - loss: 0.8094 - accuracy: 0.8239 - val_loss: 1.0198 - val_accuracy: 0.7840\n",
      "Epoch 5/20\n",
      "7982/7982 [==============================] - 1s 92us/step - loss: 0.6327 - accuracy: 0.8715 - val_loss: 0.9739 - val_accuracy: 0.7940\n",
      "Epoch 6/20\n",
      "7982/7982 [==============================] - 1s 92us/step - loss: 0.5066 - accuracy: 0.8985 - val_loss: 0.9070 - val_accuracy: 0.8000\n",
      "Epoch 7/20\n",
      "7982/7982 [==============================] - 1s 95us/step - loss: 0.4057 - accuracy: 0.9159 - val_loss: 0.8891 - val_accuracy: 0.8240\n",
      "Epoch 8/20\n",
      "7982/7982 [==============================] - 1s 93us/step - loss: 0.3280 - accuracy: 0.9330 - val_loss: 0.9146 - val_accuracy: 0.8080\n",
      "Epoch 9/20\n",
      "7982/7982 [==============================] - 1s 92us/step - loss: 0.2726 - accuracy: 0.9401 - val_loss: 0.8750 - val_accuracy: 0.8250\n",
      "Epoch 10/20\n",
      "7982/7982 [==============================] - 1s 92us/step - loss: 0.2363 - accuracy: 0.9466 - val_loss: 0.9037 - val_accuracy: 0.8090\n",
      "Epoch 11/20\n",
      "7982/7982 [==============================] - 1s 93us/step - loss: 0.2040 - accuracy: 0.9499 - val_loss: 0.9040 - val_accuracy: 0.8130\n",
      "Epoch 12/20\n",
      "7982/7982 [==============================] - 1s 92us/step - loss: 0.1763 - accuracy: 0.9526 - val_loss: 0.9464 - val_accuracy: 0.8020\n",
      "Epoch 13/20\n",
      "7982/7982 [==============================] - 1s 92us/step - loss: 0.1643 - accuracy: 0.9554 - val_loss: 0.9381 - val_accuracy: 0.8160\n",
      "Epoch 14/20\n",
      "7982/7982 [==============================] - 1s 94us/step - loss: 0.1503 - accuracy: 0.9536 - val_loss: 0.9846 - val_accuracy: 0.7970\n",
      "Epoch 15/20\n",
      "7982/7982 [==============================] - 1s 94us/step - loss: 0.1412 - accuracy: 0.9546 - val_loss: 0.9717 - val_accuracy: 0.8130\n",
      "Epoch 16/20\n",
      "7982/7982 [==============================] - 1s 93us/step - loss: 0.1347 - accuracy: 0.9575 - val_loss: 0.9985 - val_accuracy: 0.8070\n",
      "Epoch 17/20\n",
      "7982/7982 [==============================] - 1s 93us/step - loss: 0.1236 - accuracy: 0.9582 - val_loss: 1.0165 - val_accuracy: 0.8060\n",
      "Epoch 18/20\n",
      "7982/7982 [==============================] - 1s 92us/step - loss: 0.1233 - accuracy: 0.9565 - val_loss: 1.0711 - val_accuracy: 0.7950\n",
      "Epoch 19/20\n",
      "7982/7982 [==============================] - 1s 92us/step - loss: 0.1197 - accuracy: 0.9563 - val_loss: 1.0216 - val_accuracy: 0.8090\n",
      "Epoch 20/20\n",
      "7982/7982 [==============================] - 1s 92us/step - loss: 0.1123 - accuracy: 0.9574 - val_loss: 1.0353 - val_accuracy: 0.8080\n"
     ]
    }
   ],
   "source": [
    "history = model.fit(partial_x_train, partial_y_train, epochs=20, batch_size=512, validation_data=(x_val, y_val))"
   ]
  },
  {
   "cell_type": "markdown",
   "metadata": {},
   "source": [
    "绘制训练损失和验证损失："
   ]
  },
  {
   "cell_type": "code",
   "execution_count": 34,
   "metadata": {},
   "outputs": [
    {
     "data": {
      "image/png": "[encoded data removed]",
      "text/plain": [
       "<Figure size 432x288 with 1 Axes>"
      ]
     },
     "metadata": {
      "needs_background": "light"
     },
     "output_type": "display_data"
    }
   ],
   "source": [
    "loss = history.history['loss']\n",
    "val_loss = history.history['val_loss']\n",
    "\n",
    "epochs = range(1, len(loss) + 1)\n",
    "\n",
    "plt.plot(epochs, loss, 'bo', label='Training loss')\n",
    "plt.plot(epochs, val_loss, 'b', label='Validation loss')\n",
    "plt.title('Training and validation loss')\n",
    "plt.xlabel('Epochs')\n",
    "plt.ylabel('Loss')\n",
    "plt.legend()\n",
    "\n",
    "plt.show()"
   ]
  },
  {
   "cell_type": "markdown",
   "metadata": {},
   "source": [
    "绘制训练精度和验证精度："
   ]
  },
  {
   "cell_type": "code",
   "execution_count": 35,
   "metadata": {},
   "outputs": [
    {
     "data": {
      "image/png": "[encoded data removed]",
      "text/plain": [
       "<Figure size 432x288 with 1 Axes>"
      ]
     },
     "metadata": {
      "needs_background": "light"
     },
     "output_type": "display_data"
    }
   ],
   "source": [
    "acc = history.history['accuracy']\n",
    "val_acc = history.history['val_accuracy']\n",
    "plt.plot(epochs, acc, 'bo', label='Training acc')\n",
    "\n",
    "plt.plot(epochs, val_acc, 'b', label='Validation acc')\n",
    "plt.title('Training and validation accuracy')\n",
    "plt.xlabel('Epochs')\n",
    "plt.ylabel('Accuracy')\n",
    "plt.legend()\n",
    "\n",
    "plt.show()"
   ]
  },
  {
   "cell_type": "markdown",
   "metadata": {},
   "source": [
    "网络在训练9轮后开始过拟合。我们从头开始训练一个新网络，共9个轮次，然后在测试集上评估模型。"
   ]
  },
  {
   "cell_type": "code",
   "execution_count": 36,
   "metadata": {},
   "outputs": [
    {
     "name": "stdout",
     "output_type": "stream",
     "text": [
      "Train on 7982 samples, validate on 1000 samples\n",
      "Epoch 1/9\n",
      "7982/7982 [==============================] - 1s 109us/step - loss: 2.6548 - accuracy: 0.5338 - val_loss: 1.7933 - val_accuracy: 0.6470\n",
      "Epoch 2/9\n",
      "7982/7982 [==============================] - 1s 92us/step - loss: 1.4425 - accuracy: 0.7105 - val_loss: 1.3250 - val_accuracy: 0.7150\n",
      "Epoch 3/9\n",
      "7982/7982 [==============================] - 1s 92us/step - loss: 1.0616 - accuracy: 0.7795 - val_loss: 1.1489 - val_accuracy: 0.7580\n",
      "Epoch 4/9\n",
      "7982/7982 [==============================] - 1s 92us/step - loss: 0.8367 - accuracy: 0.8250 - val_loss: 1.0466 - val_accuracy: 0.7780\n",
      "Epoch 5/9\n",
      "7982/7982 [==============================] - 1s 91us/step - loss: 0.6700 - accuracy: 0.8616 - val_loss: 0.9848 - val_accuracy: 0.7990\n",
      "Epoch 6/9\n",
      "7982/7982 [==============================] - 1s 91us/step - loss: 0.5387 - accuracy: 0.8936 - val_loss: 0.9337 - val_accuracy: 0.8180\n",
      "Epoch 7/9\n",
      "7982/7982 [==============================] - 1s 91us/step - loss: 0.4338 - accuracy: 0.9137 - val_loss: 0.9015 - val_accuracy: 0.8180\n",
      "Epoch 8/9\n",
      "7982/7982 [==============================] - 1s 91us/step - loss: 0.3514 - accuracy: 0.9278 - val_loss: 0.8960 - val_accuracy: 0.8200\n",
      "Epoch 9/9\n",
      "7982/7982 [==============================] - 1s 92us/step - loss: 0.2918 - accuracy: 0.9380 - val_loss: 0.9560 - val_accuracy: 0.8000\n",
      "2246/2246 [==============================] - 0s 79us/step\n"
     ]
    },
    {
     "data": {
      "text/plain": [
       "[1.0760647692217533, 0.7684773206710815]"
      ]
     },
     "execution_count": 36,
     "metadata": {},
     "output_type": "execute_result"
    }
   ],
   "source": [
    "model = models.Sequential()\n",
    "model.add(layers.Dense(64, activation='relu', input_shape=(10000,)))\n",
    "model.add(layers.Dense(64, activation='relu'))\n",
    "model.add(layers.Dense(46, activation='softmax'))\n",
    "\n",
    "model.compile(optimizer='rmsprop', loss='categorical_crossentropy', metrics=['accuracy'])\n",
    "model.fit(partial_x_train, partial_y_train, epochs=9, batch_size=512, validation_data=(x_val, y_val))\n",
    "results = model.evaluate(x_test, one_hot_test_labels)\n",
    "results"
   ]
  },
  {
   "cell_type": "markdown",
   "metadata": {},
   "source": [
    "这种方法可以得到约`80%`的精度。对于平衡的二分类问题，完全随机的分类器能够得到`50%`的精度。但在这个例子中，完全随机的精度约为`19%`，所以上述结果相当不错，至少和随机的基准比起来还不错。\n",
    "\n",
    "### 3.5.5 在新数据上生成预测结果\n",
    "你可以验证，模型实例的`predict`方法返回了在46个主题上的概率分布。我们对所有测试数据生成主题预测。"
   ]
  },
  {
   "cell_type": "code",
   "execution_count": 37,
   "metadata": {},
   "outputs": [
    {
     "data": {
      "text/plain": [
       "(46,)"
      ]
     },
     "execution_count": 37,
     "metadata": {},
     "output_type": "execute_result"
    }
   ],
   "source": [
    "predictions = model.predict(x_test)\n",
    "# predictions中的每个元素都是长度为46的向量\n",
    "predictions[0].shape"
   ]
  },
  {
   "cell_type": "markdown",
   "metadata": {},
   "source": [
    "这个向量的所有元素总和为1："
   ]
  },
  {
   "cell_type": "code",
   "execution_count": 38,
   "metadata": {},
   "outputs": [
    {
     "data": {
      "text/plain": [
       "0.9999999"
      ]
     },
     "execution_count": 38,
     "metadata": {},
     "output_type": "execute_result"
    }
   ],
   "source": [
    "np.sum(predictions[0])"
   ]
  },
  {
   "cell_type": "markdown",
   "metadata": {},
   "source": [
    "最大的元素就是预测类别，即概率最大的类别："
   ]
  },
  {
   "cell_type": "code",
   "execution_count": 39,
   "metadata": {},
   "outputs": [
    {
     "data": {
      "text/plain": [
       "4"
      ]
     },
     "execution_count": 39,
     "metadata": {},
     "output_type": "execute_result"
    }
   ],
   "source": [
    "np.argmax(predictions[0])"
   ]
  },
  {
   "cell_type": "markdown",
   "metadata": {},
   "source": [
    "### 3.5.6 处理标签和损失的另一种方法\n",
    "前面提到了另一种编码标签的方法，就是将其转换为整数张量，如下所示。"
   ]
  },
  {
   "cell_type": "code",
   "execution_count": 40,
   "metadata": {},
   "outputs": [],
   "source": [
    "y_train = np.array(train_labels)\n",
    "y_test = np.array(test_labels)"
   ]
  },
  {
   "cell_type": "markdown",
   "metadata": {},
   "source": [
    "对于这种编码方法，唯一需要改变的是损失函数的选择。对于整数标签，你应该使用`sparse_categorical_crossentropy`。"
   ]
  },
  {
   "cell_type": "code",
   "execution_count": 41,
   "metadata": {},
   "outputs": [],
   "source": [
    "model.compile(\n",
    "    optimizer='rmsprop',\n",
    "    loss='sparse_categorical_crossentropy',\n",
    "    metrics=['acc'])"
   ]
  },
  {
   "cell_type": "markdown",
   "metadata": {},
   "source": [
    "这个新的损失函数在数学上与`categorical_crossentropy`完全相同，二者只是接口不同。\n",
    "\n",
    "### 3.5.7　中间层维度足够大的重要性\n",
    "前面提到，最终输出是46维的，因此中间层的隐藏单元个数不应该比46小太多。现在来看一下，如果中间层的维度远远小于46，造成了信息瓶颈，那么会发生什么？"
   ]
  },
  {
   "cell_type": "code",
   "execution_count": 42,
   "metadata": {},
   "outputs": [
    {
     "name": "stdout",
     "output_type": "stream",
     "text": [
      "Train on 7982 samples, validate on 1000 samples\n",
      "Epoch 1/20\n",
      "7982/7982 [==============================] - 1s 143us/step - loss: 2.6178 - accuracy: 0.4613 - val_loss: 1.9181 - val_accuracy: 0.5530\n",
      "Epoch 2/20\n",
      "7982/7982 [==============================] - 1s 120us/step - loss: 1.7056 - accuracy: 0.5584 - val_loss: 1.6146 - val_accuracy: 0.5690\n",
      "Epoch 3/20\n",
      "7982/7982 [==============================] - 1s 120us/step - loss: 1.4498 - accuracy: 0.5861 - val_loss: 1.5062 - val_accuracy: 0.5900\n",
      "Epoch 4/20\n",
      "7982/7982 [==============================] - 1s 119us/step - loss: 1.2932 - accuracy: 0.6322 - val_loss: 1.4420 - val_accuracy: 0.6280\n",
      "Epoch 5/20\n",
      "7982/7982 [==============================] - 1s 122us/step - loss: 1.1884 - accuracy: 0.6640 - val_loss: 1.4116 - val_accuracy: 0.6380\n",
      "Epoch 6/20\n",
      "7982/7982 [==============================] - 1s 120us/step - loss: 1.1048 - accuracy: 0.6864 - val_loss: 1.3982 - val_accuracy: 0.6510\n",
      "Epoch 7/20\n",
      "7982/7982 [==============================] - 1s 120us/step - loss: 1.0362 - accuracy: 0.6986 - val_loss: 1.4062 - val_accuracy: 0.6480\n",
      "Epoch 8/20\n",
      "7982/7982 [==============================] - 1s 121us/step - loss: 0.9777 - accuracy: 0.7078 - val_loss: 1.4552 - val_accuracy: 0.6470\n",
      "Epoch 9/20\n",
      "7982/7982 [==============================] - 1s 123us/step - loss: 0.9309 - accuracy: 0.7115 - val_loss: 1.4319 - val_accuracy: 0.6490\n",
      "Epoch 10/20\n",
      "7982/7982 [==============================] - 1s 121us/step - loss: 0.8898 - accuracy: 0.7207 - val_loss: 1.4887 - val_accuracy: 0.6470\n",
      "Epoch 11/20\n",
      "7982/7982 [==============================] - 1s 121us/step - loss: 0.8572 - accuracy: 0.7260 - val_loss: 1.5155 - val_accuracy: 0.6470\n",
      "Epoch 12/20\n",
      "7982/7982 [==============================] - 1s 122us/step - loss: 0.8275 - accuracy: 0.7365 - val_loss: 1.5281 - val_accuracy: 0.6490\n",
      "Epoch 13/20\n",
      "7982/7982 [==============================] - 1s 118us/step - loss: 0.7980 - accuracy: 0.7469 - val_loss: 1.5962 - val_accuracy: 0.6520\n",
      "Epoch 14/20\n",
      "7982/7982 [==============================] - 1s 119us/step - loss: 0.7708 - accuracy: 0.7577 - val_loss: 1.6362 - val_accuracy: 0.6560\n",
      "Epoch 15/20\n",
      "7982/7982 [==============================] - 1s 123us/step - loss: 0.7433 - accuracy: 0.7719 - val_loss: 1.6781 - val_accuracy: 0.6520\n",
      "Epoch 16/20\n",
      "7982/7982 [==============================] - 1s 121us/step - loss: 0.7229 - accuracy: 0.7820 - val_loss: 1.7425 - val_accuracy: 0.6620\n",
      "Epoch 17/20\n",
      "7982/7982 [==============================] - 1s 123us/step - loss: 0.7003 - accuracy: 0.7884 - val_loss: 1.8763 - val_accuracy: 0.6590\n",
      "Epoch 18/20\n",
      "7982/7982 [==============================] - 1s 122us/step - loss: 0.6798 - accuracy: 0.7944 - val_loss: 1.8949 - val_accuracy: 0.6590\n",
      "Epoch 19/20\n",
      "7982/7982 [==============================] - 1s 134us/step - loss: 0.6620 - accuracy: 0.8011 - val_loss: 1.9562 - val_accuracy: 0.6570\n",
      "Epoch 20/20\n",
      "7982/7982 [==============================] - 1s 128us/step - loss: 0.6443 - accuracy: 0.8069 - val_loss: 2.0178 - val_accuracy: 0.6590\n"
     ]
    },
    {
     "data": {
      "text/plain": [
       "<keras.callbacks.callbacks.History at 0x7fb2f16ea5f8>"
      ]
     },
     "execution_count": 42,
     "metadata": {},
     "output_type": "execute_result"
    }
   ],
   "source": [
    "model = models.Sequential()\n",
    "model.add(layers.Dense(64, activation='relu', input_shape=(10000,)))\n",
    "model.add(layers.Dense(4, activation='relu'))\n",
    "model.add(layers.Dense(46, activation='softmax'))\n",
    "\n",
    "model.compile(optimizer='rmsprop', loss='categorical_crossentropy', metrics=['accuracy'])\n",
    "model.fit(partial_x_train, partial_y_train, epochs=20, batch_size=128, validation_data=(x_val, y_val))"
   ]
  },
  {
   "cell_type": "markdown",
   "metadata": {},
   "source": [
    "现在网络的验证精度最大约为`71%`，比前面下降了`8%`。导致这一下降的主要原因在于，你试图将大量信息（这些信息足够恢复46个类别的分割超平面）压缩到维度很小的中间空间。网络能够将大部分必要信息塞入这个四维表示中，但并不是全部信息。\n",
    "\n",
    "### 3.5.8 进一步的实验\n",
    "+ 尝试使用更多或更少的隐藏单元，比如32个、128个等。\n",
    "+ 前面使用了两个隐藏层，现在尝试使用一个或三个隐藏层\n",
    "\n",
    "### 3.5.9 小结\n",
    "下面是你应该从这个例子中学到的要点：\n",
    "+ 如果要对N个类别的数据点进行分类，网络的最后一层应该是大小为N的`Dense`层\n",
    "+ 对于单标签、多分类问题，网络的最后一层应该使用`softmax`激活，这样可以输出在N个输出类别上的概率分布\n",
    "+ 这种问题的损失函数几乎总是应该使用分类交叉熵。它将网络输出的概率分布与目标的真实分布之间的距离最小化\n",
    "+ 处理多分类问题的标签有两种方法。\n",
    "    - 通过`one-hot`编码对标签进行编码，然后使用`categorical_crossentropy`作为损失函数\n",
    "    - 将标签编码为整数，然后使用`sparse_categorical_crossentropy`损失函数\n",
    "+ 如果你需要将数据划分到许多类别中，应该避免使用太小的中间层，以免在网络中造成信息瓶颈\n",
    "\n",
    "\n",
    "## 3.6 预测房价：回归问题\n",
    "另一种常见的机器学习问题是回归问题，它预测一个连续值而不是离散的标签。\n",
    "\n",
    "### 3.6.1 波士顿房价数据集\n",
    "本节将要预测20世纪70年代中期波士顿郊区房屋价格的中位数，已知当时郊区的一些数据点，比如犯罪率、当地房产税率等。本节用到的数据集与前面两个例子有一个有趣的区别。它包含的数据点相对较少，只有506个，分为404个训练样本和102个测试样本。输入数据的每个特征（比如犯罪率）都有不同的取值范围。例如，有些特性是比例，取值范围为`0~1`；有的取值范围为`1~12`；还有的取值范围为`0~100`，等等。"
   ]
  },
  {
   "cell_type": "code",
   "execution_count": 43,
   "metadata": {},
   "outputs": [
    {
     "data": {
      "text/plain": [
       "((404, 13), (102, 13))"
      ]
     },
     "execution_count": 43,
     "metadata": {},
     "output_type": "execute_result"
    }
   ],
   "source": [
    "(train_data, train_targets), (test_data, test_targets) = boston_housing.load_data()\n",
    "\n",
    "train_data.shape, test_data.shape"
   ]
  },
  {
   "cell_type": "markdown",
   "metadata": {},
   "source": [
    "我们有404个训练样本和102个测试样本，每个样本都有13个数值特征，比如人均犯罪率、每个住宅的平均房间数、高速公路可达性等。\n",
    "\n",
    "目标是房屋价格的中位数，单位是千美元。"
   ]
  },
  {
   "cell_type": "code",
   "execution_count": 44,
   "metadata": {},
   "outputs": [
    {
     "data": {
      "text/plain": [
       "array([15.2, 42.3, 50. , 21.1, 17.7, 18.5, 11.3, 15.6, 15.6, 14.4])"
      ]
     },
     "execution_count": 44,
     "metadata": {},
     "output_type": "execute_result"
    }
   ],
   "source": [
    "train_targets[:10]"
   ]
  },
  {
   "cell_type": "markdown",
   "metadata": {},
   "source": [
    "房价大都在`10000~50000`美元。如果你觉得这很便宜，不要忘记当时是20世纪70年代中期，而且这些价格没有根据通货膨胀进行调整。\n",
    "\n",
    "### 3.6.2 准备数据\n",
    "将取值范围差异很大的数据输入到神经网络中，这是有问题的。网络可能会自动适应这种取值范围不同的数据，但学习肯定变得更加困难。对于这种数据，普遍采用的最佳实践是对每个特征做标准化，即对于输入数据的每个特征，减去特征平均值，再除以标准差，这样得到的特征平均值为0，标准差为1。用`Numpy`可以很容易实现标准化。"
   ]
  },
  {
   "cell_type": "code",
   "execution_count": 45,
   "metadata": {},
   "outputs": [],
   "source": [
    "mean = train_data.mean(axis=0)\n",
    "train_data -= mean\n",
    "std = train_data.std(axis=0)\n",
    "train_data /= std\n",
    "\n",
    "test_data -= mean\n",
    "test_data /= std"
   ]
  },
  {
   "cell_type": "markdown",
   "metadata": {},
   "source": [
    "> **注意**\n",
    "> \n",
    "> 用于测试数据标准化的均值和标准差都是在训练数据上计算得到的。在工作流程中，你不能使用在测试数据上计算得到的任何结果，即使是像数据标准化这么简单的事情也不行。\n",
    "\n",
    "### 3.6.3　构建网络\n",
    "由于样本数量很少，我们将使用一个非常小的网络，其中包含两个隐藏层，每层有64个单元。一般来说，训练数据越少，过拟合会越严重，而较小的网络可以降低过拟合。"
   ]
  },
  {
   "cell_type": "code",
   "execution_count": 46,
   "metadata": {},
   "outputs": [],
   "source": [
    "def build_model():\n",
    "    model = models.Sequential() \n",
    "    model.add(layers.Dense(64, activation='relu', input_shape=(train_data.shape[1],)))\n",
    "    model.add(layers.Dense(64, activation='relu'))\n",
    "    model.add(layers.Dense(1))\n",
    "    model.compile(optimizer='rmsprop', loss='mse', metrics=['mae'])\n",
    "    return model"
   ]
  },
  {
   "cell_type": "markdown",
   "metadata": {},
   "source": [
    "网络的最后一层只有一个单元，没有激活，是一个线性层。这是标量回归（标量回归是预测单一连续值的回归）的典型设置。添加激活函数将会限制输出范围。例如，如果向最后一层添加`sigmoid`激活函数，网络只能学会预测`0~1`范围内的值。这里最后一层是纯线性的，所以网络可以学会预测任意范围内的值。\n",
    "\n",
    "> **注意**\n",
    "> \n",
    "> 编译网络用的是`mse`损失函数，即`均方误差`（MSE，mean squared error），预测值与目标值之差的平方。这是回归问题常用的损失函数\n",
    "\n",
    "在训练过程中还监控一个新指标：`平均绝对误差`（MAE，mean absolute error）。它是预测值与目标值之差的绝对值。比如，如果这个问题的`MAE`等于 0.5，就表示你预测的房价与实际价格平均相差 500 美元。\n",
    "\n",
    "### 3.6.4　利用 K 折验证来验证你的方法\n",
    "为了在调节网络参数（比如训练的轮数）的同时对网络进行评估，你可以将数据划分为训练集和验证集。但由于数据点很少，验证集会非常小。因此，验证分数可能会有很大波动，这取决于你所选择的验证集和训练集。也就是说，验证集的划分方式可能会造成验证分数上有很大的方差，这样就无法对模型进行可靠的评估。\n",
    "\n",
    "在这种情况下，最佳做法是使用`K折交叉验证`。这种方法将可用数据划分为K个分区，实例化K个相同的模型，将每个模型在K-1个分区上训练，并在剩下的一个分区上进行评估。模型的验证分数等于K个验证分数的平均值。这种方法的代码实现很简单。"
   ]
  },
  {
   "cell_type": "code",
   "execution_count": 47,
   "metadata": {},
   "outputs": [
    {
     "name": "stdout",
     "output_type": "stream",
     "text": [
      "processing fold # 0\n",
      "processing fold # 1\n",
      "processing fold # 2\n",
      "processing fold # 3\n"
     ]
    }
   ],
   "source": [
    "k = 4\n",
    "num_val_samples = len(train_data) // k\n",
    "num_epochs = 100\n",
    "all_scores = []\n",
    "\n",
    "for i in range(k):\n",
    "    print('processing fold #', i)\n",
    "    # 准备验证数据：第k个分区的数据\n",
    "    val_data = train_data[i * num_val_samples: (i + 1) * num_val_samples] \n",
    "    val_targets = train_targets[i * num_val_samples: (i + 1) * num_val_samples]\n",
    "    # 准备训练数据：其他所有分区的数据\n",
    "    partial_train_data = np.concatenate([train_data[:i * num_val_samples], train_data[(i + 1) * num_val_samples:]], axis=0)\n",
    "    partial_train_targets = np.concatenate([train_targets[:i * num_val_samples], train_targets[(i + 1) * num_val_samples:]], axis=0)\n",
    "    # 构建Keras模型\n",
    "    model = build_model() \n",
    "    model.fit(partial_train_data, partial_train_targets, epochs=num_epochs, batch_size=1, verbose=0)\n",
    "    val_mse,  val_mae = model.evaluate(val_data, val_targets, verbose=0)\n",
    "    all_scores.append(val_mae)"
   ]
  },
  {
   "cell_type": "code",
   "execution_count": 48,
   "metadata": {},
   "outputs": [
    {
     "data": {
      "text/plain": [
       "([2.268955707550049,\n",
       "  2.6994388103485107,\n",
       "  2.7189366817474365,\n",
       "  2.4338860511779785],\n",
       " 2.5303043127059937)"
      ]
     },
     "execution_count": 48,
     "metadata": {},
     "output_type": "execute_result"
    }
   ],
   "source": [
    "all_scores, np.mean(all_scores)"
   ]
  },
  {
   "cell_type": "markdown",
   "metadata": {},
   "source": [
    "每次运行模型得到的验证分数有很大差异，从2.6到3.2不等。平均分数是比单一分数更可靠的指标——这就是K折交叉验证的关键。在这个例子中，预测的房价与实际价格平均相差3000美元，考虑到实际价格范围在10000~50000美元，这一差别还是很大的。\n",
    "\n",
    "我们让训练时间更长一点，达到500个轮次。为了记录模型在每轮的表现，我们需要修改训练循环，以保存每轮的验证分数记录。"
   ]
  },
  {
   "cell_type": "code",
   "execution_count": 49,
   "metadata": {},
   "outputs": [
    {
     "name": "stdout",
     "output_type": "stream",
     "text": [
      "processing fold # 0\n",
      "processing fold # 1\n",
      "processing fold # 2\n",
      "processing fold # 3\n"
     ]
    }
   ],
   "source": [
    "k = 4\n",
    "num_val_samples = len(train_data) // k\n",
    "num_epochs = 500\n",
    "all_mae_histories = []\n",
    "\n",
    "for i in range(k):\n",
    "    print('processing fold #', i)\n",
    "    # Prepare the validation data: data from partition \n",
    "    val_data = train_data[i * num_val_samples: (i + 1) * num_val_samples]\n",
    "    val_targets = train_targets[i * num_val_samples: (i + 1) * num_val_samples]\n",
    "    # Prepare the training data: data from all other partitions\n",
    "    partial_train_data = np.concatenate([train_data[:i * num_val_samples], train_data[(i + 1) * num_val_samples:]], axis=0)\n",
    "    partial_train_targets = np.concatenate([train_targets[:i * num_val_samples], train_targets[(i + 1) * num_val_samples:]], axis=0)\n",
    "    # Build the Keras model (already compiled)\n",
    "    model = build_model()\n",
    "    # Train the model (in silent mode, verbose=0)\n",
    "    history = model.fit(partial_train_data, partial_train_targets, \n",
    "                        validation_data=(val_data, val_targets), \n",
    "                        epochs=num_epochs, batch_size=1, verbose=0)\n",
    "    mae_history = history.history['val_mae']\n",
    "    all_mae_histories.append(mae_history)"
   ]
  },
  {
   "cell_type": "markdown",
   "metadata": {},
   "source": [
    "然后你可以计算每个轮次中所有折`MAE`的平均值。"
   ]
  },
  {
   "cell_type": "code",
   "execution_count": 50,
   "metadata": {},
   "outputs": [],
   "source": [
    "average_mae_history = [np.mean([x[i] for x in all_mae_histories]) for i in range(num_epochs)]"
   ]
  },
  {
   "cell_type": "markdown",
   "metadata": {},
   "source": [
    "绘制验证分数："
   ]
  },
  {
   "cell_type": "code",
   "execution_count": 51,
   "metadata": {},
   "outputs": [
    {
     "data": {
      "image/png": "[encoded data removed]",
      "text/plain": [
       "<Figure size 432x288 with 1 Axes>"
      ]
     },
     "metadata": {
      "needs_background": "light"
     },
     "output_type": "display_data"
    }
   ],
   "source": [
    "plt.plot(range(1, len(average_mae_history) + 1), average_mae_history)\n",
    "plt.xlabel('Epochs')\n",
    "plt.ylabel('Validation MAE')\n",
    "plt.show()"
   ]
  },
  {
   "cell_type": "markdown",
   "metadata": {},
   "source": [
    "因为纵轴的范围较大，且数据方差相对较大，所以难以看清这张图的规律。我们来重新绘制一张图：\n",
    "+ 删除前10个数据点，因为它们的取值范围与曲线上的其他点不同\n",
    "+ 将每个数据点替换为前面数据点的指数移动平均值，以得到光滑的曲线"
   ]
  },
  {
   "cell_type": "code",
   "execution_count": 52,
   "metadata": {},
   "outputs": [
    {
     "data": {
      "image/png": "[encoded data removed]",
      "text/plain": [
       "<Figure size 432x288 with 1 Axes>"
      ]
     },
     "metadata": {
      "needs_background": "light"
     },
     "output_type": "display_data"
    }
   ],
   "source": [
    "def smooth_curve(points, factor=0.9):\n",
    "  smoothed_points = []\n",
    "  for point in points:\n",
    "    if smoothed_points:\n",
    "      previous = smoothed_points[-1]\n",
    "      smoothed_points.append(previous * factor + point * (1 - factor))\n",
    "    else:\n",
    "      smoothed_points.append(point)\n",
    "  return smoothed_points\n",
    "\n",
    "smooth_mae_history = smooth_curve(average_mae_history[10:])\n",
    "\n",
    "plt.plot(range(1, len(smooth_mae_history) + 1), smooth_mae_history)\n",
    "plt.xlabel('Epochs')\n",
    "plt.ylabel('Validation MAE')\n",
    "plt.show()"
   ]
  },
  {
   "cell_type": "markdown",
   "metadata": {},
   "source": [
    "从图中可以看出，验证MAE在80轮后不再显著降低，之后就开始过拟合。\n",
    "\n",
    "完成模型调参之后（除了轮数，还可以调节隐藏层大小），你可以使用最佳参数在所有训练数据上训练最终的生产模型，然后观察模型在测试集上的性能。"
   ]
  },
  {
   "cell_type": "code",
   "execution_count": 53,
   "metadata": {},
   "outputs": [
    {
     "name": "stdout",
     "output_type": "stream",
     "text": [
      "102/102 [==============================] - 0s 741us/step\n"
     ]
    }
   ],
   "source": [
    "model = build_model()\n",
    "model.fit(train_data, train_targets, epochs=80, batch_size=16, verbose=0)\n",
    "test_mse_score, test_mae_score = model.evaluate(test_data, test_targets)"
   ]
  },
  {
   "cell_type": "markdown",
   "metadata": {},
   "source": [
    "最终结果如下，你预测的房价还是和实际价格相差约2550美元："
   ]
  },
  {
   "cell_type": "code",
   "execution_count": 54,
   "metadata": {},
   "outputs": [
    {
     "data": {
      "text/plain": [
       "2.5889813899993896"
      ]
     },
     "execution_count": 54,
     "metadata": {},
     "output_type": "execute_result"
    }
   ],
   "source": [
    "test_mae_score"
   ]
  },
  {
   "cell_type": "markdown",
   "metadata": {},
   "source": [
    "### 3.6.5 小结\n",
    "下面是你应该从这个例子中学到的要点：\n",
    "+ 回归问题使用的损失函数与分类问题不同。回归常用的损失函数是均方误差（MSE）\n",
    "+ 同样，回归问题使用的评估指标也与分类问题不同。显而易见，精度的概念不适用于回归问题。常见的回归指标是平均绝对误差（MAE）\n",
    "+ 如果输入数据的特征具有不同的取值范围，应该先进行预处理，对每个特征单独进行缩放\n",
    "+ 如果可用的数据很少，使用 K 折验证可以可靠地评估模型\n",
    "+ 如果可用的训练数据很少，最好使用隐藏层较少（通常只有一到两个）的小型网络，以避免严重的过拟合"
   ]
  },
  {
   "cell_type": "code",
   "execution_count": null,
   "metadata": {},
   "outputs": [],
   "source": []
  }
 ],
 "metadata": {
  "kernelspec": {
   "display_name": "Python 3",
   "language": "python",
   "name": "python3"
  },
  "language_info": {
   "codemirror_mode": {
    "name": "ipython",
    "version": 3
   },
   "file_extension": ".py",
   "mimetype": "text/x-python",
   "name": "python",
   "nbconvert_exporter": "python",
   "pygments_lexer": "ipython3",
   "version": "3.6.8"
  }
 },
 "nbformat": 4,
 "nbformat_minor": 4
}
