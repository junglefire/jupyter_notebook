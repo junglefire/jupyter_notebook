{
 "cells": [
  {
   "cell_type": "code",
   "execution_count": 1,
   "metadata": {},
   "outputs": [],
   "source": [
    "from matplotlib import pyplot as plt\n",
    "from mxnet import autograd, nd, init, gluon\n",
    "from mxnet.gluon import data as gdata\n",
    "from mxnet.gluon import loss as gloss\n",
    "from mxnet.gluon import nn\n",
    "from time import time\n",
    "import d2lzh as d2l\n",
    "import random\n",
    "import sys "
   ]
  },
  {
   "cell_type": "markdown",
   "metadata": {},
   "source": [
    "# 03. 深度学习基础\n",
    "\n",
    "## 3.1 线性回归\n",
    "线性回归输出是⼀个连续值，因此适⽤于回归问题。回归问题在实际中很常⻅，如预测房屋价格、⽓温、销售额等连续值的问题。\n",
    "\n",
    "与回归问题不同，分类问题中模型的最终输出是⼀个离散值。 我们所说的图像分类、垃圾邮件识别、疾病检测等输出为离散值的问题都属于分类问题的范畴。 softmax回归则适⽤于分类问题。\n",
    "\n",
    "由于线性回归和softmax回归都是单层神经⽹络，它们涉及的概念和技术同样适⽤于⼤多数的深度学习模型。我们⾸先以线性回归为例，介绍⼤多数深度学习模型的基本要素和表⽰⽅法。\n",
    "\n",
    "### 3.3.1 线性回归的基本要素\n",
    "我们以房屋价格预测作为例⼦来解释线性回归的基本要素。为了简单起⻅，我们假设价格只取决于房屋状况的两个因素，即⾯积(平⽅⽶)和房龄(年)。 \n",
    "\n",
    "##### 模型\n",
    "设房屋的⾯积为$x_1$，房龄为$x_2$，售出价格为$y$。线性回归假设输出与各个输⼊之间是线性关系：\n",
    "+ $\\hat{y} = x_1w_1 + x_2w_2 + b$\n",
    "\n",
    "其中$w_1$和$w_2$是权重(weight)，$b$是偏差(bias)，且均为标量。它们是线性回归模型的参数。模型输出$\\hat{y}$是线性回归对真实价格$y$的预测或估计。我们通常允许它们之间有⼀定误差。\n",
    "\n",
    "##### 模型训练\n",
    "我们通过数据来寻找特定的模型参数值，使模型在数据上的误差尽可能小。这个过程叫作`模型训练`。下⾯我们介绍模型训练所涉及的3个要素。\n",
    "\n",
    "##### 训练数据\n",
    "我们通常收集⼀系列的真实数据，例如多栋房屋的真实售出价格和它们对应的⾯积和房龄。我们希望在这个数据上⾯寻找模型参数来使模型的预测价格与真实价格的误差最小。在机器学习术语⾥，该数据集被称为`训练数据集`或`训练集`，⼀栋房屋被称为⼀个`样本`，其真实售出价格叫作`标签`，⽤来预测标签的两个因素叫作`特征`。`特征`⽤来表征样本的特点。\n",
    "\n",
    "假设我们采集的样本数为$n$，索引为$i$的样本的特征为$x_1^{(i)}$和$x_2^{(i)}$，标签为$y^{(i)}$。对于索引为$i$的房屋，线性回归模型的房屋价格预测表达式为\n",
    "+ $\\hat{y}^{(i)} = x_1^{(i)} w_1 + x_2^{(i)} w_2 + b$\n",
    "\n",
    "##### 损失函数\n",
    "在模型训练中，我们需要衡量价格预测值与真实值之间的误差。⼀个常⽤的选择是平⽅函数。它在评估索引为$i$的样本误差的表达式为：\n",
    "+ $\\displaystyle\\ell^{(i)}(w_1, w_2, b) = \\frac{1}{2} \\left(\\hat{y}^{(i)} - y^{(i)}\\right)^2$\n",
    "\n",
    "显然，误差越小表⽰预测价格与真实价格越相近，且当⼆者相等时误差为0。给定训练数据集，这个误差只与模型参数相关，因此我们将它记为以模型参数为参数的函数。在机器学习⾥，将衡量误差的函数称为`损失函数`(loss function)。这⾥使⽤的平⽅误差函数也称为`平⽅损失`(square loss)。\n",
    "\n",
    "通常，我们⽤训练数据集中所有样本误差的平均来衡量模型预测的质量，即\n",
    "+ $\\displaystyle\\ell(w_1, w_2, b) =\\frac{1}{n} \\sum_{i=1}^n \\ell^{(i)}(w_1, w_2, b) =\\frac{1}{n} \\sum_{i=1}^n \\frac{1}{2}\\left(x_1^{(i)} w_1 + x_2^{(i)} w_2 + b - y^{(i)}\\right)^2$\n",
    "\n",
    "在模型训练中，我们希望找出⼀组模型参数，记为$w_1^*, w_2^*, b^*$ ，来使训练样本平均损失最小：\n",
    "+ $w_1^*, w_2^*, b^* = \\operatorname*{argmin}_{w_1, w_2, b}\\ \\ell(w_1, w_2, b)$\n",
    "\n",
    "##### 优化算法\n",
    "当模型和损失函数形式较为简单时，上⾯的误差最小化问题的解可以直接⽤公式表达出来。这类解叫作`解析解`(analytical solution)。线性回归和平⽅误差刚好属于这个范畴。\n",
    "\n",
    "⼤多数深度学习模型并没有解析解，只能通过优化算法有限次迭代模型参数来尽可能降低损失函数的值。这类解叫作`数值解`(numerical solution)。\n",
    "\n",
    "在求数值解的优化算法中，`小批量随机梯度下降`(mini-batch stochastic gradient descent)在深度学习中被⼴泛使⽤。\n",
    "\n",
    "> `小批量随机梯度下降`算法很简单：\n",
    "> 先选取⼀组模型参数的初始值，如随机选取；接下来对参数进⾏多次迭代，使每次迭代都可能降低损失函数的值。在每次迭代中，先随机均匀采样⼀个由固定数⽬训练数据样本所组成的小批量（mini-batch）$\\mathcal{B}$，然后求小批量中数据样本的平均损失有关模型参数的导数(梯度)，最后⽤此结果与预先设定的⼀个正数的乘积作为模型参数在本次迭代的减小量。\n",
    "\n",
    "在训练本节讨论的线性回归模型的过程中，模型的每个参数将作如下迭代：\n",
    "$$\\begin{aligned} w_1 &\\leftarrow w_1 - \\frac{\\eta}{|\\mathcal{B}|} \\sum_{i \\in \\mathcal{B}} \\frac{ \\partial \\ell^{(i)}(w_1, w_2, b) }{\\partial w_1} = w_1 - \\frac{\\eta}{|\\mathcal{B}|} \\sum_{i \\in \\mathcal{B}}x_1^{(i)} \\left(x_1^{(i)} w_1 + x_2^{(i)} w_2 + b - y^{(i)}\\right),\\\\ w_2 &\\leftarrow w_2 - \\frac{\\eta}{|\\mathcal{B}|} \\sum_{i \\in \\mathcal{B}} \\frac{ \\partial \\ell^{(i)}(w_1, w_2, b) }{\\partial w_2} = w_2 - \\frac{\\eta}{|\\mathcal{B}|} \\sum_{i \\in \\mathcal{B}}x_2^{(i)} \\left(x_1^{(i)} w_1 + x_2^{(i)} w_2 + b - y^{(i)}\\right),\\\\ b &\\leftarrow b - \\frac{\\eta}{|\\mathcal{B}|} \\sum_{i \\in \\mathcal{B}} \\frac{ \\partial \\ell^{(i)}(w_1, w_2, b) }{\\partial b} = b - \\frac{\\eta}{|\\mathcal{B}|} \\sum_{i \\in \\mathcal{B}}\\left(x_1^{(i)} w_1 + x_2^{(i)} w_2 + b - y^{(i)}\\right) \\end{aligned}$$\n",
    "\n",
    "在上式中，$|\\mathcal{B}|$代表每个小批量中的样本个数(批量⼤小，batch size)，$\\eta$称作学习率并取正数。这⾥的批量⼤小和学习率的值是`超参数`(hyperparameter)。我们通常所说的`调参`指的正是调节超参数，例如通过反复试错来找到超参数合适的值。在少数情况下，超参数也可以通过模型训练学出。 本书对此类情况不做讨论。\n",
    "\n",
    "##### 模型预测\n",
    "模型训练完成后，我们将模型参数$w_1, w_2, b$在优化算法停⽌时的值分别记作$\\hat{w}_1, \\hat{w}_2, \\hat{b}$。注意，这⾥我们得到的并不⼀定是最小化损失函数的最优解$w_1^*, w_2^*, b^*$，而是对最优解的⼀个近似。然后，我们就可以使⽤学出的线性回归模型$x_1 \\hat{w}_1 + x_2 \\hat{w}_2 + \\hat{b}$来估算训练数据集以外任意⼀栋房屋的价格了。这⾥的估算也叫作`模型预测`、`模型推断`或`模型测试`。"
   ]
  },
  {
   "cell_type": "markdown",
   "metadata": {},
   "source": [
    "### 3.1.2 线性回归的表⽰⽅法\n",
    "下⾯我们解释线性回归与神经⽹络的联系，以及线性回归的⽮量计算表达式。\n",
    "\n",
    "##### 神经⽹络图\n",
    "在深度学习中，我们可以使⽤神经⽹络图直观地表现模型结构。`图3.1`使⽤神经⽹络图表⽰本节中介绍的线性回归模型。神经⽹络图隐去了模型参数权重和偏差。\n",
    "\n",
    "<img src=\"images/03_01.png\" style=\"width:350px;\"/>\n",
    "\n",
    "输⼊分别为$x_1$和$x_2$，因此输⼊层的输⼊个数为2。输⼊个数也叫特征数或特征向量维度。输出为$o$，输出层的输出个数为1。我们直接将`图3.1`中神经⽹络的输出$o$作为线性回归的输出，即$\\hat{y} = o$。由于输⼊层并不涉及计算，按照惯例，`图3.1`所⽰的神经⽹络的层数为1。所以，线性回归是⼀个单层神经⽹络。输出层中负责计算$o$的单元⼜叫`神经元`。在线性回归中，$o$的计算依赖于$x_1$和$x_2$。也就是说，输出层中的神经元和输⼊层中各个输⼊完全连接。因此，这⾥的输出层⼜叫`全连接层`(fully-connected layer)或`稠密层` (dense layer)。\n",
    "\n",
    "##### ⽮量计算表达式\n",
    "在模型训练或预测时，我们常常会同时处理多个数据样本并⽤到⽮量计算。在介绍线性回归的⽮量计算表达式之前，让我们先考虑对两个向量相加的两种⽅法。"
   ]
  },
  {
   "cell_type": "code",
   "execution_count": 2,
   "metadata": {},
   "outputs": [
    {
     "data": {
      "text/plain": [
       "0.2809560298919678"
      ]
     },
     "execution_count": 2,
     "metadata": {},
     "output_type": "execute_result"
    }
   ],
   "source": [
    "a = nd.ones(shape=1000) \n",
    "b = nd.ones(shape=1000)\n",
    "\n",
    "# 向量相加的⼀种⽅法是，将这两个向量按元素逐⼀做标量加法\n",
    "start = time()\n",
    "c = nd.zeros(shape=1000) \n",
    "\n",
    "for i in range(1000):\n",
    "    c[i] = a[i] + b[i]\n",
    "\n",
    "time() - start"
   ]
  },
  {
   "cell_type": "code",
   "execution_count": 3,
   "metadata": {},
   "outputs": [
    {
     "data": {
      "text/plain": [
       "0.0007598400115966797"
      ]
     },
     "execution_count": 3,
     "metadata": {},
     "output_type": "execute_result"
    }
   ],
   "source": [
    "# 向量相加的另⼀种⽅法是，将这两个向量直接做⽮量加法\n",
    "start = time()\n",
    "d = a + b\n",
    "time() - start"
   ]
  },
  {
   "cell_type": "markdown",
   "metadata": {},
   "source": [
    "让我们再次回到本节的房价预测问题。如果我们对训练数据集⾥的3个房屋样本逐⼀预测价格，将得到\n",
    "$$\\begin{aligned} \\hat{y}^{(1)} &= x_1^{(1)} w_1 + x_2^{(1)} w_2 + b\\\\ \\hat{y}^{(2)} &= x_1^{(2)} w_1 + x_2^{(2)} w_2 + b\\\\ \\hat{y}^{(3)} &= x_1^{(3)} w_1 + x_2^{(3)} w_2 + b\\end{aligned} $$\n",
    "\n",
    "我们将上⾯3个等式转化成⽮量计算：\n",
    "$$\\boldsymbol{\\hat{\\mathcal{y}}} = \\begin{bmatrix} \\hat{y}^{(1)} \\\\ \\hat{y}^{(2)} \\\\ \\hat{y}^{(3)} \\end{bmatrix}, \\quad \\boldsymbol{X} = \\begin{bmatrix} x_1^{(1)} & x_2^{(1)} \\\\ x_1^{(2)} & x_2^{(2)} \\\\ x_1^{(3)} & x_2^{(3)} \\end{bmatrix}, \\quad \\boldsymbol{w} = \\begin{bmatrix} w_1 \\\\ w_2 \\end{bmatrix}$$\n",
    "\n",
    "对3个房屋样本预测价格的⽮量计算表达式为$\\boldsymbol{\\hat{\\mathcal{y}}} = \\boldsymbol{X} \\boldsymbol{w} + b$, 其中的加法运算使⽤了⼴播机制："
   ]
  },
  {
   "cell_type": "code",
   "execution_count": 4,
   "metadata": {},
   "outputs": [
    {
     "data": {
      "text/plain": [
       "\n",
       "[11. 11. 11.]\n",
       "<NDArray 3 @cpu(0)>"
      ]
     },
     "execution_count": 4,
     "metadata": {},
     "output_type": "execute_result"
    }
   ],
   "source": [
    "a = nd.ones(shape=3) \n",
    "b = 10 \n",
    "a + b"
   ]
  },
  {
   "cell_type": "markdown",
   "metadata": {},
   "source": [
    "⼴义上讲，当数据样本数为$n$，特征数为$d$时，线性回归的⽮量计算表达式为\n",
    "+ $\\boldsymbol{\\hat{\\mathcal{y}}} = \\boldsymbol{X} \\boldsymbol{w} + b$\n",
    "\n",
    "其中模型输出$\\boldsymbol{\\hat{\\mathcal{y}}} \\in \\mathbb{R}^{n \\times 1}$， 批量数据样本特征$\\boldsymbol{X} \\in \\mathbb{R}^{n \\times d}$，权重$\\boldsymbol{w} \\in \\mathbb{R}^{d \\times 1}$， 偏差$b \\in \\mathbb{R}$。相应地，批量数据样本标签$\\boldsymbol{\\mathcal{y}} \\in \\mathbb{R}^{n \\times 1}$。设模型参数$\\boldsymbol{\\theta} = [w_1, w_2, b]^\\top$，我们可以重写损失函数为\n",
    "+ $\\displaystyle\\ell(\\boldsymbol{\\theta})=\\frac{1}{2n}(\\hat{y}-y)^\\top(\\hat{y}-y)$\n",
    "\n",
    "小批量随机梯度下降的迭代步骤将相应地改写为\n",
    "+ $\\displaystyle\\boldsymbol{\\theta} \\leftarrow \\boldsymbol{\\theta} - \\frac{\\eta}{|\\mathcal{B}|} \\sum_{i \\in \\mathcal{B}} \\nabla_{\\boldsymbol{\\theta}} \\ell^{(i)}(\\boldsymbol{\\theta})$\n",
    "\n",
    "其中梯度是损失有关3个为标量的模型参数的偏导数组成的向量：\n",
    "$$\\displaystyle\\nabla_{\\boldsymbol{\\theta}} \\ell^{(i)}(\\boldsymbol{\\theta})= \\begin{bmatrix} \\frac{ \\partial \\ell^{(i)}(w_1, w_2, b) }{\\partial w_1} \\\\ \\frac{ \\partial \\ell^{(i)}(w_1, w_2, b) }{\\partial w_2} \\\\ \\frac{ \\partial \\ell^{(i)}(w_1, w_2, b) }{\\partial b} \\end{bmatrix} = \\begin{bmatrix} x_1^{(i)} (x_1^{(i)} w_1 + x_2^{(i)} w_2 + b - y^{(i)}) \\\\ x_2^{(i)} (x_1^{(i)} w_1 + x_2^{(i)} w_2 + b - y^{(i)}) \\\\ x_1^{(i)} w_1 + x_2^{(i)} w_2 + b - y^{(i)} \\end{bmatrix} = \\begin{bmatrix} x_1^{(i)} \\\\ x_2^{(i)} \\\\ 1 \\end{bmatrix} (\\hat{y}^{(i)} - y^{(i)})$$\n",
    "\n",
    "\n",
    "## 3.2 线性回归的从零开始实现\n",
    "本节使用NDArray和autograd来实现⼀个线性回归的训练。\n",
    "\n",
    "### 3.2.1 ⽣成数据集\n",
    "\n",
    "我们构造⼀个简单的⼈⼯训练数据集。设训练数据集样本数为1000，特征数为2。给定随机⽣成的批量样本特征$\\boldsymbol{X} \\in \\mathbb{R}^{1000 \\times 2}$ ，我们使⽤线性回归模型真实权重`w = [2, −3.4]`和偏差`b = 4.2`，以及⼀个随机噪声项$\\epsilon$来⽣成标签\n",
    "+ $y = Xw + b + \\epsilon$\n",
    "\n",
    "其中噪声项$\\epsilon$服从均值为0、标准差为0.01的正态分布。噪声代表了数据集中⽆意义的⼲扰。"
   ]
  },
  {
   "cell_type": "code",
   "execution_count": 5,
   "metadata": {},
   "outputs": [
    {
     "data": {
      "text/plain": [
       "(\n",
       " [2.2122064 0.7740038]\n",
       " <NDArray 2 @cpu(0)>, \n",
       " [6.000587]\n",
       " <NDArray 1 @cpu(0)>)"
      ]
     },
     "execution_count": 5,
     "metadata": {},
     "output_type": "execute_result"
    }
   ],
   "source": [
    "num_inputs = 2\n",
    "num_examples = 1000 \n",
    "true_w = [2, -3.4] \n",
    "true_b = 4.2 \n",
    "\n",
    "features = nd.random.normal(scale=1, shape=(num_examples, num_inputs))\n",
    "\n",
    "labels = true_w[0] * features[:, 0] + true_w[1] * features[:, 1] + true_b\n",
    "labels += nd.random.normal(scale=0.01, shape=labels.shape)\n",
    "\n",
    "features[0], labels[0]"
   ]
  },
  {
   "cell_type": "markdown",
   "metadata": {},
   "source": [
    "通过⽣成第⼆个特征`features[:, 1]`和标签的散点图，可以更直观地观察两者间的线性关系。"
   ]
  },
  {
   "cell_type": "code",
   "execution_count": 6,
   "metadata": {},
   "outputs": [
    {
     "data": {
      "image/png": "[encoded data removed]",
      "text/plain": [
       "<Figure size 576x432 with 1 Axes>"
      ]
     },
     "metadata": {
      "needs_background": "light"
     },
     "output_type": "display_data"
    }
   ],
   "source": [
    "def set_figsize(figsize=(8, 6)):\n",
    "    # 设置图的尺⼨ \n",
    "    plt.rcParams['figure.figsize'] = figsize\n",
    "\n",
    "set_figsize()\n",
    "plt.scatter(features[:, 1].asnumpy(), labels.asnumpy(), 1)\n",
    "plt.show()"
   ]
  },
  {
   "cell_type": "markdown",
   "metadata": {},
   "source": [
    "### 3.2.2 读取数据\n",
    "在训练模型的时候，我们需要遍历数据集并不断读取小批量数据样本。这⾥我们定义⼀个函数： 它每次返回batch_size个随机样本的特征和标签。"
   ]
  },
  {
   "cell_type": "code",
   "execution_count": 7,
   "metadata": {},
   "outputs": [
    {
     "name": "stdout",
     "output_type": "stream",
     "text": [
      "\n",
      "[[-0.32821104  2.5574841 ]\n",
      " [-1.5765963  -0.6924825 ]\n",
      " [-1.436299   -1.2416507 ]\n",
      " [ 1.3843732  -0.10097159]\n",
      " [-0.07389027  0.1930282 ]\n",
      " [ 0.4842174   0.49286252]\n",
      " [ 0.6538188   1.1236147 ]\n",
      " [ 1.8117208   0.43412206]\n",
      " [-1.4749662  -0.52414197]\n",
      " [ 0.5963767   2.4444225 ]]\n",
      "<NDArray 10x2 @cpu(0)> \n",
      "[-5.162362   3.409012   5.559958   7.3219676  3.4034605  3.5086532\n",
      "  1.6822191  6.364592   3.0414045 -2.9202068]\n",
      "<NDArray 10 @cpu(0)>\n"
     ]
    }
   ],
   "source": [
    "def data_iter(batch_size, features, labels):\n",
    "    num_examples = len(features)\n",
    "    indices = list(range(num_examples)) \n",
    "    random.shuffle(indices) # 样本的读取顺序是随机的 \n",
    "    for i in range(0, num_examples, batch_size):\n",
    "        j = nd.array(indices[i: min(i + batch_size, num_examples)]) \n",
    "        yield features.take(j), labels.take(j) # take函数根据索引返回对应元素\n",
    "\n",
    "# 让我们读取第⼀个小批量数据样本并打印\n",
    "batch_size = 10\n",
    "\n",
    "for X, y in data_iter(batch_size, features, labels):\n",
    "    print(X, y) \n",
    "    break"
   ]
  },
  {
   "cell_type": "markdown",
   "metadata": {},
   "source": [
    "### 3.2.3 初始化模型参数\n",
    "将权重初始化成均值为0、标准差为0.01的正态随机数，偏差则初始化成0："
   ]
  },
  {
   "cell_type": "code",
   "execution_count": 8,
   "metadata": {},
   "outputs": [],
   "source": [
    "w = nd.random.normal(scale=0.01, shape=(num_inputs, 1))\n",
    "b = nd.zeros(shape=(1,))"
   ]
  },
  {
   "cell_type": "markdown",
   "metadata": {},
   "source": [
    "之后的模型训练中，需要对这些参数求梯度来迭代参数的值，因此我们需要创建它们的梯度："
   ]
  },
  {
   "cell_type": "code",
   "execution_count": 9,
   "metadata": {},
   "outputs": [],
   "source": [
    "w.attach_grad() \n",
    "b.attach_grad()"
   ]
  },
  {
   "cell_type": "markdown",
   "metadata": {},
   "source": [
    "### 3.2.4 定义模型\n",
    "下⾯是线性回归的⽮量计算表达式的实现。我们使⽤dot函数做矩阵乘法。"
   ]
  },
  {
   "cell_type": "code",
   "execution_count": 10,
   "metadata": {},
   "outputs": [],
   "source": [
    "def linreg(X, w, b): \n",
    "    return nd.dot(X, w) + b"
   ]
  },
  {
   "cell_type": "markdown",
   "metadata": {},
   "source": [
    "### 3.2.5 定义损失函数\n",
    "我们使⽤上⼀节描述的平⽅损失来定义线性回归的损失函数。"
   ]
  },
  {
   "cell_type": "code",
   "execution_count": 11,
   "metadata": {},
   "outputs": [],
   "source": [
    "def squared_loss(y_hat, y): \n",
    "    return (y_hat - y.reshape(y_hat.shape)) ** 2 / 2"
   ]
  },
  {
   "cell_type": "markdown",
   "metadata": {},
   "source": [
    "### 3.2.6 定义优化算法\n",
    "以下的`sgd`函数实现了小批量随机梯度下降算法。它通过不断迭代模型参数来优化损失函数。这⾥⾃动求梯度模块计算得来的梯度是⼀个批量样本的梯度和。我们将它除以批量⼤小来得到平均值。"
   ]
  },
  {
   "cell_type": "code",
   "execution_count": 12,
   "metadata": {},
   "outputs": [],
   "source": [
    "def sgd(params, lr, batch_size):\n",
    "    for param in params:\n",
    "        param[:] = param - lr * param.grad / batch_size"
   ]
  },
  {
   "cell_type": "markdown",
   "metadata": {},
   "source": [
    "### 3.2.7 训练模型\n",
    "在训练中，我们将多次迭代模型参数。在每次迭代中，我们根据当前读取的小批量数据样本，通过调⽤反向函数`backward`计算小批量随机梯度，并调⽤优化算法`sgd`迭代模型参数。回忆⼀下`⾃动求梯度`，由于变量`l`并不是⼀个标量，运⾏`l.backward()`将对`l`中元素求和得到新的变量，再求该变量有关模型参数的梯度。\n",
    "\n",
    "在⼀个迭代周期(epoch)中，我们将完整遍历⼀遍`data_iter`函数，并对训练数据集中所有样本都使⽤⼀次(假设样本数能够被批量⼤小整除)。这⾥的迭代周期个数`num_epochs`和学习率`lr`都是超参数。"
   ]
  },
  {
   "cell_type": "code",
   "execution_count": 13,
   "metadata": {},
   "outputs": [
    {
     "name": "stdout",
     "output_type": "stream",
     "text": [
      "epoch 1, loss 0.040421\n",
      "epoch 2, loss 0.000153\n",
      "epoch 3, loss 0.000050\n"
     ]
    }
   ],
   "source": [
    "lr = 0.03\n",
    "num_epochs = 3 \n",
    "net = linreg \n",
    "loss = squared_loss\n",
    "\n",
    "for epoch in range(num_epochs):\n",
    "    for X, y in data_iter(batch_size, features, labels):\n",
    "        with autograd.record():\n",
    "            l = loss(net(X, w, b), y)\n",
    "        l.backward()\n",
    "        sgd([w, b], lr, batch_size)\n",
    "    train_l = loss(net(features, w, b), labels) \n",
    "    print('epoch %d, loss %f' % (epoch + 1, train_l.mean().asnumpy()))"
   ]
  },
  {
   "cell_type": "markdown",
   "metadata": {},
   "source": [
    "训练完成后，我们可以⽐较学到的参数和⽤来⽣成训练集的真实参数，它们应该很接近："
   ]
  },
  {
   "cell_type": "code",
   "execution_count": 14,
   "metadata": {},
   "outputs": [
    {
     "data": {
      "text/plain": [
       "([2, -3.4], \n",
       " [[ 1.9996471]\n",
       "  [-3.3995755]]\n",
       " <NDArray 2x1 @cpu(0)>)"
      ]
     },
     "execution_count": 14,
     "metadata": {},
     "output_type": "execute_result"
    }
   ],
   "source": [
    "true_w, w"
   ]
  },
  {
   "cell_type": "code",
   "execution_count": 15,
   "metadata": {},
   "outputs": [
    {
     "data": {
      "text/plain": [
       "(4.2, \n",
       " [4.199685]\n",
       " <NDArray 1 @cpu(0)>)"
      ]
     },
     "execution_count": 15,
     "metadata": {},
     "output_type": "execute_result"
    }
   ],
   "source": [
    "true_b, b"
   ]
  },
  {
   "cell_type": "markdown",
   "metadata": {},
   "source": [
    "## 3.3 线性回归的简洁实现\n",
    "在本节中我们将使⽤MXNet提供的Gluon接口更⽅便地实现线性回归的训练。\n",
    "\n",
    "### 3.3.1 ⽣成数据集\n",
    "我们⽣成与上⼀节中相同的数据集。"
   ]
  },
  {
   "cell_type": "code",
   "execution_count": 16,
   "metadata": {},
   "outputs": [],
   "source": [
    "num_inputs = 2 \n",
    "num_examples = 1000 \n",
    "true_w = [2, -3.4] \n",
    "true_b = 4.2 \n",
    "\n",
    "features = nd.random.normal(scale=1, shape=(num_examples, num_inputs))\n",
    "labels = true_w[0] * features[:, 0] + true_w[1] * features[:, 1] + true_b\n",
    "labels += nd.random.normal(scale=0.01, shape=labels.shape)"
   ]
  },
  {
   "cell_type": "markdown",
   "metadata": {},
   "source": [
    "### 3.3.2 读取数据\n",
    "Gluon提供了data包来读取数据。由于data常⽤作变量名，我们将导⼊的data模块⽤添加了Gluon⾸字⺟的假名gdata代替。在每⼀次迭代中，我们将随机读取包含10个数据样本的小批量。"
   ]
  },
  {
   "cell_type": "code",
   "execution_count": 17,
   "metadata": {},
   "outputs": [
    {
     "name": "stdout",
     "output_type": "stream",
     "text": [
      "\n",
      "[[-0.08644813  0.4463387 ]\n",
      " [ 2.1249037   0.13337089]\n",
      " [ 0.45684785  2.128176  ]\n",
      " [-0.12238345 -0.37563345]\n",
      " [-0.43713635  2.1147738 ]\n",
      " [-1.282888   -0.79065293]\n",
      " [-1.8736776  -2.2938728 ]\n",
      " [ 0.65449363  1.5194659 ]\n",
      " [-0.7422148   1.7780007 ]\n",
      " [ 0.39709672  0.28495127]]\n",
      "<NDArray 10x2 @cpu(0)> \n",
      "[ 2.5096772   7.990593   -2.132142    5.226048   -3.86194     4.3202453\n",
      "  8.248752    0.33974865 -3.339621    4.019619  ]\n",
      "<NDArray 10 @cpu(0)>\n"
     ]
    }
   ],
   "source": [
    "batch_size = 10\n",
    "dataset = gdata.ArrayDataset(features, labels)\n",
    "data_iter = gdata.DataLoader(dataset, batch_size, shuffle=True)\n",
    "\n",
    "for X, y in data_iter: \n",
    "    print(X, y) \n",
    "    break"
   ]
  },
  {
   "cell_type": "markdown",
   "metadata": {},
   "source": [
    "### 3.3.3 定义模型\n",
    "在上⼀节从零开始的实现中，我们需要定义模型参数，并使⽤它们⼀步步描述模型是怎样计算的。当模型结构变得更复杂时，这些步骤将变得更繁琐。\n",
    "\n",
    "Gluon提供了⼤量预定义的层，这使我们只需关注使⽤哪些层来构造模型。\n",
    "\n",
    "在Gluon中，`Sequential`实例可以看作是⼀个串联各个层的容器。在构造模型时，我们在该容器中依次添加层。当给定输⼊数据时，容器中的每⼀层将依次计算并将输出作为下⼀层的输⼊。"
   ]
  },
  {
   "cell_type": "code",
   "execution_count": 18,
   "metadata": {},
   "outputs": [],
   "source": [
    "net = nn.Sequential()"
   ]
  },
  {
   "cell_type": "markdown",
   "metadata": {},
   "source": [
    "回顾`图3.1`中线性回归在神经⽹络图中的表⽰。作为⼀个单层神经⽹络，线性回归输出层中的神经元和输⼊层中各个输⼊完全连接。因此，线性回归的输出层⼜叫`全连接层`。\n",
    "\n",
    "在Gluon中，全连接层是⼀个`Dense`实例。我们定义该层输出个数为1。我们⽆须指定每⼀层输⼊的形状，当模型得到数据时，模型将⾃动推断出每⼀层的输⼊个数。"
   ]
  },
  {
   "cell_type": "code",
   "execution_count": 19,
   "metadata": {},
   "outputs": [],
   "source": [
    "net.add(nn.Dense(1))"
   ]
  },
  {
   "cell_type": "markdown",
   "metadata": {},
   "source": [
    "### 3.3.4 初始化模型参数\n",
    "MXNet的`init`模块提供了模型参数初始化的各种⽅法。我们通过`init.Normal(sigma=0.01)`指定权重参数每个元素将在初始化时随机采样于均值为0、标准差为0.01的正态分布。偏差参数默认会初始化为零。"
   ]
  },
  {
   "cell_type": "code",
   "execution_count": 20,
   "metadata": {},
   "outputs": [],
   "source": [
    "net.initialize(init.Normal(sigma=0.01))"
   ]
  },
  {
   "cell_type": "markdown",
   "metadata": {},
   "source": [
    "### 3.3.5 定义损失函数\n",
    "在Gluon中，`loss`模块定义了各种损失函数。"
   ]
  },
  {
   "cell_type": "code",
   "execution_count": 21,
   "metadata": {},
   "outputs": [],
   "source": [
    "loss = gloss.L2Loss()"
   ]
  },
  {
   "cell_type": "markdown",
   "metadata": {},
   "source": [
    "### 3.3.6 定义优化算法\n",
    "我们也⽆须实现小批量随机梯度下降。在导⼊Gluon后，我们创建⼀个`Trainer`实例，并指定学习率为0.03的小批量随机梯度下降为优化算法。该优化算法将⽤来迭代net实例所有通过add函数嵌套的层所包含的全部参数。这些参数可以通过`collect_params`函数获取。"
   ]
  },
  {
   "cell_type": "code",
   "execution_count": 22,
   "metadata": {},
   "outputs": [],
   "source": [
    "trainer = gluon.Trainer(net.collect_params(), 'sgd', {'learning_rate': 0.03})"
   ]
  },
  {
   "cell_type": "markdown",
   "metadata": {},
   "source": [
    "### 3.3.7 训练模型\n",
    "在使⽤Gluon训练模型时，我们通过调⽤Trainer实例的step函数来迭代模型参数。\n",
    "\n",
    "上⼀节中我们提到，由于变量`l`是⻓度为`batch_size`的⼀维NDArray，执⾏`l.backward()`等价于执⾏`l.sum().backward()`。按照小批量随机梯度下降的定义，我们在step函数中指明批量⼤小，从而对批量中样本梯度求平均。"
   ]
  },
  {
   "cell_type": "code",
   "execution_count": 23,
   "metadata": {},
   "outputs": [
    {
     "name": "stdout",
     "output_type": "stream",
     "text": [
      "epoch 1, loss: 0.034025\n",
      "epoch 2, loss: 0.000124\n",
      "epoch 3, loss: 0.000050\n"
     ]
    }
   ],
   "source": [
    "num_epochs = 3\n",
    "\n",
    "for epoch in range(1, num_epochs + 1):\n",
    "    for X, y in data_iter:\n",
    "        with autograd.record():\n",
    "            l = loss(net(X), y) \n",
    "        l.backward() \n",
    "        trainer.step(batch_size) \n",
    "    l = loss(net(features), labels) \n",
    "    print('epoch %d, loss: %f' % (epoch, l.mean().asnumpy()))"
   ]
  },
  {
   "cell_type": "markdown",
   "metadata": {},
   "source": [
    "下⾯我们分别⽐较学到的模型参数和真实的模型参数："
   ]
  },
  {
   "cell_type": "code",
   "execution_count": 24,
   "metadata": {},
   "outputs": [
    {
     "data": {
      "text/plain": [
       "([2, -3.4], \n",
       " [[ 1.999827  -3.4003594]]\n",
       " <NDArray 1x2 @cpu(0)>)"
      ]
     },
     "execution_count": 24,
     "metadata": {},
     "output_type": "execute_result"
    }
   ],
   "source": [
    "dense = net[0] \n",
    "true_w, dense.weight.data()"
   ]
  },
  {
   "cell_type": "code",
   "execution_count": 25,
   "metadata": {},
   "outputs": [
    {
     "data": {
      "text/plain": [
       "(4.2, \n",
       " [4.199792]\n",
       " <NDArray 1 @cpu(0)>)"
      ]
     },
     "execution_count": 25,
     "metadata": {},
     "output_type": "execute_result"
    }
   ],
   "source": [
    "true_b, dense.bias.data()"
   ]
  },
  {
   "cell_type": "markdown",
   "metadata": {},
   "source": [
    "## 3.4 softmax回归\n",
    "在另⼀类情景中，模型输出可以是⼀个像图像类别这样的离散值。对于这样的离散值预测问题，我们可以使⽤诸如softmax回归在内的分类模型。和线性回归不同，softmax回归的输出单元从⼀个变成了多个，且引⼊了softmax运算使输出更适合离散值的预测和训练。\n",
    "\n",
    "### 3.4.1 分类问题\n",
    "让我们考虑⼀个简单的图像分类问题，其输⼊图像的⾼和宽均为2像素，且⾊彩为灰度。我们将图像中的4像素分别记为$x_1 , x_2 , x_3 , x_4$。假设训练数据集中图像的真实标签为狗、猫或鸡，这些标签分别对应离散值$y_1, y_2, y_3$。\n",
    "\n",
    "### 3.4.2 softmax回归模型\n",
    "softmax回归跟线性回归⼀样将输⼊特征与权重做线性叠加。与线性回归的⼀个主要不同在于，softmax回归的输出值个数等于标签⾥的类别数。因为⼀共有4种特征和3种输出动物类别，所以权重包含12个标量、偏差包含3个标量，且对每个输⼊计算$o_1, o_2, o_3$这3个输出：\n",
    "$$\\begin{aligned} o_1 &= x_1 w_{11} + x_2 w_{21} + x_3 w_{31} + x_4 w_{41} + b_1,\\\\ o_2 &= x_1 w_{12} + x_2 w_{22} + x_3 w_{32} + x_4 w_{42} + b_2,\\\\ o_3 &= x_1 w_{13} + x_2 w_{23} + x_3 w_{33} + x_4 w_{43} + b_3\\end{aligned}$$\n",
    "\n",
    "`图3.2`⽤神经⽹络图描绘了softmax回归，也是⼀个单层神经⽹络。 由于每个输出$o_1, o_2, o_3$的计算都要依赖于所有的输⼊$x_1 , x_2 , x_3 , x_4$，softmax回归的输出层也是⼀个全连接层。\n",
    "\n",
    "<img src=\"images/03_02.png\" style=\"width:400px;\"/>\n",
    "\n",
    "##### softmax运算\n",
    "既然分类问题需要得到离散的预测输出，一个简单的办法是将输出值$o_i$当作预测类别是$i$的置信度，并将值最大的输出所对应的类作为预测输出。例如，如果$o_1,o_2,o_3$分别为$0.1,10,0.1$，由于$o_2$最大，那么预测类别为2，其代表猫。\n",
    "\n",
    "然而，直接使用输出层的输出有两个问题：\n",
    "+ 输出层的输出值的范围不确定，我们难以直观上判断这些值的意义。例如，输出值10表示\"很置信\"图像类别为猫，因为该输出值是其他两类的输出值的100倍。但如果$o_1=o_3=10^3$，那么输出值10却又表示图像类别为猫的概率很低\n",
    "+ 由于真实标签是离散值，这些离散值与不确定范围的输出值之间的误差难以衡量\n",
    "\n",
    "softmax运算符解决了以上两个问题，它将输出值变换成值为正且和为1的概率分布：\n",
    "+ $\\hat{y}_1, \\hat{y}_2, \\hat{y}_3 = \\text{softmax}(o_1, o_2, o_3) $\n",
    "\n",
    "其中：\n",
    "+ $\\displaystyle \\hat{y}_1 = \\frac{ \\exp(o_1)}{\\sum_{i=1}^3 \\exp(o_i)}, \\quad \\hat{y}_2 = \\frac{ \\exp(o_2)}{\\sum_{i=1}^3 \\exp(o_i)}, \\quad \\hat{y}_3 = \\frac{ \\exp(o_3)}{\\sum_{i=1}^3 \\exp(o_i)}$\n",
    "\n",
    "容易看出$\\hat{y}_1 + \\hat{y}_2 + \\hat{y}_3 = 1$且$0 \\leq \\hat{y}_1, \\hat{y}_2, \\hat{y}_3 \\leq 1$，因此$\\hat{y}_1, \\hat{y}_2, \\hat{y}_3$是一个合法的概率分布。这时候，如果$\\hat{y}_2=0.8$，不管$\\hat{y}_1$和$\\hat{y}_3$的值是多少，我们都知道图像类别为猫的概率是80%。此外，我们注意到\n",
    "+ $\\underset{i}{\\arg\\max} o_i = \\underset{i}{\\arg\\max} \\hat{y}_i$\n",
    "\n",
    "因此softmax运算不改变预测类别输出。"
   ]
  },
  {
   "cell_type": "markdown",
   "metadata": {},
   "source": [
    "### 3.4.3 单样本分类的⽮量计算表达式\n",
    "我们可以将单样本分类通过⽮量计算来表达。在上⾯的图像分类问题中，假设softmax回归的权重和偏差参数分别为\n",
    "$$ \\boldsymbol{W} = \\begin{bmatrix} w_{11} & w_{12} & w_{13} \\\\ w_{21} & w_{22} & w_{23} \\\\ w_{31} & w_{32} & w_{33} \\\\ w_{41} & w_{42} & w_{43} \\end{bmatrix}, \\quad \\boldsymbol{b} = \\begin{bmatrix} b_1 & b_2 & b_3 \\end{bmatrix}$$\n",
    "\n",
    "设高和宽分别为2个像素的图像样本$i$的特征为\n",
    "+ $\\boldsymbol{x}^{(i)} = \\begin{bmatrix}x_1^{(i)} & x_2^{(i)} & x_3^{(i)} & x_4^{(i)}\\end{bmatrix}$\n",
    "\n",
    "输出层的输出为\n",
    "+ $\\boldsymbol{o}^{(i)} = \\begin{bmatrix}o_1^{(i)} & o_2^{(i)} & o_3^{(i)}\\end{bmatrix}$\n",
    "\n",
    "预测为狗、猫或鸡的概率分布为\n",
    "+ $\\boldsymbol{\\hat{y}}^{(i)} = \\begin{bmatrix}\\hat{y}_1^{(i)} & \\hat{y}_2^{(i)} & \\hat{y}_3^{(i)}\\end{bmatrix}$\n",
    "\n",
    "softmax回归对样本$i$分类的矢量计算表达式为\n",
    "$$\\displaystyle\\begin{aligned} \\boldsymbol{o}^{(i)} &= \\boldsymbol{x}^{(i)} \\boldsymbol{W} + \\boldsymbol{b}, \\\\ \\boldsymbol{\\hat{y}}^{(i)} &= \\text{softmax}(\\boldsymbol{o}^{(i)}) \\end{aligned}$$\n",
    "\n",
    "### 3.4.4 ⼩批量样本分类的⽮量计算表达式\n",
    "我们通常对小批量数据做矢量计算。广义上讲，给定一个小批量样本，其批量大小为$n$，输入个数为$d$，输出个数为$q$。设批量特征为$\\boldsymbol{X} \\in \\mathbb{R}^{n \\times d}$。假设softmax回归的权重和偏差参数分别为$\\boldsymbol{W} \\in \\mathbb{R}^{d \\times q}$和$\\boldsymbol{b} \\in \\mathbb{R}^{1 \\times q}$。\n",
    "\n",
    "softmax回归的矢量计算表达式为\n",
    "$$\\begin{aligned} \\boldsymbol{O} &= \\boldsymbol{X} \\boldsymbol{W} + \\boldsymbol{b},\\\\ \\boldsymbol{\\hat{Y}} &= \\text{softmax}(\\boldsymbol{O}), \\end{aligned}$$\n",
    "\n",
    "### 3.4.5 交叉熵损失函数\n",
    "softmax运算将输出变换成一个合法的类别预测分布。实际上，真实标签也可以用类别分布表达：对于样本$i$，我们构造向量$\\boldsymbol{y}^{(i)}\\in \\mathbb{R}^{q}$ ，使其第$y^{(i)}$(样本$i$类别的离散数值)个元素为1，其余为0。这样我们的训练目标可以设为使预测概率分布$\\boldsymbol{\\hat y}^{(i)}$尽可能接近真实的标签概率分布$\\boldsymbol{y}^{(i)}$。\n",
    "\n",
    "我们可以像线性回归那样使用平方损失函数。然而，想要预测分类结果正确，我们其实并不需要预测概率完全等于标签概率。例如，在图像分类的例子里，如果$y^{(i)}=3$，那么我们只需要$\\hat{y}^{(i)}_3$比其他两个预测值$\\hat{y}^{(i)}_1$和$\\hat{y}^{(i)}_2$大就行了。即使$\\hat{y}^{(i)}_3$值为0.6，不管其他两个预测值为多少，类别预测均正确。而平方损失则过于严格，例如$\\hat y^{(i)}_1=\\hat y^{(i)}_2=0.2$比$\\hat y^{(i)}_1=0, \\hat y^{(i)}_2=0.4$的损失要小很多，虽然两者都有同样正确的分类预测结果。\n",
    "\n",
    "改善上述问题的一个方法是使用更适合衡量两个概率分布差异的测量函数，交叉熵（cross entropy）是一个常用的衡量方法：\n",
    "+ $\\displaystyle H\\left(\\boldsymbol y^{(i)}, \\boldsymbol {\\hat y}^{(i)}\\right ) = -\\sum_{j=1}^q y_j^{(i)} \\log \\hat y_j^{(i)}$\n",
    "\n",
    "其中带下标的$y_j^{(i)}$是向量$\\boldsymbol y^{(i)}$中非0即1的元素，需要注意将它与样本$i$类别的离散数值，即不带下标的$y^{(i)}$区分。在上式中，我们知道向量$\\boldsymbol y^{(i)}$中只有1个元素为1，其余全为0。也就是说，交叉熵只关心对正确类别的预测概率，因为只要其值足够大，就可以确保分类结果正确。\n",
    "\n",
    "当然，遇到一个样本有多个标签时，例如图像里含有不止一个物体时，我们并不能做这一步简化。但即便对于这种情况，交叉熵同样只关心对图像中出现的物体类别的预测概率。\n",
    "\n",
    "假设训练数据集的样本数为$n$，交叉熵损失函数定义为 \n",
    "+ $\\ell(\\boldsymbol{\\Theta}) = \\frac{1}{n} \\sum_{i=1}^n H\\left(\\boldsymbol y^{(i)}, \\boldsymbol {\\hat y}^{(i)}\\right )$\n",
    "\n",
    "其中$\\boldsymbol{\\Theta}$代表模型参数。\n",
    "\n",
    "### 3.4.6 模型预测及评价\n",
    "在训练好softmax回归模型后，给定任一样本特征，就可以预测每个输出类别的概率。通常，我们把预测概率最大的类别作为输出类别。如果它与真实类别一致，说明这次预测是正确的。\n",
    "\n",
    "\n",
    "## 3.5 图像分类数据集(Fashion-MNIST)\n",
    "\n",
    "### 3.5.1 获取数据集\n",
    "我们通过Gluon的data包来下载这个数据集："
   ]
  },
  {
   "cell_type": "code",
   "execution_count": 26,
   "metadata": {},
   "outputs": [],
   "source": [
    "mnist_train = gdata.vision.FashionMNIST(train=True) \n",
    "mnist_test = gdata.vision.FashionMNIST(train=False)"
   ]
  },
  {
   "cell_type": "code",
   "execution_count": 27,
   "metadata": {},
   "outputs": [
    {
     "data": {
      "text/plain": [
       "(60000, 10000)"
      ]
     },
     "execution_count": 27,
     "metadata": {},
     "output_type": "execute_result"
    }
   ],
   "source": [
    "len(mnist_train), len(mnist_test)"
   ]
  },
  {
   "cell_type": "code",
   "execution_count": 28,
   "metadata": {},
   "outputs": [
    {
     "data": {
      "text/plain": [
       "((28, 28, 1), numpy.uint8)"
      ]
     },
     "execution_count": 28,
     "metadata": {},
     "output_type": "execute_result"
    }
   ],
   "source": [
    "# 获取第⼀个样本的图像和标签\n",
    "feature, label = mnist_train[0]\n",
    "feature.shape, feature.dtype"
   ]
  },
  {
   "cell_type": "code",
   "execution_count": 29,
   "metadata": {},
   "outputs": [
    {
     "data": {
      "text/plain": [
       "(2, numpy.int32, dtype('int32'))"
      ]
     },
     "execution_count": 29,
     "metadata": {},
     "output_type": "execute_result"
    }
   ],
   "source": [
    "label, type(label), label.dtype"
   ]
  },
  {
   "cell_type": "markdown",
   "metadata": {},
   "source": [
    "Fashion-MNIST中⼀共包括了10个类别，分别为t-shirt、trouser、pullover、 dress、coat、sandal、shirt、sneaker、bag和ankle boot。以下函数可以将数值标签转成相应的⽂本标签。"
   ]
  },
  {
   "cell_type": "code",
   "execution_count": 30,
   "metadata": {},
   "outputs": [],
   "source": [
    "def get_fashion_mnist_labels(labels):\n",
    "    text_labels = ['t-shirt', 'trouser', 'pullover', 'dress', 'coat', 'sandal', 'shirt', 'sneaker', 'bag', 'ankle boot'] \n",
    "    return [text_labels[int(i)] for i in labels]"
   ]
  },
  {
   "cell_type": "markdown",
   "metadata": {},
   "source": [
    "下⾯定义⼀个可以在⼀⾏⾥画出多张图像和对应标签的函数："
   ]
  },
  {
   "cell_type": "code",
   "execution_count": 31,
   "metadata": {},
   "outputs": [
    {
     "data": {
      "image/png": "[encoded data removed]",
      "text/plain": [
       "<Figure size 864x864 with 9 Axes>"
      ]
     },
     "metadata": {
      "needs_background": "light"
     },
     "output_type": "display_data"
    }
   ],
   "source": [
    "def show_fashion_mnist(images, labels):\n",
    "    set_figsize()\n",
    "    _, figs = plt.subplots(1, len(images), figsize=(12, 12))\n",
    "    for f, img, lbl in zip(figs, images, labels):\n",
    "        f.imshow(img.reshape((28, 28)).asnumpy()) \n",
    "        f.set_title(lbl) \n",
    "        f.axes.get_xaxis().set_visible(False) \n",
    "        f.axes.get_yaxis().set_visible(False)\n",
    "\n",
    "X, y = mnist_train[0:9] \n",
    "show_fashion_mnist(X, get_fashion_mnist_labels(y))\n",
    "plt.show()"
   ]
  },
  {
   "cell_type": "markdown",
   "metadata": {},
   "source": [
    "### 3.5.2 读取⼩批量\n",
    "在实践中，数据读取经常是训练的性能瓶颈，特别当模型较简单或者计算硬件性能较⾼时。Gluon的`DataLoader`中⼀个很⽅便的功能是允许使⽤多进程来加速数据读取。这⾥我们通过参数`num_workers`来设置4个进程读取数据。\n",
    "\n",
    "此外，我们通过`ToTensor`实例将图像数据从uint8格式变换成32位浮点数格式，并除以255使得所有像素的数值均在0到1之间。ToTensor实例还将图像通道从最后⼀维移到最前⼀维来⽅便之后介绍的卷积神经⽹络计算。通过数据集的`transform_first`函数，我们将`ToTensor`的变换应⽤在每个数据样本(图像和标签)的第⼀个元素，即图像之上。"
   ]
  },
  {
   "cell_type": "code",
   "execution_count": 32,
   "metadata": {},
   "outputs": [],
   "source": [
    "batch_size = 256\n",
    "transformer = gdata.vision.transforms.ToTensor() \n",
    "num_workers = 4\n",
    "train_iter = gdata.DataLoader(mnist_train.transform_first(transformer), batch_size, shuffle=True, num_workers=num_workers) \n",
    "test_iter = gdata.DataLoader(mnist_test.transform_first(transformer), batch_size, shuffle=False, num_workers=num_workers)"
   ]
  },
  {
   "cell_type": "code",
   "execution_count": 33,
   "metadata": {},
   "outputs": [
    {
     "data": {
      "text/plain": [
       "'4.06 sec'"
      ]
     },
     "execution_count": 33,
     "metadata": {},
     "output_type": "execute_result"
    }
   ],
   "source": [
    "# 查看读取⼀遍训练数据需要的时间\n",
    "start = time()\n",
    "for X, y in train_iter:\n",
    "    continue \n",
    "'%.2f sec' % (time() - start)"
   ]
  },
  {
   "cell_type": "markdown",
   "metadata": {},
   "source": [
    "我们将获取并读取Fashion-MNIST数据集的逻辑封装在d2lzh. load_data_fashion_mnist函数中供后⾯章节调⽤。该函数将返回train_iter和test_iter两个变量。 \n",
    "\n",
    "## 3.6 softmax回归的从零开始实现\n",
    "\n",
    "### 3.6.1 获取和读取数据\n",
    "我们将使⽤Fashion-MNIST数据集，并设置批量⼤小为256。"
   ]
  },
  {
   "cell_type": "code",
   "execution_count": 34,
   "metadata": {},
   "outputs": [],
   "source": [
    "batch_size = 256 \n",
    "train_iter, test_iter = d2l.load_data_fashion_mnist(batch_size)"
   ]
  },
  {
   "cell_type": "markdown",
   "metadata": {},
   "source": [
    "### 3.6.2 初始化模型参数\n",
    "已知每个样本输⼊是⾼和宽均为28像素的图像。模型的输⼊向量的⻓度是`28 × 28 = 784`：该向量的每个元素对应图像中每个像素。由于图像有10个类别，单层神经⽹络输出层的输出个数为10，因此softmax回归的权重和偏差参数分别为`784 × 10`和`1 × 10`的矩阵。"
   ]
  },
  {
   "cell_type": "code",
   "execution_count": 35,
   "metadata": {},
   "outputs": [],
   "source": [
    "num_inputs = 784 \n",
    "num_outputs = 10\n",
    "\n",
    "W = nd.random.normal(scale=0.01, shape=(num_inputs, num_outputs)) \n",
    "b = nd.zeros(num_outputs)\n",
    "\n",
    "W.attach_grad() \n",
    "b.attach_grad()"
   ]
  },
  {
   "cell_type": "markdown",
   "metadata": {},
   "source": [
    "### 3.6.3 实现softmax运算\n",
    "在介绍如何定义softmax回归之前，我们先描述⼀下对如何对多维NDArray按维度操作。我们可以只对NDArray其中同⼀列`axis=0`或同⼀⾏`axis=1`的元素求和，并在结果中保留⾏和列这两个维度`keepdims=True`。"
   ]
  },
  {
   "cell_type": "code",
   "execution_count": 36,
   "metadata": {},
   "outputs": [
    {
     "data": {
      "text/plain": [
       "(\n",
       " [[5. 7. 9.]]\n",
       " <NDArray 1x3 @cpu(0)>, \n",
       " [[ 6.]\n",
       "  [15.]]\n",
       " <NDArray 2x1 @cpu(0)>)"
      ]
     },
     "execution_count": 36,
     "metadata": {},
     "output_type": "execute_result"
    }
   ],
   "source": [
    "X = nd.array([[1, 2, 3], [4, 5, 6]]) \n",
    "X.sum(axis=0, keepdims=True), X.sum(axis=1, keepdims=True)"
   ]
  },
  {
   "cell_type": "markdown",
   "metadata": {},
   "source": [
    "下⾯我们定义softmax运算了。在下⾯的函数中，矩阵X的⾏数是样本数，列数是输出个数。为了表达样本预测各个输出的概率，softmax运算会先通过`exp`函数对每个元素做指数运算，再对`exp`矩阵同⾏元素求和，最后令矩阵每⾏各元素与该⾏元素之和相除。这样⼀来，最终得到的矩阵每⾏元素和为1且⾮负。因此，该矩阵每⾏都是合法的概率分布。softmax运算的输出矩阵中的任意⼀⾏元素代表了⼀个样本在各个输出类别上的预测概率。"
   ]
  },
  {
   "cell_type": "code",
   "execution_count": 37,
   "metadata": {},
   "outputs": [],
   "source": [
    "def softmax(X):\n",
    "    X_exp = X.exp() \n",
    "    partition = X_exp.sum(axis=1, keepdims=True) \n",
    "    return X_exp / partition"
   ]
  },
  {
   "cell_type": "markdown",
   "metadata": {},
   "source": [
    "对于随机输⼊，我们将每个元素变成了⾮负数，且每⼀⾏和为1："
   ]
  },
  {
   "cell_type": "code",
   "execution_count": 38,
   "metadata": {},
   "outputs": [
    {
     "data": {
      "text/plain": [
       "(\n",
       " [[0.1393796  0.20005593 0.3221857  0.16746451 0.1709143 ]\n",
       "  [0.09240135 0.09818196 0.08506123 0.5392497  0.18510573]]\n",
       " <NDArray 2x5 @cpu(0)>, \n",
       " [1. 1.]\n",
       " <NDArray 2 @cpu(0)>)"
      ]
     },
     "execution_count": 38,
     "metadata": {},
     "output_type": "execute_result"
    }
   ],
   "source": [
    "X = nd.random.normal(shape=(2, 5)) \n",
    "X_prob = softmax(X) \n",
    "X_prob, X_prob.sum(axis=1)"
   ]
  },
  {
   "cell_type": "markdown",
   "metadata": {},
   "source": [
    "### 3.6.4 定义模型\n",
    "定义上节描述的softmax回归模型。"
   ]
  },
  {
   "cell_type": "code",
   "execution_count": 39,
   "metadata": {},
   "outputs": [],
   "source": [
    "def net(X):\n",
    "    return softmax(nd.dot(X.reshape((-1, num_inputs)), W) + b)"
   ]
  },
  {
   "cell_type": "markdown",
   "metadata": {},
   "source": [
    "### 3.6.5 定义损失函数\n",
    "我们介绍了softmax回归使⽤的交叉熵损失函数。为了得到标签的预测概率，我们可以使⽤`pick`函数。在下⾯的例⼦中，变量`y_hat`是2个样本在3个类别的预测概率，变量`y`是这2个样本的标签类别。通过使⽤`pick`函数，我们得到了2个样本的标签的预测概率。与“softmax回归” ⼀节数学表述中标签类别离散值从1开始逐⼀递增不同，在代码中，标签类别的离散值是从0开始逐⼀递增的。"
   ]
  },
  {
   "cell_type": "code",
   "execution_count": 40,
   "metadata": {},
   "outputs": [
    {
     "data": {
      "text/plain": [
       "\n",
       "[0.1 0.5]\n",
       "<NDArray 2 @cpu(0)>"
      ]
     },
     "execution_count": 40,
     "metadata": {},
     "output_type": "execute_result"
    }
   ],
   "source": [
    "y_hat = nd.array([[0.1, 0.3, 0.6], [0.3, 0.2, 0.5]]) \n",
    "y = nd.array([0, 2], dtype='int32') \n",
    "nd.pick(y_hat, y)"
   ]
  },
  {
   "cell_type": "markdown",
   "metadata": {},
   "source": [
    "下⾯实现了交叉熵损失函数。"
   ]
  },
  {
   "cell_type": "code",
   "execution_count": 41,
   "metadata": {},
   "outputs": [],
   "source": [
    "def cross_entropy(y_hat, y):\n",
    "    return -nd.pick(y_hat, y).log()"
   ]
  },
  {
   "cell_type": "markdown",
   "metadata": {},
   "source": [
    "### 3.6.6 计算分类准确率\n",
    "给定⼀个类别的预测概率分布`y_hat`，我们把预测概率最⼤的类别作为输出类别。如果它与真实类别`y`⼀致，说明这次预测是正确的。分类准确率即正确预测数量与总预测数量之⽐。\n",
    "\n",
    "为了演⽰准确率的计算，下⾯定义准确率accuracy函数。"
   ]
  },
  {
   "cell_type": "code",
   "execution_count": 42,
   "metadata": {},
   "outputs": [],
   "source": [
    "def accuracy(y_hat, y):\n",
    "    # 由于标签类型为整数，我们先将变量y变换为浮点数再进⾏相等条件判断\n",
    "    return (y_hat.argmax(axis=1) == y.astype('float32')).mean().asscalar()"
   ]
  },
  {
   "cell_type": "code",
   "execution_count": 43,
   "metadata": {},
   "outputs": [
    {
     "data": {
      "text/plain": [
       "0.5"
      ]
     },
     "execution_count": 43,
     "metadata": {},
     "output_type": "execute_result"
    }
   ],
   "source": [
    "accuracy(y_hat, y)"
   ]
  },
  {
   "cell_type": "markdown",
   "metadata": {},
   "source": [
    "类似地，我们可以评价模型`net`在数据集`data_iter`上的准确率。"
   ]
  },
  {
   "cell_type": "code",
   "execution_count": 44,
   "metadata": {},
   "outputs": [],
   "source": [
    "def evaluate_accuracy(data_iter, net):\n",
    "    acc_sum, n = 0.0, 0 \n",
    "    for X, y in data_iter:\n",
    "        y = y.astype('float32')\n",
    "        acc_sum += (net(X).argmax(axis=1) == y).sum().asscalar()\n",
    "        n += y.size \n",
    "    return acc_sum / n"
   ]
  },
  {
   "cell_type": "markdown",
   "metadata": {},
   "source": [
    "因为我们随机初始化了模型`net`，所以这个随机模型的准确率应该接近于类别个数10的倒数0.1。"
   ]
  },
  {
   "cell_type": "code",
   "execution_count": 45,
   "metadata": {},
   "outputs": [
    {
     "data": {
      "text/plain": [
       "0.058"
      ]
     },
     "execution_count": 45,
     "metadata": {},
     "output_type": "execute_result"
    }
   ],
   "source": [
    "evaluate_accuracy(test_iter, net)"
   ]
  },
  {
   "cell_type": "markdown",
   "metadata": {},
   "source": [
    "### 3.6.7 训练模型\n",
    "使⽤小批量随机梯度下降来优化模型的损失函数。 "
   ]
  },
  {
   "cell_type": "code",
   "execution_count": 46,
   "metadata": {},
   "outputs": [
    {
     "name": "stdout",
     "output_type": "stream",
     "text": [
      "epoch 1, loss 0.7881, train acc 0.745, test acc 0.802\n",
      "epoch 2, loss 0.5739, train acc 0.811, test acc 0.818\n",
      "epoch 3, loss 0.5299, train acc 0.824, test acc 0.832\n",
      "epoch 4, loss 0.5061, train acc 0.830, test acc 0.836\n",
      "epoch 5, loss 0.4903, train acc 0.834, test acc 0.841\n"
     ]
    }
   ],
   "source": [
    "num_epochs, lr = 5, 0.1\n",
    "\n",
    "def train_ch3(net, train_iter, test_iter, loss, num_epochs, batch_size, params=None, lr=None, trainer=None):\n",
    "    for epoch in range(num_epochs):\n",
    "        train_l_sum, train_acc_sum, n = 0.0, 0.0, 0 \n",
    "        for X, y in train_iter:\n",
    "            with autograd.record():\n",
    "                y_hat = net(X) \n",
    "                l = loss(y_hat, y).sum() \n",
    "            l.backward() \n",
    "            if trainer is None:\n",
    "                d2l.sgd(params, lr, batch_size) \n",
    "            else:\n",
    "                trainer.step(batch_size) # “softmax回归的简洁实现”⼀节将⽤到 \n",
    "            y = y.astype('float32') \n",
    "            train_l_sum += l.asscalar() \n",
    "            train_acc_sum += (y_hat.argmax(axis=1) == y).sum().asscalar() \n",
    "            n += y.size\n",
    "        test_acc = evaluate_accuracy(test_iter, net) \n",
    "        print('epoch %d, loss %.4f, train acc %.3f, test acc %.3f' % (epoch + 1, train_l_sum / n, train_acc_sum / n, test_acc))\n",
    "\n",
    "train_ch3(net, train_iter, test_iter, cross_entropy, num_epochs, batch_size, [W, b], lr)"
   ]
  },
  {
   "cell_type": "markdown",
   "metadata": {},
   "source": [
    "## 3.7 softmax回归的简洁实现\n",
    "本节使⽤Gluon来实现⼀个softmax回归模型。\n",
    "\n",
    "### 3.7.1 获取和读取数据\n",
    "我们仍然使⽤Fashion-MNIST数据集和上⼀节中设置的批量⼤小。"
   ]
  },
  {
   "cell_type": "code",
   "execution_count": 47,
   "metadata": {},
   "outputs": [],
   "source": [
    "batch_size = 256 \n",
    "train_iter, test_iter = d2l.load_data_fashion_mnist(batch_size)"
   ]
  },
  {
   "cell_type": "markdown",
   "metadata": {},
   "source": [
    "### 3.7.2 定义和初始化模型\n",
    "softmax回归的输出层是⼀个全连接层，我们添加⼀个输出个数为10的全连接层。我们使⽤均值为0、标准差为0.01的正态分布随机初始化模型的权重参数。"
   ]
  },
  {
   "cell_type": "code",
   "execution_count": 48,
   "metadata": {},
   "outputs": [],
   "source": [
    "net = nn.Sequential()\n",
    "net.add(nn.Dense(10)) \n",
    "net.initialize(init.Normal(sigma=0.01))"
   ]
  },
  {
   "cell_type": "markdown",
   "metadata": {},
   "source": [
    "### 3.7.3 softmax和交叉熵损失函数\n",
    "如果做了上⼀节的练习，那么你可能意识到了分开定义softmax运算和交叉熵损失函数可能会造成数值不稳定。因此，Gluon提供了⼀个包括softmax运算和交叉熵损失计算的函数。它的数值稳定性更好。"
   ]
  },
  {
   "cell_type": "code",
   "execution_count": 49,
   "metadata": {},
   "outputs": [],
   "source": [
    "loss = gloss.SoftmaxCrossEntropyLoss()"
   ]
  },
  {
   "cell_type": "markdown",
   "metadata": {},
   "source": [
    "### 3.7.4 定义优化算法\n",
    "我们使⽤学习率为0.1的小批量随机梯度下降作为优化算法。"
   ]
  },
  {
   "cell_type": "code",
   "execution_count": 50,
   "metadata": {},
   "outputs": [],
   "source": [
    "trainer = gluon.Trainer(net.collect_params(), 'sgd', {'learning_rate': 0.1})"
   ]
  },
  {
   "cell_type": "markdown",
   "metadata": {},
   "source": [
    "### 3.7.5 训练模型\n",
    "我们使⽤上⼀节中定义的训练函数来训练模型。"
   ]
  },
  {
   "cell_type": "code",
   "execution_count": 51,
   "metadata": {},
   "outputs": [
    {
     "name": "stdout",
     "output_type": "stream",
     "text": [
      "epoch 1, loss 0.7900, train acc 0.745, test acc 0.806\n",
      "epoch 2, loss 0.5757, train acc 0.811, test acc 0.822\n",
      "epoch 3, loss 0.5294, train acc 0.823, test acc 0.823\n",
      "epoch 4, loss 0.5052, train acc 0.830, test acc 0.836\n",
      "epoch 5, loss 0.4896, train acc 0.834, test acc 0.838\n"
     ]
    }
   ],
   "source": [
    "num_epochs = 5\n",
    "d2l.train_ch3(net, train_iter, test_iter, loss, num_epochs, batch_size, None, None, trainer)"
   ]
  },
  {
   "cell_type": "markdown",
   "metadata": {},
   "source": [
    "## 3.8 多层感知机\n",
    "本节以多层感知机(multilayer perceptron，MLP)为例，介绍多层神经⽹络的概念。\n",
    "\n",
    "### 3.8.1 隐藏层\n",
    "多层感知机在单层神经⽹络的基础上引⼊了⼀到多个隐藏层。隐藏层位于输⼊层和输出层之间。`图3.3`展⽰了⼀个多层感知机的神经⽹络图。\n",
    "\n",
    "<img src=\"images/03_03.png\" style=\"width:500px;\"/>\n",
    "\n",
    "由`图3.3`可⻅，隐藏层中的神经元和输⼊层中各个输⼊完全连接，输出层中的神经元和隐藏层中的各个神经元也完全连接。因此，多层感知机中的隐藏层和输出层都是全连接层。\n",
    "\n",
    "具体来说，给定一个小批量样本$\\boldsymbol{X} \\in \\mathbb{R}^{n \\times d}$，其批量大小为$n$，输入个数为$d$。假设多层感知机只有一个隐藏层，其中隐藏单元个数为$h$。记隐藏层的输出（也称为隐藏层变量或隐藏变量）为$\\boldsymbol{H}$，有$\\boldsymbol{H} \\in \\mathbb{R}^{n \\times h}$。因为隐藏层和输出层均是全连接层，可以设隐藏层的权重参数和偏差参数分别为$\\boldsymbol{W}_h \\in \\mathbb{R}^{d \\times h}$和 $\\boldsymbol{b}_h \\in \\mathbb{R}^{1 \\times h}$，输出层的权重和偏差参数分别为$\\boldsymbol{W}_o \\in \\mathbb{R}^{h \\times q}$和$\\boldsymbol{b}_o \\in \\mathbb{R}^{1 \\times q}$。\n",
    "\n",
    "对于含单隐藏层的多层感知机，其输出$\\boldsymbol{O} \\in \\mathbb{R}^{n \\times q}$的计算为\n",
    "$$\\displaystyle\\begin{aligned} \\boldsymbol{H} &= \\boldsymbol{X} \\boldsymbol{W}_h + \\boldsymbol{b}_h, \\\\ \\boldsymbol{O} &= \\boldsymbol{H} \\boldsymbol{W}_o + \\boldsymbol{b}_o, \\end{aligned}\n",
    "$$\n",
    "\n",
    "也就是将隐藏层的输出直接作为输出层的输入。如果将以上两个式子联立起来，可以得到\n",
    "$$ \\boldsymbol{O} = (\\boldsymbol{X} \\boldsymbol{W}_h + \\boldsymbol{b}_h)\\boldsymbol{W}_o + \\boldsymbol{b}_o = \\boldsymbol{X} \\boldsymbol{W}_h\\boldsymbol{W}_o + \\boldsymbol{b}_h \\boldsymbol{W}_o + \\boldsymbol{b}_o. $$\n",
    "\n",
    "从联立后的式子可以看出，虽然神经网络引入了隐藏层，却依然等价于一个单层神经网络：其中输出层权重参数为$\\boldsymbol{W}_h\\boldsymbol{W}_o$，偏差参数为$\\boldsymbol{b}_h \\boldsymbol{W}_o + \\boldsymbol{b}_o$。不难发现，即便再添加更多的隐藏层，以上设计依然只能与仅含输出层的单层神经网络等价。"
   ]
  },
  {
   "cell_type": "markdown",
   "metadata": {},
   "source": [
    "### 3.8.2 激活函数\n",
    "上述问题的根源在于全连接层只是对数据做仿射变换(affine transformation)，而多个仿射变换的叠加仍然是⼀个仿射变换。解决问题的⼀个⽅法是引⼊⾮线性变换，这个⾮线性函数被称为`激活函数`(activation function)。\n",
    "\n",
    "##### ReLU函数\n",
    "ReLU(rectified linear unit)函数提供了⼀个很简单的⾮线性变换。给定元素$x$，该函数定义为\n",
    "+ $\\text{ReLU}(x) = \\max(x, 0)$"
   ]
  },
  {
   "cell_type": "code",
   "execution_count": 52,
   "metadata": {},
   "outputs": [
    {
     "data": {
      "image/png": "[encoded data removed]",
      "text/plain": [
       "<Figure size 432x216 with 1 Axes>"
      ]
     },
     "metadata": {
      "needs_background": "light"
     },
     "output_type": "display_data"
    }
   ],
   "source": [
    "def xyplot(x_vals, y_vals, name):\n",
    "    set_figsize(figsize=(6, 3)) \n",
    "    plt.plot(x_vals.asnumpy(), y_vals.asnumpy()) \n",
    "    plt.xlabel('x') \n",
    "    plt.ylabel(name + '(x)')\n",
    "    plt.show()\n",
    "\n",
    "x = nd.arange(-8.0, 8.0, 0.1) \n",
    "x.attach_grad() \n",
    "\n",
    "with autograd.record():\n",
    "    y = x.relu() \n",
    "\n",
    "xyplot(x, y, 'relu')"
   ]
  },
  {
   "cell_type": "markdown",
   "metadata": {},
   "source": [
    "当输⼊为负数时，ReLU函数的导数为0；当输⼊为正数时，ReLU函数的导数为1。尽管输⼊为0时ReLU函数不可导，但是我们可以取此处的导数为0。\n",
    "\n",
    "下⾯绘制ReLU函数的导数。"
   ]
  },
  {
   "cell_type": "code",
   "execution_count": 53,
   "metadata": {},
   "outputs": [
    {
     "data": {
      "image/png": "[encoded data removed]",
      "text/plain": [
       "<Figure size 432x216 with 1 Axes>"
      ]
     },
     "metadata": {
      "needs_background": "light"
     },
     "output_type": "display_data"
    }
   ],
   "source": [
    "y.backward() \n",
    "xyplot(x, x.grad, 'grad of relu')"
   ]
  },
  {
   "cell_type": "markdown",
   "metadata": {},
   "source": [
    "##### sigmoid函数\n",
    "sigmoid函数可以将元素的值变换到0和1之间：\n",
    "+ $\\displaystyle \\text{sigmoid}(x) = \\frac{1}{1 + \\exp(-x)}$\n",
    "\n",
    "sigmoid函数在早期的神经⽹络中较为普遍，但它⽬前逐渐被更简单的ReLU函数取代。"
   ]
  },
  {
   "cell_type": "code",
   "execution_count": 54,
   "metadata": {},
   "outputs": [
    {
     "data": {
      "image/png": "[encoded data removed]",
      "text/plain": [
       "<Figure size 432x216 with 1 Axes>"
      ]
     },
     "metadata": {
      "needs_background": "light"
     },
     "output_type": "display_data"
    }
   ],
   "source": [
    "with autograd.record(): \n",
    "    y = x.sigmoid() \n",
    "xyplot(x, y, 'sigmoid')"
   ]
  },
  {
   "cell_type": "markdown",
   "metadata": {},
   "source": [
    "依据链式法则，sigmoid函数的导数\n",
    "+ $\\text{sigmoid}'(x) = \\text{sigmoid}(x)\\left(1-\\text{sigmoid}(x)\\right)$\n",
    "\n",
    "下⾯绘制了sigmoid函数的导数。当输⼊为0时，sigmoid函数的导数达到最⼤值0.25；当输⼊越偏离0时，sigmoid函数的导数越接近0。"
   ]
  },
  {
   "cell_type": "code",
   "execution_count": 55,
   "metadata": {},
   "outputs": [
    {
     "data": {
      "image/png": "[encoded data removed]",
      "text/plain": [
       "<Figure size 432x216 with 1 Axes>"
      ]
     },
     "metadata": {
      "needs_background": "light"
     },
     "output_type": "display_data"
    }
   ],
   "source": [
    "y.backward() \n",
    "xyplot(x, x.grad, 'grad of sigmoid')"
   ]
  },
  {
   "cell_type": "markdown",
   "metadata": {},
   "source": [
    "##### tanh函数\n",
    "tanh(双曲正切)函数可以将元素的值变换到-1和1之间：\n",
    "+ $\\displaystyle\\text{tanh}(x) = \\frac{1 - \\exp(-2x)}{1 + \\exp(-2x)}$\n",
    "\n",
    "绘制tanh函数，当输⼊接近0时，tanh函数接近线性变换。虽然该函数的形状和sigmoid函数的形状很像，但tanh函数在坐标系的原点上对称。"
   ]
  },
  {
   "cell_type": "code",
   "execution_count": 56,
   "metadata": {},
   "outputs": [
    {
     "data": {
      "image/png": "[encoded data removed]",
      "text/plain": [
       "<Figure size 432x216 with 1 Axes>"
      ]
     },
     "metadata": {
      "needs_background": "light"
     },
     "output_type": "display_data"
    }
   ],
   "source": [
    "with autograd.record():\n",
    "    y = x.tanh()\n",
    "xyplot(x, y, 'tanh')"
   ]
  },
  {
   "cell_type": "markdown",
   "metadata": {},
   "source": [
    "依据链式法则，tanh函数的导数\n",
    "+ $\\text{tanh}'(x) = 1 - \\text{tanh}^2(x)$\n",
    "\n",
    "绘制了tanh函数的导数。当输⼊为0时，tanh函数的导数达到最⼤值1；当输⼊越偏离0时，tanh函数的导数越接近0。"
   ]
  },
  {
   "cell_type": "code",
   "execution_count": 57,
   "metadata": {},
   "outputs": [
    {
     "data": {
      "image/png": "[encoded data removed]",
      "text/plain": [
       "<Figure size 432x216 with 1 Axes>"
      ]
     },
     "metadata": {
      "needs_background": "light"
     },
     "output_type": "display_data"
    }
   ],
   "source": [
    "y.backward() \n",
    "xyplot(x, x.grad, 'grad of tanh')"
   ]
  },
  {
   "cell_type": "markdown",
   "metadata": {},
   "source": [
    "### 3.8.3 多层感知机\n",
    "多层感知机就是含有至少一个隐藏层的由全连接层组成的神经网络，且每个隐藏层的输出通过激活函数进行变换。多层感知机的层数和各隐藏层中隐藏单元个数都是超参数。多层感知机按以下方式计算输出：\n",
    "$$\\displaystyle \\begin{aligned} \\boldsymbol{H} &= \\phi(\\boldsymbol{X} \\boldsymbol{W}_h + \\boldsymbol{b}_h),\\\\ \\boldsymbol{O} &= \\boldsymbol{H} \\boldsymbol{W}_o + \\boldsymbol{b}_o, \\end{aligned} $$\n",
    "\n",
    "其中$\\phi$表示激活函数。在分类问题中，我们可以对输出$\\boldsymbol{O}$做softmax运算，并使用softmax回归中的交叉熵损失函数。 在回归问题中，我们将输出层的输出个数设为1，并将输出$\\boldsymbol{O}$直接提供给线性回归中使用的平方损失函数。\n",
    "\n",
    "\n",
    "## 3.9 多层感知机的从零开始实现\n",
    "本节从零实现⼀个多层感知机。\n",
    "\n",
    "### 3.9.1 获取和读取数据\n",
    "这⾥继续使⽤Fashion-MNIST数据集。"
   ]
  },
  {
   "cell_type": "code",
   "execution_count": 58,
   "metadata": {},
   "outputs": [],
   "source": [
    "batch_size = 256 \n",
    "train_iter, test_iter = d2l.load_data_fashion_mnist(batch_size)"
   ]
  },
  {
   "cell_type": "markdown",
   "metadata": {},
   "source": [
    "### 3.9.2 定义模型参数\n",
    "Fashion-MNIST数据集中图像形状为$28 \\times 28$，类别数为10。我们使用长度为$28 \\times 28 = 784$的向量表示每一张图像。因此，输入个数为784，输出个数为10。实验中，我们设超参数隐藏单元个数为256。"
   ]
  },
  {
   "cell_type": "code",
   "execution_count": 59,
   "metadata": {},
   "outputs": [],
   "source": [
    "num_inputs, num_outputs, num_hiddens = 784, 10, 256\n",
    "\n",
    "W1 = nd.random.normal(scale=0.01, shape=(num_inputs, num_hiddens)) \n",
    "b1 = nd.zeros(num_hiddens) \n",
    "W2 = nd.random.normal(scale=0.01, shape=(num_hiddens, num_outputs)) \n",
    "b2 = nd.zeros(num_outputs)\n",
    "\n",
    "params = [W1, b1, W2, b2]\n",
    "\n",
    "for param in params:\n",
    "    param.attach_grad()"
   ]
  },
  {
   "cell_type": "markdown",
   "metadata": {},
   "source": [
    "### 3.9.3 定义激活函数\n",
    "使⽤基础的maximum函数来实现ReLU，而⾮直接调⽤relu函数。"
   ]
  },
  {
   "cell_type": "code",
   "execution_count": 60,
   "metadata": {},
   "outputs": [],
   "source": [
    "def relu(X):\n",
    "    return nd.maximum(X, 0)"
   ]
  },
  {
   "cell_type": "markdown",
   "metadata": {},
   "source": [
    "### 3.9.4 定义模型\n",
    "同softmax回归⼀样，我们通过`reshape`函数将每张原始图像改成⻓度为`num_inputs`的向量。"
   ]
  },
  {
   "cell_type": "code",
   "execution_count": 61,
   "metadata": {},
   "outputs": [],
   "source": [
    "def net(X):\n",
    "    X = X.reshape((-1, num_inputs)) \n",
    "    H = relu(nd.dot(X, W1) + b1) \n",
    "    return nd.dot(H, W2) + b2"
   ]
  },
  {
   "cell_type": "markdown",
   "metadata": {},
   "source": [
    "### 3.9.5 定义损失函数\n",
    "为了得到更好的数值稳定性，我们直接使⽤Gluon提供的包括softmax运算和交叉熵损失计算的函数。"
   ]
  },
  {
   "cell_type": "code",
   "execution_count": 62,
   "metadata": {},
   "outputs": [],
   "source": [
    "loss = gloss.SoftmaxCrossEntropyLoss()"
   ]
  },
  {
   "cell_type": "markdown",
   "metadata": {},
   "source": [
    "### 3.9.6 训练模型\n",
    "调⽤d2lzh包中的`train_ch3`函数，设超参数迭代周期数为5，学习率为0.5。"
   ]
  },
  {
   "cell_type": "code",
   "execution_count": 63,
   "metadata": {},
   "outputs": [
    {
     "name": "stdout",
     "output_type": "stream",
     "text": [
      "epoch 1, loss 0.8178, train acc 0.693, test acc 0.818\n",
      "epoch 2, loss 0.4921, train acc 0.815, test acc 0.832\n",
      "epoch 3, loss 0.4272, train acc 0.842, test acc 0.853\n",
      "epoch 4, loss 0.3983, train acc 0.853, test acc 0.858\n",
      "epoch 5, loss 0.3729, train acc 0.862, test acc 0.871\n"
     ]
    }
   ],
   "source": [
    "num_epochs, lr = 5, 0.5\n",
    "d2l.train_ch3(net, train_iter, test_iter, loss, num_epochs, batch_size, params, lr)"
   ]
  },
  {
   "cell_type": "markdown",
   "metadata": {},
   "source": [
    "## 3.10 多层感知机的简洁实现\n",
    "使⽤Gluon来实现上⼀节中的多层感知机。\n",
    "\n",
    "### 3.10.1 定义模型\n",
    "和softmax回归唯⼀的不同在于，我们多加了⼀个全连接层作为隐藏层。它的隐藏单元个数为256， 并使⽤ReLU函数作为激活函数。"
   ]
  },
  {
   "cell_type": "code",
   "execution_count": 64,
   "metadata": {},
   "outputs": [],
   "source": [
    "net = nn.Sequential()\n",
    "net.add(nn.Dense(256, activation='relu'), nn.Dense(10)) \n",
    "net.initialize(init.Normal(sigma=0.01))"
   ]
  },
  {
   "cell_type": "markdown",
   "metadata": {},
   "source": [
    "### 3.10.2 读取数据并训练模型\n",
    "我们使⽤与`softmax回归的简洁实现`⼀节中训练softmax回归⼏乎相同的步骤来读取数据并训练模型。"
   ]
  },
  {
   "cell_type": "code",
   "execution_count": 65,
   "metadata": {},
   "outputs": [
    {
     "name": "stdout",
     "output_type": "stream",
     "text": [
      "epoch 1, loss 0.8160, train acc 0.696, test acc 0.812\n",
      "epoch 2, loss 0.4962, train acc 0.816, test acc 0.848\n",
      "epoch 3, loss 0.4345, train acc 0.840, test acc 0.849\n",
      "epoch 4, loss 0.3992, train acc 0.852, test acc 0.870\n",
      "epoch 5, loss 0.3794, train acc 0.859, test acc 0.870\n"
     ]
    }
   ],
   "source": [
    "batch_size = 256 \n",
    "\n",
    "train_iter, test_iter = d2l.load_data_fashion_mnist(batch_size)\n",
    "loss = gloss.SoftmaxCrossEntropyLoss() \n",
    "trainer = gluon.Trainer(net.collect_params(), 'sgd', {'learning_rate': 0.5}) \n",
    "\n",
    "num_epochs = 5 \n",
    "d2l.train_ch3(net, train_iter, test_iter, loss, num_epochs, batch_size, None, None, trainer)"
   ]
  },
  {
   "cell_type": "code",
   "execution_count": null,
   "metadata": {},
   "outputs": [],
   "source": []
  }
 ],
 "metadata": {
  "kernelspec": {
   "display_name": "Python 3",
   "language": "python",
   "name": "python3"
  },
  "language_info": {
   "codemirror_mode": {
    "name": "ipython",
    "version": 3
   },
   "file_extension": ".py",
   "mimetype": "text/x-python",
   "name": "python",
   "nbconvert_exporter": "python",
   "pygments_lexer": "ipython3",
   "version": "3.6.8"
  }
 },
 "nbformat": 4,
 "nbformat_minor": 2
}
