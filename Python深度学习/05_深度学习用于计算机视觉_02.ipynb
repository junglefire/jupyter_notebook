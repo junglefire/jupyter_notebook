{
 "cells": [
  {
   "cell_type": "code",
   "execution_count": 1,
   "metadata": {},
   "outputs": [
    {
     "name": "stderr",
     "output_type": "stream",
     "text": [
      "Using TensorFlow backend.\n"
     ]
    }
   ],
   "source": [
    "# 忽略warnings\n",
    "import warnings \n",
    "warnings.filterwarnings('ignore') \n",
    "\n",
    "# 导入系统库\n",
    "import os\n",
    "\n",
    "# 笔记本显存太小，使用GPU会OOM，本节强制使用CPU\n",
    "# os.environ[\"CUDA_DEVICE_ORDER\"] = \"PCI_BUS_ID\"   \n",
    "# os.environ[\"CUDA_VISIBLE_DEVICES\"] = \"\"\n",
    "\n",
    "# 导入Python通用库\n",
    "import matplotlib.pyplot as plt\n",
    "import numpy as np\n",
    "\n",
    "# 导入TF 2.0并设置GPU\n",
    "import tensorflow as tf\n",
    "# gpus= tf.config.experimental.list_physical_devices('GPU')\n",
    "# tf.config.experimental.set_memory_growth(gpus[0], True)\n",
    "# 导入Keras库\n",
    "from tensorflow import keras\n",
    "# 设置使用GPU显存的比例\n",
    "from keras.backend.tensorflow_backend import set_session\n",
    "config = tf.compat.v1.ConfigProto()\n",
    "config.gpu_options.per_process_gpu_memory_fraction = 0.6\n",
    "tf.compat.v1.keras.backend.set_session(tf.compat.v1.Session(config=config)) \n",
    "\n",
    "# 导入util模块的各种方法\n",
    "# from keras.utils.np_utils import to_categorical\n",
    "# 导入数据集\n",
    "# from keras.datasets import imdb\n",
    "# from keras.datasets import mnist\n",
    "# 导入模型、优化器、损失函数等等\n",
    "from keras import regularizers\n",
    "from keras import optimizers\n",
    "from keras import metrics\n",
    "from keras import models\n",
    "from keras import losses\n",
    "from keras import layers\n",
    "# 导入Keras图像处理模块\n",
    "from keras.preprocessing.image import ImageDataGenerator\n",
    "# from keras.preprocessing import image\n",
    "# 导入预训练模型\n",
    "from keras.applications import VGG16"
   ]
  },
  {
   "cell_type": "markdown",
   "metadata": {},
   "source": [
    "# 05. 深度学习用于计算机视觉\n",
    "卷积神经网络，也叫`convnet`，是计算机视觉应用几乎都在使用的一种深度学习模型。你将学到将卷积神经网络应用于图像分类问题，特别是那些训练数据集较小的问题。如果你工作的地方并非大型科技公司，这也将是你最常见的使用场景。\n",
    "\n",
    "## 5.3 卷积神经网络简介\n",
    "想要将深度学习应用于小型图像数据集，一种常用且非常高效的方法是使用`预训练网络`。`预训练网络`（pretrained network）是一个保存好的网络，之前已在大型数据集（通常是大规模图像分类任务）上训练好。如果这个原始数据集足够大且足够通用，那么预训练网络学到的特征的空间层次结构可以有效地作为视觉世界的通用模型，因此这些特征可用于各种不同的计算机视觉问题，即使这些新问题涉及的类别和原始任务完全不同。\n",
    "\n",
    "举个例子，你在`ImageNet`上训练了一个网络（其类别主要是动物和日常用品），然后将这个训练好的网络应用于某个不相干的任务，比如在图像中识别家具。这种学到的特征在不同问题之间的可移植性，是深度学习与许多早期浅层学习方法相比的重要优势，它使得深度学习对小数据问题非常有效。\n",
    "\n",
    "本例中，假设有一个在`ImageNet`数据集（140 万张标记图像，1000 个不同的类别）上训练好的大型卷积神经网络。`ImageNet`中包含许多动物类别，其中包括不同种类的猫和狗，因此可以认为它在猫狗分类问题上也能有良好的表现。\n",
    "\n",
    "我们将使用`VGG16`架构，它由`Karen Simonyan`和`Andrew Zisserman`在2014年开发。对于`ImageNet`，它是一种简单而又广泛使用的卷积神经网络架构。虽然`VGG16`是一个比较旧的模型，性能远比不了当前最先进的模型，而且还比许多新模型更为复杂，但我之所以选择它，是因为它的架构与你已经熟悉的架构很相似，因此无须引入新概念就可以很好地理解。\n",
    "\n",
    "> 参见`Karen Simonyan`和`Andrew Zisserman`于2014年发表的文章“Very deep convolutional networks for large-scale image recognition”\n",
    "\n",
    "使用预训练网络有两种方法：`特征提取`（feature extraction）和`微调模型`（fine-tuning）。\n",
    "\n",
    "### 5.3.1 特征提取\n",
    "`特征提取`是使用之前网络学到的表示来从新样本中提取出有趣的特征。然后将这些特征输入一个新的分类器，从头开始训练。\n",
    "\n",
    "如前所述，用于图像分类的卷积神经网络包含两部分：首先是一系列池化层和卷积层，最后是一个密集连接分类器。第一部分叫作模型的`卷积基`（convolutional base）。对于卷积神经网络而言，特征提取就是取出之前训练好的网络的卷积基，在上面运行新数据，然后在输出上面训练一个新的分类器（见`图5-14`）。\n",
    "\n",
    "<img src=\"images/05_14.png\" style=\"width:500px;\"/>\n",
    "\n",
    "**为什么仅重复使用卷积基？我们能否也重复使用密集连接分类器?**\n",
    "\n",
    "一般来说，应该避免这么做。原因在于卷积基学到的表示可能更加通用，因此更适合重复使用。卷积神经网络的特征图表示通用概念在图像中是否存在，无论面对什么样的计算机视觉问题，这种特征图都可能很有用。但是，分类器学到的表示必然是针对于模型训练的类别，其中仅包含某个类别出现在整张图像中的概率信息。此外，密集连接层的表示不再包含物体在输入图像中的位置信息。密集连接层舍弃了空间的概念，而物体位置信息仍然由卷积特征图所描述。如果物体位置对于问题很重要，那么密集连接层的特征在很大程度上是无用的。\n",
    "\n",
    "**注意**，某个卷积层提取的表示的通用性（以及可复用性）取决于该层在模型中的深度。模型中更靠近底部的层提取的是局部的、高度通用的特征图（比如视觉边缘、颜色和纹理），而更靠近顶部的层提取的是更加抽象的概念（比如“猫耳朵”或“狗眼睛”）。因此，如果你的新数据集与原始模型训练的数据集有很大差异，那么最好只使用模型的前几层来做特征提取，而不是使用整个卷积基。\n",
    "\n",
    "> 这里更靠近底部的层是指在定义模型时先添加到模型中的层，而更靠近顶部的层则是后添加到模型中的层，下同\n",
    "\n",
    "本例中，由于`ImageNet`的类别中包含多种狗和猫的类别，所以重复使用原始模型密集连接层中所包含的信息可能很有用。但我们选择不这么做，以便涵盖新问题的类别与原始模型的类别不一致的更一般情况。我们来实践一下，使用在`ImageNet`上训练的`VGG16`网络的卷积基从猫狗图像中提取有趣的特征，然后在这些特征上训练一个猫狗分类器。\n",
    "\n",
    "`VGG16`等模型内置于`Keras`中。你可以从`keras.applications`模块中导入。下面是`keras.applications`中的一部分图像分类模型（都是在`ImageNet `据集上预训练得到的）：\n",
    "+ Xception\n",
    "+ Inception V3\n",
    "+ ResNet50\n",
    "+ VGG16\n",
    "+ VGG19\n",
    "+ MobileNet\n",
    "\n",
    "我们将`VGG16`模型实例化。"
   ]
  },
  {
   "cell_type": "code",
   "execution_count": 2,
   "metadata": {},
   "outputs": [],
   "source": [
    "conv_base = VGG16(weights='imagenet', include_top=False, input_shape=(150, 150, 3))"
   ]
  },
  {
   "cell_type": "markdown",
   "metadata": {},
   "source": [
    "这里向构造函数中传入了三个参数：\n",
    "+ **weights** 指定模型初始化的权重检查点\n",
    "+ **include_top** 指定模型最后是否包含密集连接分类器。默认情况下，这个密集连接分类器对应于`ImageNet`的`1000`个类别。因为我们打算使用自己的密集连接分类器（只有两个类别：`cat`和`dog`），所以不需要包含它\n",
    "+ **input_shape** 是输入到网络中的图像张量的形状。这个参数完全是可选的，如果不传入这个参数，那么网络能够处理任意形状的输入\n",
    "\n",
    "`VGG16`卷积基的详细架构如下所示。它和你已经熟悉的简单卷积神经网络很相似。"
   ]
  },
  {
   "cell_type": "code",
   "execution_count": 3,
   "metadata": {},
   "outputs": [
    {
     "name": "stdout",
     "output_type": "stream",
     "text": [
      "Model: \"vgg16\"\n",
      "_________________________________________________________________\n",
      "Layer (type)                 Output Shape              Param #   \n",
      "=================================================================\n",
      "input_1 (InputLayer)         (None, 150, 150, 3)       0         \n",
      "_________________________________________________________________\n",
      "block1_conv1 (Conv2D)        (None, 150, 150, 64)      1792      \n",
      "_________________________________________________________________\n",
      "block1_conv2 (Conv2D)        (None, 150, 150, 64)      36928     \n",
      "_________________________________________________________________\n",
      "block1_pool (MaxPooling2D)   (None, 75, 75, 64)        0         \n",
      "_________________________________________________________________\n",
      "block2_conv1 (Conv2D)        (None, 75, 75, 128)       73856     \n",
      "_________________________________________________________________\n",
      "block2_conv2 (Conv2D)        (None, 75, 75, 128)       147584    \n",
      "_________________________________________________________________\n",
      "block2_pool (MaxPooling2D)   (None, 37, 37, 128)       0         \n",
      "_________________________________________________________________\n",
      "block3_conv1 (Conv2D)        (None, 37, 37, 256)       295168    \n",
      "_________________________________________________________________\n",
      "block3_conv2 (Conv2D)        (None, 37, 37, 256)       590080    \n",
      "_________________________________________________________________\n",
      "block3_conv3 (Conv2D)        (None, 37, 37, 256)       590080    \n",
      "_________________________________________________________________\n",
      "block3_pool (MaxPooling2D)   (None, 18, 18, 256)       0         \n",
      "_________________________________________________________________\n",
      "block4_conv1 (Conv2D)        (None, 18, 18, 512)       1180160   \n",
      "_________________________________________________________________\n",
      "block4_conv2 (Conv2D)        (None, 18, 18, 512)       2359808   \n",
      "_________________________________________________________________\n",
      "block4_conv3 (Conv2D)        (None, 18, 18, 512)       2359808   \n",
      "_________________________________________________________________\n",
      "block4_pool (MaxPooling2D)   (None, 9, 9, 512)         0         \n",
      "_________________________________________________________________\n",
      "block5_conv1 (Conv2D)        (None, 9, 9, 512)         2359808   \n",
      "_________________________________________________________________\n",
      "block5_conv2 (Conv2D)        (None, 9, 9, 512)         2359808   \n",
      "_________________________________________________________________\n",
      "block5_conv3 (Conv2D)        (None, 9, 9, 512)         2359808   \n",
      "_________________________________________________________________\n",
      "block5_pool (MaxPooling2D)   (None, 4, 4, 512)         0         \n",
      "=================================================================\n",
      "Total params: 14,714,688\n",
      "Trainable params: 14,714,688\n",
      "Non-trainable params: 0\n",
      "_________________________________________________________________\n"
     ]
    }
   ],
   "source": [
    "conv_base.summary()"
   ]
  },
  {
   "cell_type": "markdown",
   "metadata": {},
   "source": [
    "最后的特征图形状为`(4, 4, 512)`。我们将在这个特征上添加一个密集连接分类器。\n",
    "\n",
    "接下来，下一步有两种方法可供选择：\n",
    "+ 在你的数据集上运行卷积基，将输出保存成硬盘中的`Numpy`数组，然后用这个数据作为输入，输入到独立的密集连接分类器中。这种方法速度快，计算代价低，因为对于每个输入图像只需运行一次卷积基，而卷积基是目前流程中计算代价最高的。但出于同样的原因，这种方法不允许你使用数据增强\n",
    "+ 在顶部添加`Dense`层来扩展已有模型（即`conv_base`），并在输入数据上端到端地运行整个模型。这样你可以使用数据增强，因为每个输入图像进入模型时都会经过卷积基。但出于同样的原因，这种方法的计算代价比第一种要高很多\n",
    "\n",
    "这两种方法我们都会介绍。首先来看第一种方法的代码：保存你的数据在`conv_base`中的输出，然后将这些输出作为输入用于新模型。\n",
    "\n",
    "##### 1. 不使用数据增强的快速特征提取\n",
    "首先，运行`ImageDataGenerator`实例，将图像及其标签提取为`Numpy`数组。我们需要调用`conv_base`模型的`predict`方法来从这些图像中提取特征。"
   ]
  },
  {
   "cell_type": "code",
   "execution_count": 4,
   "metadata": {},
   "outputs": [
    {
     "name": "stdout",
     "output_type": "stream",
     "text": [
      "Found 2000 images belonging to 2 classes.\n",
      "Found 1000 images belonging to 2 classes.\n",
      "Found 1000 images belonging to 2 classes.\n"
     ]
    }
   ],
   "source": [
    "base_dir = './data/dogs-vs-cats'\n",
    "train_dir = os.path.join(base_dir, 'train')\n",
    "validation_dir = os.path.join(base_dir, 'validation')\n",
    "test_dir = os.path.join(base_dir, 'test')\n",
    "\n",
    "datagen = ImageDataGenerator(rescale=1./255)\n",
    "batch_size = 20\n",
    "\n",
    "def extract_features(directory, sample_count):\n",
    "    features = np.zeros(shape=(sample_count, 4, 4, 512))\n",
    "    labels = np.zeros(shape=(sample_count))\n",
    "    generator = datagen.flow_from_directory(directory, target_size=(150, 150), batch_size=batch_size, class_mode='binary')\n",
    "    i = 0\n",
    "    for inputs_batch, labels_batch in generator:\n",
    "        features_batch = conv_base.predict(inputs_batch)\n",
    "        features[i * batch_size : (i + 1) * batch_size] = features_batch\n",
    "        labels[i * batch_size : (i + 1) * batch_size] = labels_batch\n",
    "        i += 1\n",
    "        if i * batch_size >= sample_count:\n",
    "            # 注意，这些生成器在循环中不断生成数据，所以你必须在读取完所有图像后终止循环\n",
    "            break\n",
    "    return features, labels\n",
    "\n",
    "train_features, train_labels = extract_features(train_dir, 2000)\n",
    "validation_features, validation_labels = extract_features(validation_dir, 1000)\n",
    "test_features, test_labels = extract_features(test_dir, 1000)"
   ]
  },
  {
   "cell_type": "markdown",
   "metadata": {},
   "source": [
    "目前，提取的特征形状为`(samples, 4, 4, 512)`。我们要将其输入到密集连接分类器中，所以首先必须将其形状展平为`(samples, 8192)`。"
   ]
  },
  {
   "cell_type": "code",
   "execution_count": 5,
   "metadata": {},
   "outputs": [],
   "source": [
    "train_features = np.reshape(train_features, (2000, 4 * 4 * 512))\n",
    "validation_features = np.reshape(validation_features, (1000, 4 * 4 * 512))\n",
    "test_features = np.reshape(test_features, (1000, 4 * 4 * 512))"
   ]
  },
  {
   "cell_type": "markdown",
   "metadata": {},
   "source": [
    "现在你可以定义你的密集连接分类器（注意要使用`dropout`正则化），并在刚刚保存的数据和标签上训练这个分类器。"
   ]
  },
  {
   "cell_type": "code",
   "execution_count": 6,
   "metadata": {},
   "outputs": [
    {
     "name": "stdout",
     "output_type": "stream",
     "text": [
      "Train on 2000 samples, validate on 1000 samples\n",
      "Epoch 1/30\n",
      "2000/2000 [==============================] - 1s 442us/step - loss: 0.6069 - acc: 0.6735 - val_loss: 0.4468 - val_acc: 0.8360\n",
      "Epoch 2/30\n",
      "2000/2000 [==============================] - 1s 381us/step - loss: 0.4367 - acc: 0.8050 - val_loss: 0.3701 - val_acc: 0.8560\n",
      "Epoch 3/30\n",
      "2000/2000 [==============================] - 1s 380us/step - loss: 0.3615 - acc: 0.8420 - val_loss: 0.3272 - val_acc: 0.8740\n",
      "Epoch 4/30\n",
      "2000/2000 [==============================] - 1s 381us/step - loss: 0.3217 - acc: 0.8645 - val_loss: 0.2999 - val_acc: 0.8870\n",
      "Epoch 5/30\n",
      "2000/2000 [==============================] - 1s 383us/step - loss: 0.2981 - acc: 0.8800 - val_loss: 0.2847 - val_acc: 0.8880\n",
      "Epoch 6/30\n",
      "2000/2000 [==============================] - 1s 380us/step - loss: 0.2647 - acc: 0.8910 - val_loss: 0.2774 - val_acc: 0.8880\n",
      "Epoch 7/30\n",
      "2000/2000 [==============================] - 1s 380us/step - loss: 0.2463 - acc: 0.9020 - val_loss: 0.2600 - val_acc: 0.9020\n",
      "Epoch 8/30\n",
      "2000/2000 [==============================] - 1s 380us/step - loss: 0.2334 - acc: 0.9115 - val_loss: 0.2624 - val_acc: 0.8940\n",
      "Epoch 9/30\n",
      "2000/2000 [==============================] - 1s 378us/step - loss: 0.2208 - acc: 0.9165 - val_loss: 0.2490 - val_acc: 0.9050\n",
      "Epoch 10/30\n",
      "2000/2000 [==============================] - 1s 382us/step - loss: 0.2080 - acc: 0.9230 - val_loss: 0.2466 - val_acc: 0.9070\n",
      "Epoch 11/30\n",
      "2000/2000 [==============================] - 1s 384us/step - loss: 0.1989 - acc: 0.9295 - val_loss: 0.2513 - val_acc: 0.8980\n",
      "Epoch 12/30\n",
      "2000/2000 [==============================] - 1s 383us/step - loss: 0.1937 - acc: 0.9310 - val_loss: 0.2452 - val_acc: 0.9050\n",
      "Epoch 13/30\n",
      "2000/2000 [==============================] - 1s 381us/step - loss: 0.1763 - acc: 0.9415 - val_loss: 0.2401 - val_acc: 0.9060\n",
      "Epoch 14/30\n",
      "2000/2000 [==============================] - 1s 378us/step - loss: 0.1780 - acc: 0.9365 - val_loss: 0.2371 - val_acc: 0.9060\n",
      "Epoch 15/30\n",
      "2000/2000 [==============================] - 1s 382us/step - loss: 0.1586 - acc: 0.9445 - val_loss: 0.2342 - val_acc: 0.9100\n",
      "Epoch 16/30\n",
      "2000/2000 [==============================] - 1s 379us/step - loss: 0.1610 - acc: 0.9455 - val_loss: 0.2395 - val_acc: 0.9030\n",
      "Epoch 17/30\n",
      "2000/2000 [==============================] - 1s 380us/step - loss: 0.1548 - acc: 0.9465 - val_loss: 0.2423 - val_acc: 0.9020\n",
      "Epoch 18/30\n",
      "2000/2000 [==============================] - 1s 383us/step - loss: 0.1453 - acc: 0.9540 - val_loss: 0.2338 - val_acc: 0.9030\n",
      "Epoch 19/30\n",
      "2000/2000 [==============================] - 1s 381us/step - loss: 0.1381 - acc: 0.9585 - val_loss: 0.2391 - val_acc: 0.9060\n",
      "Epoch 20/30\n",
      "2000/2000 [==============================] - 1s 382us/step - loss: 0.1311 - acc: 0.9585 - val_loss: 0.2324 - val_acc: 0.9040\n",
      "Epoch 21/30\n",
      "2000/2000 [==============================] - 1s 381us/step - loss: 0.1208 - acc: 0.9635 - val_loss: 0.2338 - val_acc: 0.9050\n",
      "Epoch 22/30\n",
      "2000/2000 [==============================] - 1s 381us/step - loss: 0.1276 - acc: 0.9570 - val_loss: 0.2520 - val_acc: 0.8990\n",
      "Epoch 23/30\n",
      "2000/2000 [==============================] - 1s 381us/step - loss: 0.1231 - acc: 0.9625 - val_loss: 0.2318 - val_acc: 0.9010\n",
      "Epoch 24/30\n",
      "2000/2000 [==============================] - 1s 379us/step - loss: 0.1124 - acc: 0.9640 - val_loss: 0.2642 - val_acc: 0.8900\n",
      "Epoch 25/30\n",
      "2000/2000 [==============================] - 1s 381us/step - loss: 0.1087 - acc: 0.9680 - val_loss: 0.2352 - val_acc: 0.9060\n",
      "Epoch 26/30\n",
      "2000/2000 [==============================] - 1s 379us/step - loss: 0.1058 - acc: 0.9635 - val_loss: 0.2339 - val_acc: 0.9060\n",
      "Epoch 27/30\n",
      "2000/2000 [==============================] - 1s 382us/step - loss: 0.1039 - acc: 0.9675 - val_loss: 0.2336 - val_acc: 0.9060\n",
      "Epoch 28/30\n",
      "2000/2000 [==============================] - 1s 380us/step - loss: 0.1018 - acc: 0.9720 - val_loss: 0.2424 - val_acc: 0.9040\n",
      "Epoch 29/30\n",
      "2000/2000 [==============================] - 1s 383us/step - loss: 0.0900 - acc: 0.9770 - val_loss: 0.2419 - val_acc: 0.9030\n",
      "Epoch 30/30\n",
      "2000/2000 [==============================] - 1s 380us/step - loss: 0.0886 - acc: 0.9765 - val_loss: 0.2366 - val_acc: 0.9030\n"
     ]
    }
   ],
   "source": [
    "model = models.Sequential()\n",
    "model.add(layers.Dense(256, activation='relu', input_dim=4 * 4 * 512))\n",
    "model.add(layers.Dropout(0.5))\n",
    "model.add(layers.Dense(1, activation='sigmoid'))\n",
    "\n",
    "model.compile(optimizer=optimizers.RMSprop(lr=2e-5), loss='binary_crossentropy', metrics=['acc'])\n",
    "history = model.fit(train_features, train_labels, epochs=30, batch_size=20, validation_data=(validation_features, validation_labels), verbose=1)"
   ]
  },
  {
   "cell_type": "markdown",
   "metadata": {},
   "source": [
    "训练速度非常快，因为你只需处理两个`Dense`层。即使在 CPU 上运行，每轮的时间也不到一秒钟。\n",
    "\n",
    "我们来看一下训练期间的损失曲线和精度曲线："
   ]
  },
  {
   "cell_type": "code",
   "execution_count": 7,
   "metadata": {},
   "outputs": [
    {
     "data": {
      "image/png": "[encoded data removed]",
      "text/plain": [
       "<Figure size 864x432 with 2 Axes>"
      ]
     },
     "metadata": {
      "needs_background": "light"
     },
     "output_type": "display_data"
    }
   ],
   "source": [
    "acc = history.history['acc']\n",
    "val_acc = history.history['val_acc']\n",
    "loss = history.history['loss']\n",
    "val_loss = history.history['val_loss']\n",
    "\n",
    "epochs = range(1, len(acc) + 1)\n",
    "\n",
    "plt.figure(figsize=(12, 6))\n",
    "\n",
    "plt.subplot(121)\n",
    "plt.plot(epochs, acc, 'bo', label='Training acc')\n",
    "plt.plot(epochs, val_acc, 'b', label='Validation acc')\n",
    "plt.title('Training and validation accuracy')\n",
    "plt.legend()\n",
    "\n",
    "plt.subplot(122)\n",
    "plt.plot(epochs, loss, 'bo', label='Training loss')\n",
    "plt.plot(epochs, val_loss, 'b', label='Validation loss')\n",
    "plt.title('Training and validation loss')\n",
    "plt.legend()\n",
    "plt.show()"
   ]
  },
  {
   "cell_type": "markdown",
   "metadata": {},
   "source": [
    "我们的验证精度达到了约`90%`，比上一节从头开始训练的小型模型效果要好得多。但从图中也可以看出，虽然`dropout`比率相当大，但模型几乎从一开始就过拟合。这是因为本方法没有使用数据增强，而数据增强对防止小型图像数据集的过拟合非常重要。\n",
    "\n",
    "##### 2. 使用数据增强的特征提取\n",
    "下面我们来看一下特征提取的第二种方法，它的速度更慢，计算代价更高，但在训练期间可以使用数据增强。这种方法就是：扩展`conv_base`模型，然后在输入数据上端到端地运行模型。\n",
    "\n",
    "> **注意**　\n",
    "> 本方法计算代价很高，只在有GPU的情况下才能尝试运行。它在CPU上是绝对难以运行的。如果你无法在GPU上运行代码，那么就采用第一种方法。\n",
    "\n",
    "模型的行为和层类似，所以你可以向`Sequential`模型中添加一个模型（比如`conv_base`），就像添加一个层一样。"
   ]
  },
  {
   "cell_type": "code",
   "execution_count": 8,
   "metadata": {},
   "outputs": [],
   "source": [
    "model = models.Sequential()\n",
    "model.add(conv_base)\n",
    "model.add(layers.Flatten())\n",
    "model.add(layers.Dense(256, activation='relu'))\n",
    "model.add(layers.Dense(1, activation='sigmoid'))"
   ]
  },
  {
   "cell_type": "markdown",
   "metadata": {},
   "source": [
    "现在模型的架构如下所示："
   ]
  },
  {
   "cell_type": "code",
   "execution_count": 9,
   "metadata": {},
   "outputs": [
    {
     "name": "stdout",
     "output_type": "stream",
     "text": [
      "Model: \"sequential_2\"\n",
      "_________________________________________________________________\n",
      "Layer (type)                 Output Shape              Param #   \n",
      "=================================================================\n",
      "vgg16 (Model)                (None, 4, 4, 512)         14714688  \n",
      "_________________________________________________________________\n",
      "flatten_1 (Flatten)          (None, 8192)              0         \n",
      "_________________________________________________________________\n",
      "dense_3 (Dense)              (None, 256)               2097408   \n",
      "_________________________________________________________________\n",
      "dropout_2 (Dropout)          (None, 256)               0         \n",
      "_________________________________________________________________\n",
      "dense_4 (Dense)              (None, 1)                 257       \n",
      "=================================================================\n",
      "Total params: 16,812,353\n",
      "Trainable params: 16,812,353\n",
      "Non-trainable params: 0\n",
      "_________________________________________________________________\n"
     ]
    }
   ],
   "source": [
    "model.summary()"
   ]
  },
  {
   "cell_type": "markdown",
   "metadata": {},
   "source": [
    "`VGG16`的卷积基有14714688个参数，非常多。在其上添加的分类器有200万个参数。\n",
    "\n",
    "在编译和训练模型之前，一定要`冻结`卷积基。`冻结`（freeze）一个或多个层是指在训练过程中保持其权重不变。如果不这么做，那么卷积基之前学到的表示将会在训练过程中被修改。因为其上添加的`Dense`层是随机初始化的，所以非常大的权重更新将会在网络中传播，对之前学到的表示造成很大破坏。\n",
    "\n",
    "在`Keras`中，冻结网络的方法是将其`trainable`属性设为`False`。"
   ]
  },
  {
   "cell_type": "code",
   "execution_count": 10,
   "metadata": {},
   "outputs": [
    {
     "name": "stdout",
     "output_type": "stream",
     "text": [
      "This is the number of trainable weights before freezing the conv base: 30\n",
      "This is the number of trainable weights after freezing the conv base: 4\n"
     ]
    }
   ],
   "source": [
    "print('This is the number of trainable weights before freezing the conv base:', len(model.trainable_weights))\n",
    "\n",
    "conv_base.trainable = False\n",
    "print('This is the number of trainable weights after freezing the conv base:', len(model.trainable_weights))"
   ]
  },
  {
   "cell_type": "markdown",
   "metadata": {},
   "source": [
    "如此设置之后，只有添加的两个`Dense`层的权重才会被训练。总共有4个权重张量，每层2个（主权重矩阵和偏置向量）。注意，为了让这些修改生效，你必须先编译模型。如果在编译之后修改了权重的`trainable`属性，那么应该重新编译模型，否则这些修改将被忽略。\n",
    "\n",
    "现在你可以开始训练模型了，使用和前一个例子相同的数据增强设置。"
   ]
  },
  {
   "cell_type": "code",
   "execution_count": 11,
   "metadata": {},
   "outputs": [
    {
     "name": "stdout",
     "output_type": "stream",
     "text": [
      "Found 2000 images belonging to 2 classes.\n",
      "Found 1000 images belonging to 2 classes.\n",
      "Epoch 1/30\n",
      "100/100 [==============================] - 41s 407ms/step - loss: 0.6796 - acc: 0.6030 - val_loss: 0.5400 - val_acc: 0.8090\n",
      "Epoch 2/30\n",
      "100/100 [==============================] - 41s 406ms/step - loss: 0.5415 - acc: 0.7245 - val_loss: 0.3393 - val_acc: 0.8450\n",
      "Epoch 3/30\n",
      "100/100 [==============================] - 41s 406ms/step - loss: 0.4987 - acc: 0.7550 - val_loss: 0.4282 - val_acc: 0.8560\n",
      "Epoch 4/30\n",
      "100/100 [==============================] - 41s 407ms/step - loss: 0.4760 - acc: 0.7720 - val_loss: 0.1842 - val_acc: 0.8560\n",
      "Epoch 5/30\n",
      "100/100 [==============================] - 41s 407ms/step - loss: 0.4424 - acc: 0.7920 - val_loss: 0.2435 - val_acc: 0.8760\n",
      "Epoch 6/30\n",
      "100/100 [==============================] - 41s 407ms/step - loss: 0.4448 - acc: 0.7885 - val_loss: 0.3057 - val_acc: 0.8790\n",
      "Epoch 7/30\n",
      "100/100 [==============================] - 41s 407ms/step - loss: 0.4107 - acc: 0.8055 - val_loss: 0.2174 - val_acc: 0.8800\n",
      "Epoch 8/30\n",
      "100/100 [==============================] - 41s 407ms/step - loss: 0.4052 - acc: 0.8200 - val_loss: 0.3344 - val_acc: 0.8810\n",
      "Epoch 9/30\n",
      "100/100 [==============================] - 41s 407ms/step - loss: 0.3983 - acc: 0.8160 - val_loss: 0.2484 - val_acc: 0.8850\n",
      "Epoch 10/30\n",
      "100/100 [==============================] - 41s 407ms/step - loss: 0.3923 - acc: 0.8275 - val_loss: 0.2792 - val_acc: 0.8880\n",
      "Epoch 11/30\n",
      "100/100 [==============================] - 41s 407ms/step - loss: 0.3624 - acc: 0.8305 - val_loss: 0.2404 - val_acc: 0.8920\n",
      "Epoch 12/30\n",
      "100/100 [==============================] - 41s 407ms/step - loss: 0.3784 - acc: 0.8270 - val_loss: 0.2386 - val_acc: 0.8920\n",
      "Epoch 13/30\n",
      "100/100 [==============================] - 41s 407ms/step - loss: 0.3563 - acc: 0.8355 - val_loss: 0.1948 - val_acc: 0.8880\n",
      "Epoch 14/30\n",
      "100/100 [==============================] - 41s 407ms/step - loss: 0.3548 - acc: 0.8405 - val_loss: 0.2257 - val_acc: 0.8910\n",
      "Epoch 15/30\n",
      "100/100 [==============================] - 41s 407ms/step - loss: 0.3408 - acc: 0.8465 - val_loss: 0.3700 - val_acc: 0.8930\n",
      "Epoch 16/30\n",
      "100/100 [==============================] - 41s 407ms/step - loss: 0.3628 - acc: 0.8360 - val_loss: 0.2469 - val_acc: 0.8910\n",
      "Epoch 17/30\n",
      "100/100 [==============================] - 41s 407ms/step - loss: 0.3330 - acc: 0.8550 - val_loss: 0.4831 - val_acc: 0.8920\n",
      "Epoch 18/30\n",
      "100/100 [==============================] - 41s 407ms/step - loss: 0.3409 - acc: 0.8455 - val_loss: 0.1950 - val_acc: 0.8960\n",
      "Epoch 19/30\n",
      "100/100 [==============================] - 41s 407ms/step - loss: 0.3331 - acc: 0.8440 - val_loss: 0.2927 - val_acc: 0.8900\n",
      "Epoch 20/30\n",
      "100/100 [==============================] - 41s 407ms/step - loss: 0.3409 - acc: 0.8515 - val_loss: 0.4670 - val_acc: 0.8940\n",
      "Epoch 21/30\n",
      "100/100 [==============================] - 41s 407ms/step - loss: 0.3352 - acc: 0.8545 - val_loss: 0.2333 - val_acc: 0.8940\n",
      "Epoch 22/30\n",
      "100/100 [==============================] - 41s 407ms/step - loss: 0.3325 - acc: 0.8485 - val_loss: 0.2069 - val_acc: 0.8970\n",
      "Epoch 23/30\n",
      "100/100 [==============================] - 41s 407ms/step - loss: 0.3491 - acc: 0.8430 - val_loss: 0.1952 - val_acc: 0.8970\n",
      "Epoch 24/30\n",
      "100/100 [==============================] - 41s 407ms/step - loss: 0.3206 - acc: 0.8605 - val_loss: 0.3429 - val_acc: 0.8990\n",
      "Epoch 25/30\n",
      "100/100 [==============================] - 41s 407ms/step - loss: 0.3424 - acc: 0.8425 - val_loss: 0.2822 - val_acc: 0.9030\n",
      "Epoch 26/30\n",
      "100/100 [==============================] - 41s 407ms/step - loss: 0.3387 - acc: 0.8455 - val_loss: 0.1787 - val_acc: 0.8950\n",
      "Epoch 27/30\n",
      "100/100 [==============================] - 41s 407ms/step - loss: 0.3213 - acc: 0.8580 - val_loss: 0.1194 - val_acc: 0.8980\n",
      "Epoch 28/30\n",
      "100/100 [==============================] - 41s 407ms/step - loss: 0.3200 - acc: 0.8600 - val_loss: 0.2461 - val_acc: 0.9050\n",
      "Epoch 29/30\n",
      "100/100 [==============================] - 41s 407ms/step - loss: 0.3116 - acc: 0.8670 - val_loss: 0.3175 - val_acc: 0.8990\n",
      "Epoch 30/30\n",
      "100/100 [==============================] - 41s 407ms/step - loss: 0.3357 - acc: 0.8520 - val_loss: 0.1938 - val_acc: 0.9020\n"
     ]
    }
   ],
   "source": [
    "train_datagen = ImageDataGenerator(\n",
    "      rescale=1./255,\n",
    "      rotation_range=40,\n",
    "      width_shift_range=0.2,\n",
    "      height_shift_range=0.2,\n",
    "      shear_range=0.2,\n",
    "      zoom_range=0.2,\n",
    "      horizontal_flip=True,\n",
    "      fill_mode='nearest')\n",
    "\n",
    "#注意，不能增强验证数据\n",
    "test_datagen = ImageDataGenerator(rescale=1./255) \n",
    "train_generator = train_datagen.flow_from_directory(train_dir, target_size=(150, 150), batch_size=20, class_mode='binary') \n",
    "validation_generator = test_datagen.flow_from_directory(validation_dir, target_size=(150, 150), batch_size=20, class_mode='binary')\n",
    "\n",
    "model.compile(loss='binary_crossentropy', optimizer=optimizers.RMSprop(lr=2e-5), metrics=['acc'])\n",
    "history = model.fit_generator(train_generator, steps_per_epoch=100,  epochs=30, validation_data=validation_generator, validation_steps=50)"
   ]
  },
  {
   "cell_type": "markdown",
   "metadata": {},
   "source": [
    "我们来再次绘制结果，验证精度约为`96%`(**add by alex**我测试的结果始终达不到这个精度)。这比从头开始训练的小型卷积神经网络要好得多。"
   ]
  },
  {
   "cell_type": "code",
   "execution_count": 12,
   "metadata": {},
   "outputs": [
    {
     "data": {
      "image/png": "[encoded data removed]",
      "text/plain": [
       "<Figure size 864x432 with 2 Axes>"
      ]
     },
     "metadata": {
      "needs_background": "light"
     },
     "output_type": "display_data"
    }
   ],
   "source": [
    "acc = history.history['acc']\n",
    "val_acc = history.history['val_acc']\n",
    "loss = history.history['loss']\n",
    "val_loss = history.history['val_loss']\n",
    "\n",
    "epochs = range(1, len(acc) + 1)\n",
    "\n",
    "plt.figure(figsize=(12, 6))\n",
    "\n",
    "plt.subplot(121)\n",
    "plt.plot(epochs, acc, 'bo', label='Training acc')\n",
    "plt.plot(epochs, val_acc, 'b', label='Validation acc')\n",
    "plt.title('Training and validation accuracy')\n",
    "plt.legend()\n",
    "\n",
    "plt.subplot(122)\n",
    "plt.plot(epochs, loss, 'bo', label='Training loss')\n",
    "plt.plot(epochs, val_loss, 'b', label='Validation loss')\n",
    "plt.title('Training and validation loss')\n",
    "plt.legend()\n",
    "plt.show()"
   ]
  },
  {
   "cell_type": "markdown",
   "metadata": {},
   "source": [
    "### 5.3.2 微调模型\n",
    "另一种广泛使用的模型复用方法是`模型微调`（fine-tuning），与`特征提取`互为补充。对于用于特征提取的冻结的模型基，微调是指将其顶部的几层“解冻”，并将这解冻的几层和新增加的部分（本例中是全连接分类器）联合训练（见`图 5-19`）。之所以叫作微调，是因为它只是略微调整了所复用模型中更加抽象的表示，以便让这些表示与手头的问题更加相关。\n",
    "\n",
    "<img src=\"images/05_19.png\" style=\"width:200px;\"/>\n",
    "\n",
    "冻结`VGG16`的卷积基是为了能够在上面训练一个随机初始化的分类器。同理，只有上面的分类器已经训练好了，才能微调卷积基的顶部几层。如果分类器没有训练好，那么训练期间通过网络传播的误差信号会特别大，微调的几层之前学到的表示都会被破坏。因此，微调网络的步骤如下。\n",
    "1. 在已经训练好的基网络（base network）上添加自定义网络\n",
    "2. 冻结基网络\n",
    "3. 训练所添加的部分\n",
    "4. 解冻基网络的一些层\n",
    "5. 联合训练解冻的这些层和添加的部分\n",
    "\n",
    "你在做特征提取时已经完成了前三个步骤。我们继续进行第四步：先解冻`conv_base`，然后冻结其中的部分层。\n",
    "\n",
    "提醒一下，卷积基的架构如下所示。"
   ]
  },
  {
   "cell_type": "code",
   "execution_count": 13,
   "metadata": {},
   "outputs": [
    {
     "name": "stdout",
     "output_type": "stream",
     "text": [
      "Model: \"vgg16\"\n",
      "_________________________________________________________________\n",
      "Layer (type)                 Output Shape              Param #   \n",
      "=================================================================\n",
      "input_1 (InputLayer)         (None, 150, 150, 3)       0         \n",
      "_________________________________________________________________\n",
      "block1_conv1 (Conv2D)        (None, 150, 150, 64)      1792      \n",
      "_________________________________________________________________\n",
      "block1_conv2 (Conv2D)        (None, 150, 150, 64)      36928     \n",
      "_________________________________________________________________\n",
      "block1_pool (MaxPooling2D)   (None, 75, 75, 64)        0         \n",
      "_________________________________________________________________\n",
      "block2_conv1 (Conv2D)        (None, 75, 75, 128)       73856     \n",
      "_________________________________________________________________\n",
      "block2_conv2 (Conv2D)        (None, 75, 75, 128)       147584    \n",
      "_________________________________________________________________\n",
      "block2_pool (MaxPooling2D)   (None, 37, 37, 128)       0         \n",
      "_________________________________________________________________\n",
      "block3_conv1 (Conv2D)        (None, 37, 37, 256)       295168    \n",
      "_________________________________________________________________\n",
      "block3_conv2 (Conv2D)        (None, 37, 37, 256)       590080    \n",
      "_________________________________________________________________\n",
      "block3_conv3 (Conv2D)        (None, 37, 37, 256)       590080    \n",
      "_________________________________________________________________\n",
      "block3_pool (MaxPooling2D)   (None, 18, 18, 256)       0         \n",
      "_________________________________________________________________\n",
      "block4_conv1 (Conv2D)        (None, 18, 18, 512)       1180160   \n",
      "_________________________________________________________________\n",
      "block4_conv2 (Conv2D)        (None, 18, 18, 512)       2359808   \n",
      "_________________________________________________________________\n",
      "block4_conv3 (Conv2D)        (None, 18, 18, 512)       2359808   \n",
      "_________________________________________________________________\n",
      "block4_pool (MaxPooling2D)   (None, 9, 9, 512)         0         \n",
      "_________________________________________________________________\n",
      "block5_conv1 (Conv2D)        (None, 9, 9, 512)         2359808   \n",
      "_________________________________________________________________\n",
      "block5_conv2 (Conv2D)        (None, 9, 9, 512)         2359808   \n",
      "_________________________________________________________________\n",
      "block5_conv3 (Conv2D)        (None, 9, 9, 512)         2359808   \n",
      "_________________________________________________________________\n",
      "block5_pool (MaxPooling2D)   (None, 4, 4, 512)         0         \n",
      "=================================================================\n",
      "Total params: 14,714,688\n",
      "Trainable params: 0\n",
      "Non-trainable params: 14,714,688\n",
      "_________________________________________________________________\n"
     ]
    }
   ],
   "source": [
    "conv_base.summary()"
   ]
  },
  {
   "cell_type": "markdown",
   "metadata": {},
   "source": [
    "我们将微调最后三个卷积层，也就是说，直到`block4_pool`的所有层都应该被冻结，而`block5_conv1`、`block5_conv2`和`block5_conv3`三层应该是可训练的。\n",
    "\n",
    "为什么不微调整个卷积基？你当然可以这么做，但需要考虑以下几点：\n",
    "+ 卷积基中更靠底部的层编码的是更加通用的可复用特征，而更靠顶部的层编码的是更专业化的特征。微调这些更专业化的特征更加有用，因为它们需要在你的新问题上改变用途。微调更靠底部的层，得到的回报会更少\n",
    "+ 训练的参数越多，过拟合的风险越大。卷积基有1500万个参数，所以在你的小型数据集上训练这么多参数是有风险的\n",
    "\n",
    "因此，在这种情况下，一个好策略是仅微调卷积基最后的两三层。我们从上一个例子结束的地方开始，继续实现此方法。"
   ]
  },
  {
   "cell_type": "code",
   "execution_count": 14,
   "metadata": {},
   "outputs": [],
   "source": [
    "# 冻结直到某一层的所有层\n",
    "conv_base.trainable = True\n",
    "\n",
    "set_trainable = False\n",
    "for layer in conv_base.layers:\n",
    "    if layer.name == 'block5_conv1':\n",
    "        set_trainable = True\n",
    "    if set_trainable:\n",
    "        layer.trainable = True\n",
    "    else:\n",
    "        layer.trainable = False"
   ]
  },
  {
   "cell_type": "markdown",
   "metadata": {},
   "source": [
    "现在你可以开始微调网络。我们将使用学习率非常小的`RMSProp`优化器来实现。之所以让学习率很小，是因为对于微调的三层表示，我们希望其变化范围不要太大。太大的权重更新可能会破坏这些表示。"
   ]
  },
  {
   "cell_type": "code",
   "execution_count": 15,
   "metadata": {},
   "outputs": [
    {
     "name": "stdout",
     "output_type": "stream",
     "text": [
      "Epoch 1/100\n",
      "100/100 [==============================] - 48s 482ms/step - loss: 0.3213 - acc: 0.8625 - val_loss: 0.1887 - val_acc: 0.9150\n",
      "Epoch 2/100\n",
      "100/100 [==============================] - 48s 478ms/step - loss: 0.2941 - acc: 0.8750 - val_loss: 0.1947 - val_acc: 0.8980\n",
      "Epoch 3/100\n",
      "100/100 [==============================] - 48s 479ms/step - loss: 0.2726 - acc: 0.8740 - val_loss: 0.4382 - val_acc: 0.9180\n",
      "Epoch 4/100\n",
      "100/100 [==============================] - 48s 479ms/step - loss: 0.2533 - acc: 0.8990 - val_loss: 0.0849 - val_acc: 0.9240\n",
      "Epoch 5/100\n",
      "100/100 [==============================] - 48s 480ms/step - loss: 0.2380 - acc: 0.8920 - val_loss: 0.1555 - val_acc: 0.9260\n",
      "Epoch 6/100\n",
      "100/100 [==============================] - 48s 480ms/step - loss: 0.2072 - acc: 0.9135 - val_loss: 0.1747 - val_acc: 0.9020\n",
      "Epoch 7/100\n",
      "100/100 [==============================] - 48s 480ms/step - loss: 0.1953 - acc: 0.9150 - val_loss: 0.3310 - val_acc: 0.9200\n",
      "Epoch 8/100\n",
      "100/100 [==============================] - 48s 480ms/step - loss: 0.1930 - acc: 0.9280 - val_loss: 0.2100 - val_acc: 0.9360\n",
      "Epoch 9/100\n",
      "100/100 [==============================] - 48s 480ms/step - loss: 0.1882 - acc: 0.9245 - val_loss: 0.3175 - val_acc: 0.9070\n",
      "Epoch 10/100\n",
      "100/100 [==============================] - 48s 480ms/step - loss: 0.1716 - acc: 0.9240 - val_loss: 0.4222 - val_acc: 0.9360\n",
      "Epoch 11/100\n",
      "100/100 [==============================] - 48s 480ms/step - loss: 0.1652 - acc: 0.9350 - val_loss: 0.5014 - val_acc: 0.9400\n",
      "Epoch 12/100\n",
      "100/100 [==============================] - 48s 480ms/step - loss: 0.1694 - acc: 0.9265 - val_loss: 0.1453 - val_acc: 0.9400\n",
      "Epoch 13/100\n",
      "100/100 [==============================] - 48s 480ms/step - loss: 0.1539 - acc: 0.9380 - val_loss: 0.2037 - val_acc: 0.9250\n",
      "Epoch 14/100\n",
      "100/100 [==============================] - 48s 480ms/step - loss: 0.1431 - acc: 0.9440 - val_loss: 0.1559 - val_acc: 0.9300\n",
      "Epoch 15/100\n",
      "100/100 [==============================] - 48s 480ms/step - loss: 0.1440 - acc: 0.9435 - val_loss: 0.1916 - val_acc: 0.9340\n",
      "Epoch 16/100\n",
      "100/100 [==============================] - 48s 480ms/step - loss: 0.1396 - acc: 0.9395 - val_loss: 0.2814 - val_acc: 0.9400\n",
      "Epoch 17/100\n",
      "100/100 [==============================] - 48s 480ms/step - loss: 0.1275 - acc: 0.9460 - val_loss: 0.0317 - val_acc: 0.9430\n",
      "Epoch 18/100\n",
      "100/100 [==============================] - 48s 480ms/step - loss: 0.1354 - acc: 0.9535 - val_loss: 0.3089 - val_acc: 0.9370\n",
      "Epoch 19/100\n",
      "100/100 [==============================] - 48s 480ms/step - loss: 0.1277 - acc: 0.9540 - val_loss: 0.0115 - val_acc: 0.9340\n",
      "Epoch 20/100\n",
      "100/100 [==============================] - 48s 480ms/step - loss: 0.1179 - acc: 0.9525 - val_loss: 0.1348 - val_acc: 0.9340\n",
      "Epoch 21/100\n",
      "100/100 [==============================] - 48s 480ms/step - loss: 0.1040 - acc: 0.9630 - val_loss: 0.1879 - val_acc: 0.9350\n",
      "Epoch 22/100\n",
      "100/100 [==============================] - 48s 480ms/step - loss: 0.1104 - acc: 0.9570 - val_loss: 0.0371 - val_acc: 0.9380\n",
      "Epoch 23/100\n",
      "100/100 [==============================] - 48s 480ms/step - loss: 0.1015 - acc: 0.9635 - val_loss: 0.1075 - val_acc: 0.9170\n",
      "Epoch 24/100\n",
      "100/100 [==============================] - 48s 480ms/step - loss: 0.0992 - acc: 0.9615 - val_loss: 0.5864 - val_acc: 0.9380\n",
      "Epoch 25/100\n",
      "100/100 [==============================] - 48s 480ms/step - loss: 0.0982 - acc: 0.9610 - val_loss: 0.1066 - val_acc: 0.9350\n",
      "Epoch 26/100\n",
      "100/100 [==============================] - 48s 480ms/step - loss: 0.0848 - acc: 0.9665 - val_loss: 0.0987 - val_acc: 0.9340\n",
      "Epoch 27/100\n",
      "100/100 [==============================] - 48s 480ms/step - loss: 0.0842 - acc: 0.9675 - val_loss: 0.1529 - val_acc: 0.9320\n",
      "Epoch 28/100\n",
      "100/100 [==============================] - 48s 480ms/step - loss: 0.0861 - acc: 0.9640 - val_loss: 0.4026 - val_acc: 0.9410\n",
      "Epoch 29/100\n",
      "100/100 [==============================] - 48s 480ms/step - loss: 0.0774 - acc: 0.9705 - val_loss: 0.0121 - val_acc: 0.9240\n",
      "Epoch 30/100\n",
      "100/100 [==============================] - 48s 480ms/step - loss: 0.0770 - acc: 0.9715 - val_loss: 0.0729 - val_acc: 0.9450\n",
      "Epoch 31/100\n",
      "100/100 [==============================] - 48s 480ms/step - loss: 0.0818 - acc: 0.9695 - val_loss: 0.0633 - val_acc: 0.9190\n",
      "Epoch 32/100\n",
      "100/100 [==============================] - 48s 480ms/step - loss: 0.0757 - acc: 0.9710 - val_loss: 0.0535 - val_acc: 0.9380\n",
      "Epoch 33/100\n",
      "100/100 [==============================] - 48s 480ms/step - loss: 0.0741 - acc: 0.9710 - val_loss: 0.1262 - val_acc: 0.9350\n",
      "Epoch 34/100\n",
      "100/100 [==============================] - 48s 480ms/step - loss: 0.0725 - acc: 0.9695 - val_loss: 0.3093 - val_acc: 0.9390\n",
      "Epoch 35/100\n",
      "100/100 [==============================] - 48s 480ms/step - loss: 0.0692 - acc: 0.9760 - val_loss: 0.4576 - val_acc: 0.9260\n",
      "Epoch 36/100\n",
      "100/100 [==============================] - 48s 480ms/step - loss: 0.0682 - acc: 0.9770 - val_loss: 0.1191 - val_acc: 0.9320\n",
      "Epoch 37/100\n",
      "100/100 [==============================] - 48s 480ms/step - loss: 0.0633 - acc: 0.9725 - val_loss: 0.4916 - val_acc: 0.9300\n",
      "Epoch 38/100\n",
      "100/100 [==============================] - 48s 480ms/step - loss: 0.0528 - acc: 0.9805 - val_loss: 0.5297 - val_acc: 0.9180\n",
      "Epoch 39/100\n",
      "100/100 [==============================] - 48s 480ms/step - loss: 0.0584 - acc: 0.9775 - val_loss: 0.5170 - val_acc: 0.9170\n",
      "Epoch 40/100\n",
      "100/100 [==============================] - 48s 480ms/step - loss: 0.0685 - acc: 0.9760 - val_loss: 0.2811 - val_acc: 0.9390\n",
      "Epoch 41/100\n",
      "100/100 [==============================] - 48s 480ms/step - loss: 0.0644 - acc: 0.9745 - val_loss: 0.0122 - val_acc: 0.9300\n",
      "Epoch 42/100\n",
      "100/100 [==============================] - 48s 480ms/step - loss: 0.0629 - acc: 0.9765 - val_loss: 0.3045 - val_acc: 0.9450\n",
      "Epoch 43/100\n",
      "100/100 [==============================] - 48s 480ms/step - loss: 0.0716 - acc: 0.9700 - val_loss: 0.0341 - val_acc: 0.9430\n",
      "Epoch 44/100\n",
      "100/100 [==============================] - 48s 480ms/step - loss: 0.0534 - acc: 0.9800 - val_loss: 0.3646 - val_acc: 0.9310\n",
      "Epoch 45/100\n",
      "100/100 [==============================] - 48s 480ms/step - loss: 0.0578 - acc: 0.9765 - val_loss: 0.0945 - val_acc: 0.9380\n",
      "Epoch 46/100\n",
      "100/100 [==============================] - 48s 480ms/step - loss: 0.0566 - acc: 0.9785 - val_loss: 0.0985 - val_acc: 0.9400\n",
      "Epoch 47/100\n",
      "100/100 [==============================] - 48s 480ms/step - loss: 0.0600 - acc: 0.9780 - val_loss: 0.1609 - val_acc: 0.9450\n",
      "Epoch 48/100\n",
      "100/100 [==============================] - 48s 480ms/step - loss: 0.0513 - acc: 0.9815 - val_loss: 0.0021 - val_acc: 0.9300\n",
      "Epoch 49/100\n",
      "100/100 [==============================] - 48s 480ms/step - loss: 0.0592 - acc: 0.9750 - val_loss: 0.0036 - val_acc: 0.9420\n",
      "Epoch 50/100\n",
      "100/100 [==============================] - 48s 480ms/step - loss: 0.0459 - acc: 0.9815 - val_loss: 1.0498 - val_acc: 0.9350\n",
      "Epoch 51/100\n",
      "100/100 [==============================] - 48s 480ms/step - loss: 0.0423 - acc: 0.9840 - val_loss: 0.7136 - val_acc: 0.9280\n",
      "Epoch 52/100\n",
      "100/100 [==============================] - 48s 480ms/step - loss: 0.0415 - acc: 0.9845 - val_loss: 0.8515 - val_acc: 0.9270\n",
      "Epoch 53/100\n",
      "100/100 [==============================] - 48s 480ms/step - loss: 0.0565 - acc: 0.9775 - val_loss: 0.0724 - val_acc: 0.9370\n",
      "Epoch 54/100\n",
      "100/100 [==============================] - 48s 480ms/step - loss: 0.0495 - acc: 0.9825 - val_loss: 0.0046 - val_acc: 0.9330\n",
      "Epoch 55/100\n",
      "100/100 [==============================] - 48s 480ms/step - loss: 0.0305 - acc: 0.9900 - val_loss: 0.0088 - val_acc: 0.9390\n",
      "Epoch 56/100\n",
      "100/100 [==============================] - 48s 480ms/step - loss: 0.0461 - acc: 0.9845 - val_loss: 0.2772 - val_acc: 0.9480\n",
      "Epoch 57/100\n",
      "100/100 [==============================] - 48s 480ms/step - loss: 0.0343 - acc: 0.9890 - val_loss: 0.0598 - val_acc: 0.9460\n",
      "Epoch 58/100\n",
      "100/100 [==============================] - 48s 480ms/step - loss: 0.0541 - acc: 0.9805 - val_loss: 0.4067 - val_acc: 0.9420\n",
      "Epoch 59/100\n",
      "100/100 [==============================] - 48s 480ms/step - loss: 0.0484 - acc: 0.9860 - val_loss: 0.1817 - val_acc: 0.9440\n",
      "Epoch 60/100\n",
      "100/100 [==============================] - 48s 480ms/step - loss: 0.0446 - acc: 0.9830 - val_loss: 0.1835 - val_acc: 0.9430\n"
     ]
    },
    {
     "name": "stdout",
     "output_type": "stream",
     "text": [
      "Epoch 61/100\n",
      "100/100 [==============================] - 48s 480ms/step - loss: 0.0417 - acc: 0.9850 - val_loss: 0.2926 - val_acc: 0.9510\n",
      "Epoch 62/100\n",
      "100/100 [==============================] - 48s 480ms/step - loss: 0.0441 - acc: 0.9850 - val_loss: 0.0136 - val_acc: 0.9420\n",
      "Epoch 63/100\n",
      "100/100 [==============================] - 48s 480ms/step - loss: 0.0400 - acc: 0.9880 - val_loss: 0.0327 - val_acc: 0.9370\n",
      "Epoch 64/100\n",
      "100/100 [==============================] - 48s 480ms/step - loss: 0.0339 - acc: 0.9895 - val_loss: 0.3523 - val_acc: 0.9420\n",
      "Epoch 65/100\n",
      "100/100 [==============================] - 48s 480ms/step - loss: 0.0353 - acc: 0.9865 - val_loss: 0.0223 - val_acc: 0.9400\n",
      "Epoch 66/100\n",
      "100/100 [==============================] - 48s 480ms/step - loss: 0.0568 - acc: 0.9850 - val_loss: 8.6758e-04 - val_acc: 0.9330\n",
      "Epoch 67/100\n",
      "100/100 [==============================] - 48s 480ms/step - loss: 0.0396 - acc: 0.9865 - val_loss: 2.8945e-04 - val_acc: 0.9410\n",
      "Epoch 68/100\n",
      "100/100 [==============================] - 48s 480ms/step - loss: 0.0431 - acc: 0.9885 - val_loss: 0.2609 - val_acc: 0.9350\n",
      "Epoch 69/100\n",
      "100/100 [==============================] - 48s 480ms/step - loss: 0.0293 - acc: 0.9870 - val_loss: 0.2429 - val_acc: 0.9310\n",
      "Epoch 70/100\n",
      "100/100 [==============================] - 48s 480ms/step - loss: 0.0299 - acc: 0.9875 - val_loss: 0.0706 - val_acc: 0.9420\n",
      "Epoch 71/100\n",
      "100/100 [==============================] - 48s 480ms/step - loss: 0.0314 - acc: 0.9910 - val_loss: 0.0283 - val_acc: 0.9420\n",
      "Epoch 72/100\n",
      "100/100 [==============================] - 48s 480ms/step - loss: 0.0272 - acc: 0.9900 - val_loss: 0.0549 - val_acc: 0.9410\n",
      "Epoch 73/100\n",
      "100/100 [==============================] - 48s 480ms/step - loss: 0.0249 - acc: 0.9900 - val_loss: 0.1642 - val_acc: 0.9270\n",
      "Epoch 74/100\n",
      "100/100 [==============================] - 48s 480ms/step - loss: 0.0332 - acc: 0.9890 - val_loss: 0.0711 - val_acc: 0.9380\n",
      "Epoch 75/100\n",
      "100/100 [==============================] - 48s 480ms/step - loss: 0.0249 - acc: 0.9915 - val_loss: 0.2384 - val_acc: 0.9480\n",
      "Epoch 76/100\n",
      "100/100 [==============================] - 48s 480ms/step - loss: 0.0342 - acc: 0.9860 - val_loss: 0.0333 - val_acc: 0.9460\n",
      "Epoch 77/100\n",
      "100/100 [==============================] - 48s 480ms/step - loss: 0.0301 - acc: 0.9885 - val_loss: 0.0067 - val_acc: 0.9450\n",
      "Epoch 78/100\n",
      "100/100 [==============================] - 48s 480ms/step - loss: 0.0201 - acc: 0.9930 - val_loss: 1.1578e-05 - val_acc: 0.9420\n",
      "Epoch 79/100\n",
      "100/100 [==============================] - 48s 480ms/step - loss: 0.0334 - acc: 0.9900 - val_loss: 0.2959 - val_acc: 0.9300\n",
      "Epoch 80/100\n",
      "100/100 [==============================] - 48s 480ms/step - loss: 0.0327 - acc: 0.9870 - val_loss: 0.0070 - val_acc: 0.9420\n",
      "Epoch 81/100\n",
      "100/100 [==============================] - 48s 480ms/step - loss: 0.0277 - acc: 0.9905 - val_loss: 0.0496 - val_acc: 0.9390\n",
      "Epoch 82/100\n",
      "100/100 [==============================] - 48s 480ms/step - loss: 0.0418 - acc: 0.9880 - val_loss: 0.4164 - val_acc: 0.9380\n",
      "Epoch 83/100\n",
      "100/100 [==============================] - 48s 480ms/step - loss: 0.0261 - acc: 0.9910 - val_loss: 0.1045 - val_acc: 0.9470\n",
      "Epoch 84/100\n",
      "100/100 [==============================] - 48s 480ms/step - loss: 0.0201 - acc: 0.9900 - val_loss: 0.2675 - val_acc: 0.9400\n",
      "Epoch 85/100\n",
      "100/100 [==============================] - 48s 480ms/step - loss: 0.0204 - acc: 0.9920 - val_loss: 1.6729e-05 - val_acc: 0.9350\n",
      "Epoch 86/100\n",
      "100/100 [==============================] - 48s 480ms/step - loss: 0.0313 - acc: 0.9905 - val_loss: 0.0170 - val_acc: 0.9280\n",
      "Epoch 87/100\n",
      "100/100 [==============================] - 48s 480ms/step - loss: 0.0289 - acc: 0.9910 - val_loss: 0.4733 - val_acc: 0.9060\n",
      "Epoch 88/100\n",
      "100/100 [==============================] - 48s 480ms/step - loss: 0.0254 - acc: 0.9930 - val_loss: 1.0248 - val_acc: 0.9370\n",
      "Epoch 89/100\n",
      "100/100 [==============================] - 48s 480ms/step - loss: 0.0123 - acc: 0.9945 - val_loss: 0.2031 - val_acc: 0.9300\n",
      "Epoch 90/100\n",
      "100/100 [==============================] - 48s 480ms/step - loss: 0.0375 - acc: 0.9890 - val_loss: 0.0292 - val_acc: 0.9360\n",
      "Epoch 91/100\n",
      "100/100 [==============================] - 48s 480ms/step - loss: 0.0207 - acc: 0.9920 - val_loss: 4.7881e-04 - val_acc: 0.9370\n",
      "Epoch 92/100\n",
      "100/100 [==============================] - 48s 480ms/step - loss: 0.0156 - acc: 0.9940 - val_loss: 0.0441 - val_acc: 0.9380\n",
      "Epoch 93/100\n",
      "100/100 [==============================] - 48s 480ms/step - loss: 0.0265 - acc: 0.9930 - val_loss: 0.0983 - val_acc: 0.9420\n",
      "Epoch 94/100\n",
      "100/100 [==============================] - 48s 480ms/step - loss: 0.0256 - acc: 0.9920 - val_loss: 0.2269 - val_acc: 0.9340\n",
      "Epoch 95/100\n",
      "100/100 [==============================] - 48s 480ms/step - loss: 0.0269 - acc: 0.9920 - val_loss: 0.3592 - val_acc: 0.9120\n",
      "Epoch 96/100\n",
      "100/100 [==============================] - 48s 480ms/step - loss: 0.0261 - acc: 0.9920 - val_loss: 2.7685e-05 - val_acc: 0.9410\n",
      "Epoch 97/100\n",
      "100/100 [==============================] - 48s 480ms/step - loss: 0.0205 - acc: 0.9915 - val_loss: 0.0108 - val_acc: 0.9460\n",
      "Epoch 98/100\n",
      "100/100 [==============================] - 48s 480ms/step - loss: 0.0231 - acc: 0.9920 - val_loss: 0.1938 - val_acc: 0.9380\n",
      "Epoch 99/100\n",
      "100/100 [==============================] - 48s 480ms/step - loss: 0.0242 - acc: 0.9915 - val_loss: 0.0669 - val_acc: 0.9310\n",
      "Epoch 100/100\n",
      "100/100 [==============================] - 48s 480ms/step - loss: 0.0369 - acc: 0.9885 - val_loss: 0.0139 - val_acc: 0.9320\n"
     ]
    }
   ],
   "source": [
    "model.compile(loss='binary_crossentropy', optimizer=optimizers.RMSprop(lr=1e-5), metrics=['acc'])\n",
    "history = model.fit_generator(\n",
    "      train_generator,\n",
    "      steps_per_epoch=100,\n",
    "      epochs=100,\n",
    "      validation_data=validation_generator,\n",
    "      validation_steps=50)"
   ]
  },
  {
   "cell_type": "markdown",
   "metadata": {},
   "source": [
    "绘制结果："
   ]
  },
  {
   "cell_type": "code",
   "execution_count": 16,
   "metadata": {},
   "outputs": [
    {
     "data": {
      "image/png": "[encoded data removed]",
      "text/plain": [
       "<Figure size 864x432 with 2 Axes>"
      ]
     },
     "metadata": {
      "needs_background": "light"
     },
     "output_type": "display_data"
    }
   ],
   "source": [
    "acc = history.history['acc']\n",
    "val_acc = history.history['val_acc']\n",
    "loss = history.history['loss']\n",
    "val_loss = history.history['val_loss']\n",
    "\n",
    "epochs = range(1, len(acc) + 1)\n",
    "\n",
    "plt.figure(figsize=(12, 6))\n",
    "\n",
    "plt.subplot(121)\n",
    "plt.plot(epochs, acc, 'bo', label='Training acc')\n",
    "plt.plot(epochs, val_acc, 'b', label='Validation acc')\n",
    "plt.title('Training and validation accuracy')\n",
    "plt.legend()\n",
    "\n",
    "plt.subplot(122)\n",
    "plt.plot(epochs, loss, 'bo', label='Training loss')\n",
    "plt.plot(epochs, val_loss, 'b', label='Validation loss')\n",
    "plt.title('Training and validation loss')\n",
    "plt.legend()\n",
    "plt.show()"
   ]
  },
  {
   "cell_type": "markdown",
   "metadata": {},
   "source": [
    "这些曲线看起来包含噪声。为了让图像更具可读性，你可以将每个损失和精度都替换为指数移动平均值，从而让曲线变得平滑："
   ]
  },
  {
   "cell_type": "code",
   "execution_count": 17,
   "metadata": {},
   "outputs": [
    {
     "data": {
      "image/png": "[encoded data removed]",
      "text/plain": [
       "<Figure size 864x432 with 2 Axes>"
      ]
     },
     "metadata": {
      "needs_background": "light"
     },
     "output_type": "display_data"
    }
   ],
   "source": [
    "def smooth_curve(points, factor=0.8):\n",
    "    smoothed_points = []\n",
    "    for point in points:\n",
    "        if smoothed_points:\n",
    "            previous = smoothed_points[-1]\n",
    "            smoothed_points.append(previous * factor + point * (1 - factor))\n",
    "        else:\n",
    "            smoothed_points.append(point)\n",
    "    return smoothed_points\n",
    "\n",
    "plt.figure(figsize=(12, 6))\n",
    "plt.subplot(121)\n",
    "plt.plot(epochs, smooth_curve(acc), 'bo', label='Smoothed training acc')\n",
    "plt.plot(epochs, smooth_curve(val_acc), 'b', label='Smoothed validation acc')\n",
    "plt.title('Training and validation accuracy')\n",
    "plt.legend()\n",
    "\n",
    "plt.subplot(122)\n",
    "plt.plot(epochs, smooth_curve(loss), 'bo', label='Smoothed training loss')\n",
    "plt.plot(epochs, smooth_curve(val_loss), 'b', label='Smoothed validation loss')\n",
    "plt.title('Training and validation loss')\n",
    "plt.legend()\n",
    "plt.show()"
   ]
  },
  {
   "cell_type": "markdown",
   "metadata": {},
   "source": [
    "验证精度曲线变得更清楚。可以看到，精度值提高了1%，从约96%提高到97%以上。\n",
    "\n",
    "注意，从损失曲线上看不出与之前相比有任何真正的提高（实际上还在变差）。你可能感到奇怪，如果损失没有降低，那么精度怎么能保持稳定或提高呢？答案很简单：图中展示的是逐点（pointwise）损失值的平均值，但影响精度的是损失值的分布，而不是平均值，因为精度是模型预测的类别概率的二进制阈值。即使从平均损失中无法看出，但模型也仍然可能在改进。\n",
    "\n",
    "现在，你可以在测试数据上最终评估这个模型。"
   ]
  },
  {
   "cell_type": "code",
   "execution_count": 18,
   "metadata": {},
   "outputs": [
    {
     "name": "stdout",
     "output_type": "stream",
     "text": [
      "Found 1000 images belonging to 2 classes.\n"
     ]
    },
    {
     "data": {
      "text/plain": [
       "('test acc:', 0.9259999990463257)"
      ]
     },
     "execution_count": 18,
     "metadata": {},
     "output_type": "execute_result"
    }
   ],
   "source": [
    "test_generator = test_datagen.flow_from_directory(test_dir, target_size=(150, 150), batch_size=20, class_mode='binary')\n",
    "test_loss, test_acc = model.evaluate_generator(test_generator, steps=50)\n",
    "('test acc:', test_acc)"
   ]
  },
  {
   "cell_type": "markdown",
   "metadata": {},
   "source": [
    "我们得到了`97%`的测试精度(**add by alex 我没有做到，不知道为什么!**)。在关于这个数据集的原始`Kaggle`竞赛中，这个结果是最佳结果之一。但利用现代深度学习技术，你只用一小部分训练数据（约`10%`）就得到了这个结果。训练20000个样本与训练2000个样本是有很大差别的！\n",
    "\n",
    "### 5.3.3 小结\n",
    "下面是你应该从以上两节的练习中学到的要点：\n",
    "+ 卷积神经网络是用于计算机视觉任务的最佳机器学习模型。即使在非常小的数据集上也可以从头开始训练一个卷积神经网络，而且得到的结果还不错\n",
    "+ 在小型数据集上的主要问题是过拟合。在处理图像数据时，数据增强是一种降低过拟合的强大方法\n",
    "+ 利用特征提取，可以很容易将现有的卷积神经网络复用于新的数据集。对于小型图像数据集，这是一种很有价值的方法\n",
    "+ 作为特征提取的补充，你还可以使用微调，将现有模型之前学到的一些数据表示应用于新问题。这种方法可以进一步提高模型性能\n",
    "\n",
    "现在你已经拥有一套可靠的工具来处理图像分类问题，特别是对于小型数据集。"
   ]
  },
  {
   "cell_type": "code",
   "execution_count": null,
   "metadata": {},
   "outputs": [],
   "source": []
  }
 ],
 "metadata": {
  "kernelspec": {
   "display_name": "Python 3",
   "language": "python",
   "name": "python3"
  },
  "language_info": {
   "codemirror_mode": {
    "name": "ipython",
    "version": 3
   },
   "file_extension": ".py",
   "mimetype": "text/x-python",
   "name": "python",
   "nbconvert_exporter": "python",
   "pygments_lexer": "ipython3",
   "version": "3.7.6"
  }
 },
 "nbformat": 4,
 "nbformat_minor": 4
}
