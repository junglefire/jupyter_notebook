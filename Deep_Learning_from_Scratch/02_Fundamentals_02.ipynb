{
 "cells": [
  {
   "cell_type": "code",
   "execution_count": 1,
   "metadata": {},
   "outputs": [],
   "source": [
    "import numpy as np\n",
    "from numpy import ndarray\n",
    "\n",
    "from typing import Callable, Dict, Tuple, List\n",
    "import matplotlib.pyplot as plt"
   ]
  },
  {
   "cell_type": "markdown",
   "metadata": {},
   "source": [
    "## 2.7 Neural Networks from Scratch\n",
    "We’ve just seen how to build and train a linear regression model from first principles. How can we extend this chain of reasoning to design a more complex model that can learn nonlinear relationships? The central idea is that we’ll first do many linear regressions, then feed the results through a nonlinear function, and finally do one last linear regression that ultimately makes the predictions. As it will turn out, we can reason through how to compute the gradients for this more complicated model in the same way we did for the linear regression model.\n",
    "\n",
    "### Step 1: A Bunch of Linear Regressions\n",
    "What does it mean to do “a bunch of linear regressions”? Well, doing one linear regression involved doing a matrix multiplication with a set of parameters: if our data $X$ had dimensions `[batch_size, num_features]`, then we multiplied it by a weight matrix $W$ with dimensions `[num_features, 1]` to get an output of dimension `[batch_size, 1]`; this output is, for each observation in the batch, simply a weighted sum of the original features. To do multiple linear regressions, we’ll simply multiply our input by a weight matrix with dimensions `[num_features, num_outputs]`, resulting in an output of dimensions `[batch_size, num_outputs]`; now, for each observation, we have `num_outputs` different weighted sums of the original features.\n",
    "\n",
    "What are these weighted sums? We should think of each of them as a “learned feature”—a combination of the original features that, once the network is trained, will represent its attempt to learn combinations of features that help it accurately predict house prices. How many learned features should we create? Let’s create $13$ of them, since we created $13$ original features.\n",
    "\n",
    "### Step 2: A Nonlinear Function\n",
    "Next, we’ll feed each of these weighted sums through a nonlinear function; the first function we’ll try is the sigmoid function that was mentioned in `Chapter 1`. \n",
    "\n",
    "Why is using this nonlinear function a good idea? Why not the square function $f(x) = x^2$, for example? There are a couple of reasons:\n",
    "+ First, we want the function we use here to be monotonic so that it “preserves” information about the numbers that were fed in. Let’s say that, given the date that was fed in, two of our linear regressions produced values of $–3$ and $3$, respectively. Feeding these through the square function would then produce a value of $9$ for each, so that any function that receives these numbers as inputs after they were fed through the square function would “lose” the information that one of them was originally $–3$ and the other was $3$.\n",
    "\n",
    "+ Second, the function is nonlinear; this nonlinearity will enable our neural network to model the inherently nonlinear relationship between the features and the target.\n",
    "\n",
    "+ Finally, the sigmoid function has the nice property that its derivative can be expressed in terms of the function itself: $\\displaystyle\\frac{\\partial\\sigma}{\\partial u}=\\sigma(x)\\times(1-\\sigma(x))$.\n",
    "\n",
    "### Step 3: Another Linear Regression\n",
    "Finally, we’ll take the resulting $13$ elements—each of which is a combination of the original features, fed through the sigmoid function so that they all have values between $0$ and $1$—and feed them into a regular linear regression, using them the same way we used our original features previously.\n",
    "\n",
    "<img src=\"images/02_10.png\" style=\"width:600px;\"/>\n",
    "\n",
    "You’ll see that we start with matrix multiplication and matrix addition, as before. Now let’s formalize some terminology that was mentioned previously: when we apply these operations in the course of a nested function, we’ll call the first matrix that we use to transform the input features the weight matrix, and we’ll call the second matrix, the one that is added to each resulting set of features, the bias. That’s why we’ll denote these as $W_1$ and $B_1$.\n",
    "\n",
    "After applying these operations, we’ll feed the results through a sigmoid function and then repeat the process again with another set of weights and biases—now called $W_2$ and $B_2$ —to get our final prediction, $P$.\n",
    "\n",
    "##### Another diagram?\n",
    "Does representing things in terms of these individual steps give you intuition for what is going on? This question gets at a key theme of this book: to fully understand neural networks, we have to see multiple representations, each one of which highlights a different aspect of how neural networks work. The representation in `Figure 2-10` doesn’t give much intuition about the “structure” of the network, but it does indicate clearly how to train such a model: on the backward pass, we’ll compute the partial derivative of each constituent function, evaluated at the input to that function, and then calculate the gradients of the loss with respect to each of the weights by simply multiplying all of these derivatives together—just as we saw in the simple chain rule examples from `Chapter 1`."
   ]
  },
  {
   "cell_type": "code",
   "execution_count": 2,
   "metadata": {},
   "outputs": [],
   "source": [
    "# Initialize weights during the forward pass for step-by-step neural network model.\n",
    "def init_weights(input_size: int, hidden_size: int) -> Dict[str, ndarray]:\n",
    "    weights: Dict[str, ndarray] = {}\n",
    "    weights['W1'] = np.random.randn(input_size, hidden_size)\n",
    "    weights['B1'] = np.random.randn(1, hidden_size)\n",
    "    weights['W2'] = np.random.randn(hidden_size, 1)\n",
    "    weights['B2'] = np.random.randn(1, 1)\n",
    "    return weights\n",
    "\n",
    "# Compute the forward pass and the loss for the step-by-step neural network model.\n",
    "def forward_loss(X: ndarray, y: ndarray, \n",
    "                 weights: Dict[str, ndarray]) -> Tuple[Dict[str, ndarray], float]:\n",
    "    M1 = np.dot(X, weights['W1'])\n",
    "    N1 = M1 + weights['B1']\n",
    "    O1 = sigmoid(N1)\n",
    "    M2 = np.dot(O1, weights['W2'])\n",
    "    P = M2 + weights['B2']    \n",
    "    loss = np.mean(np.power(y - P, 2))\n",
    "    forward_info: Dict[str, ndarray] = {}\n",
    "    forward_info['X'] = X\n",
    "    forward_info['M1'] = M1\n",
    "    forward_info['N1'] = N1\n",
    "    forward_info['O1'] = O1\n",
    "    forward_info['M2'] = M2\n",
    "    forward_info['P'] = P\n",
    "    forward_info['y'] = y\n",
    "    return forward_info, loss"
   ]
  },
  {
   "cell_type": "markdown",
   "metadata": {},
   "source": [
    "### Neural Networks: The Backward Pass\n",
    "The backward pass works the same way as in the simpler linear regression model from earlier in the chapter, just with more steps.\n",
    "\n",
    "The steps, as a reminder, are:\n",
    "1. Compute the derivative of each operation and evaluate it at its input.\n",
    "2. Multiply the results together.\n",
    "\n",
    "<img src=\"images/02_12.png\" style=\"width:600px;\"/>\n",
    "\n",
    "<img src=\"images/t_02_01.png\" style=\"width:600px;\"/>\n",
    "\n",
    "The `loss_gradients` function computes each of the partial derivatives in `Table 2-1` and multiplies them together to get the gradients of the loss with respect to each of the ndarrays containing the weights:\n",
    "+ dLdW2\n",
    "+ dLdB2\n",
    "+ dLdW1\n",
    "+ dLdB1\n",
    "\n",
    "The only caveat is that we sum the expressions we compute for `dLdB1` and `dLdB2` along `axis = 0`, as described in “Gradient of the Loss with Respect to the Bias Terms” on `page 225`."
   ]
  },
  {
   "cell_type": "code",
   "execution_count": 3,
   "metadata": {},
   "outputs": [],
   "source": [
    "# Compute the partial derivatives of the loss with respect to each of the parameters in the neural network.\n",
    "def loss_gradients(forward_info: Dict[str, ndarray], \n",
    "                   weights: Dict[str, ndarray]) -> Dict[str, ndarray]:   \n",
    "    dLdP = -(forward_info['y'] - forward_info['P'])  \n",
    "    dPdM2 = np.ones_like(forward_info['M2'])\n",
    "    dLdM2 = dLdP * dPdM2\n",
    "    dPdB2 = np.ones_like(weights['B2'])\n",
    "    dLdB2 = (dLdP * dPdB2).sum(axis=0)\n",
    "    dM2dW2 = np.transpose(forward_info['O1'], (1, 0))\n",
    "    dLdW2 = np.dot(dM2dW2, dLdP)\n",
    "    dM2dO1 = np.transpose(weights['W2'], (1, 0)) \n",
    "    dLdO1 = np.dot(dLdM2, dM2dO1)\n",
    "    dO1dN1 = sigmoid(forward_info['N1']) * (1- sigmoid(forward_info['N1']))\n",
    "    dLdN1 = dLdO1 * dO1dN1\n",
    "    dN1dB1 = np.ones_like(weights['B1'])\n",
    "    dN1dM1 = np.ones_like(forward_info['M1'])\n",
    "    dLdB1 = (dLdN1 * dN1dB1).sum(axis=0)\n",
    "    dLdM1 = dLdN1 * dN1dM1\n",
    "    dM1dW1 = np.transpose(forward_info['X'], (1, 0)) \n",
    "    dLdW1 = np.dot(dM1dW1, dLdM1)\n",
    "    loss_gradients: Dict[str, ndarray] = {}\n",
    "    loss_gradients['W2'] = dLdW2\n",
    "    loss_gradients['B2'] = dLdB2.sum(axis=0)\n",
    "    loss_gradients['W1'] = dLdW1\n",
    "    loss_gradients['B1'] = dLdB1.sum(axis=0)\n",
    "    return loss_gradients"
   ]
  },
  {
   "cell_type": "markdown",
   "metadata": {},
   "source": [
    "We’ve finally built our first neural network from scratch! Let’s see if it is in fact any better than our linear regression model."
   ]
  },
  {
   "cell_type": "code",
   "execution_count": 4,
   "metadata": {},
   "outputs": [],
   "source": [
    "def mae(preds: ndarray, actuals: ndarray):\n",
    "    return np.mean(np.abs(preds - actuals))\n",
    "\n",
    "def rmse(preds: ndarray, actuals: ndarray):\n",
    "    return np.sqrt(np.mean(np.power(preds - actuals, 2)))\n",
    "\n",
    "def sigmoid(x: ndarray) -> ndarray:\n",
    "    return 1 / (1 + np.exp(-1.0 * x))\n",
    "\n",
    "# \n",
    "# Permute X and y, using the same permutation, along axis=0\n",
    "def permute_data(X: ndarray, y: ndarray):\n",
    "    perm = np.random.permutation(X.shape[0])\n",
    "    return X[perm], y[perm]\n",
    "\n",
    "# \n",
    "# Generate batch from X and y, given a start position\n",
    "def generate_batch(X: ndarray, y: ndarray, \n",
    "                   start: int=0, batch_size: int=10) -> Tuple[ndarray, ndarray]:\n",
    "    assert X.ndim == y.ndim == 2, \"X and Y must be 2 dimensional\"\n",
    "    if start+batch_size > X.shape[0]:\n",
    "        batch_size = X.shape[0] - start\n",
    "    X_batch, y_batch = X[start:start+batch_size], y[start:start+batch_size]\n",
    "    return X_batch, y_batch\n",
    "\n",
    "#\n",
    "# Generate predictions from the step-by-step neural network model.\n",
    "def predict(X: ndarray, weights: Dict[str, ndarray]) -> ndarray:\n",
    "    M1 = np.dot(X, weights['W1'])\n",
    "    N1 = M1 + weights['B1']\n",
    "    O1 = sigmoid(N1)\n",
    "    M2 = np.dot(O1, weights['W2'])\n",
    "    P = M2 + weights['B2']    \n",
    "    return P"
   ]
  },
  {
   "cell_type": "code",
   "execution_count": 5,
   "metadata": {},
   "outputs": [],
   "source": [
    "def train(X_train: ndarray, y_train: ndarray, X_test: ndarray, y_test: ndarray,\n",
    "          n_iter: int = 1000,\n",
    "          test_every: int = 1000,\n",
    "          learning_rate: float = 0.01,\n",
    "          hidden_size= 13,\n",
    "          batch_size: int = 100,\n",
    "          return_losses: bool = False, \n",
    "          return_weights: bool = False, \n",
    "          return_scores: bool = False,\n",
    "          seed: int = 1) -> None:\n",
    "    if seed:\n",
    "        np.random.seed(seed)\n",
    "    start = 0\n",
    "    # Initialize weights\n",
    "    weights = init_weights(X_train.shape[1], hidden_size=hidden_size)\n",
    "    # Permute data\n",
    "    X_train, y_train = permute_data(X_train, y_train)\n",
    "    losses = []\n",
    "    val_scores = []\n",
    "    for i in range(n_iter):\n",
    "        # Generate batch\n",
    "        if start >= X_train.shape[0]:\n",
    "            X_train, y_train = permute_data(X_train, y_train)\n",
    "            start = 0\n",
    "        X_batch, y_batch = generate_batch(X_train, y_train, start, batch_size)\n",
    "        start += batch_size\n",
    "        # Train net using generated batch\n",
    "        forward_info, loss = forward_loss(X_batch, y_batch, weights)\n",
    "        if return_losses:\n",
    "            losses.append(loss)\n",
    "        loss_grads = loss_gradients(forward_info, weights)\n",
    "        for key in weights.keys():\n",
    "            weights[key] -= learning_rate * loss_grads[key]\n",
    "        if return_scores:\n",
    "            if i % test_every == 0 and i != 0:\n",
    "                preds = predict(X_test, weights)\n",
    "                val_scores.append(r2_score(preds, y_test))\n",
    "    if return_weights:\n",
    "        return losses, weights, val_scores\n",
    "    return None"
   ]
  },
  {
   "cell_type": "code",
   "execution_count": 6,
   "metadata": {},
   "outputs": [],
   "source": [
    "from sklearn.model_selection import train_test_split\n",
    "from sklearn.preprocessing import StandardScaler\n",
    "from sklearn.datasets import load_boston\n",
    "\n",
    "boston = load_boston()\n",
    "data = boston.data\n",
    "target = boston.target\n",
    "features = boston.feature_names\n",
    "\n",
    "s = StandardScaler()\n",
    "data = s.fit_transform(data)\n",
    "\n",
    "X_train, X_test, y_train, y_test = train_test_split(data, target, test_size=0.3, random_state=80718)\n",
    "y_train, y_test = y_train.reshape(-1, 1), y_test.reshape(-1, 1)"
   ]
  },
  {
   "cell_type": "code",
   "execution_count": 7,
   "metadata": {},
   "outputs": [],
   "source": [
    "num_iter = 10000\n",
    "test_every = 1000\n",
    "train_info = train(X_train, y_train, X_test, y_test,\n",
    "                   n_iter=num_iter,\n",
    "                   test_every = test_every,\n",
    "                   learning_rate = 0.001,\n",
    "                   batch_size=23, \n",
    "                   return_losses=True, \n",
    "                   return_weights=True, \n",
    "                   return_scores=False,\n",
    "                   seed=80718)\n",
    "losses = train_info[0]\n",
    "weights = train_info[1]\n",
    "val_scores = train_info[2]"
   ]
  },
  {
   "cell_type": "code",
   "execution_count": 8,
   "metadata": {},
   "outputs": [],
   "source": [
    "preds = predict(X_test, weights)"
   ]
  },
  {
   "cell_type": "code",
   "execution_count": 9,
   "metadata": {},
   "outputs": [
    {
     "data": {
      "text/plain": [
       "'Mean absolute error: 2.7111'"
      ]
     },
     "execution_count": 9,
     "metadata": {},
     "output_type": "execute_result"
    }
   ],
   "source": [
    "\"Mean absolute error: {mae}\".format(mae=round(mae(preds, y_test), 4))"
   ]
  },
  {
   "cell_type": "code",
   "execution_count": 10,
   "metadata": {},
   "outputs": [
    {
     "data": {
      "text/plain": [
       "'Root mean squared error: 3.8133'"
      ]
     },
     "execution_count": 10,
     "metadata": {},
     "output_type": "execute_result"
    }
   ],
   "source": [
    "\"Root mean squared error: {rmse}\".format(rmse=round(rmse(preds, y_test), 4))"
   ]
  },
  {
   "cell_type": "markdown",
   "metadata": {},
   "source": [
    "Both values are significantly lower than the prior model! Looking at the plot of predictions versus actuals in `Figure 2-13` shows similar improvements."
   ]
  },
  {
   "cell_type": "code",
   "execution_count": 11,
   "metadata": {},
   "outputs": [
    {
     "data": {
      "image/png": "[encoded data removed]",
      "text/plain": [
       "<Figure size 432x288 with 1 Axes>"
      ]
     },
     "metadata": {
      "needs_background": "light"
     },
     "output_type": "display_data"
    }
   ],
   "source": [
    "plt.xlabel(\"Predicted value\")\n",
    "plt.ylabel(\"Actual value\")\n",
    "plt.title(\"Predicted vs. Actual values for\\ncustom linear regression model\");\n",
    "plt.xlim([0, 51])\n",
    "plt.ylim([0, 51])\n",
    "plt.scatter(preds, y_test)\n",
    "plt.plot([0, 51], [0, 51]);"
   ]
  },
  {
   "cell_type": "markdown",
   "metadata": {},
   "source": [
    "### Two Reasons Why This Is Happening\n",
    "Why does this model appear to be performing better than the model before? Recall that there was a nonlinear relationship between the most important feature of our earlier model and our target; nevertheless, our model was constrained to learn only linear relationships between individual features and our target. I claim that, by adding a nonlinear function into the mix, we have allowed our model to learn the proper, nonlinear relationship between our features and our target.\n",
    "\n",
    "Let’s visualize this. `Figure 2-14` shows the same plot we showed in the linear regression section, plotting the normalized values of the most important feature from our model along with both the values of the target and the predictions that would result from feeding the mean values of the other features while varying the values of the most important feature from $–3.5$ to $1.5$, as before."
   ]
  },
  {
   "cell_type": "code",
   "execution_count": 12,
   "metadata": {},
   "outputs": [
    {
     "data": {
      "image/png": "[encoded data removed]",
      "text/plain": [
       "<Figure size 432x288 with 1 Axes>"
      ]
     },
     "metadata": {
      "needs_background": "light"
     },
     "output_type": "display_data"
    }
   ],
   "source": [
    "NUM = 40\n",
    "a = np.repeat(X_test[:,:-1].mean(axis=0, keepdims=True), NUM, axis=0)\n",
    "b = np.linspace(-1.5, 3.5, NUM).reshape(NUM, 1)\n",
    "\n",
    "test_feature = np.concatenate([a, b], axis=1)\n",
    "test_preds = predict(test_feature, weights)[:, 0]\n",
    "\n",
    "plt.scatter(X_test[:, 12], y_test)\n",
    "plt.plot(np.array(test_feature[:, -1]), test_preds, linewidth=2, c='orange')\n",
    "plt.ylim([6, 51])\n",
    "plt.xlabel(\"Most important feature (normalized)\")\n",
    "plt.ylabel(\"Target/Predictions\")\n",
    "plt.title(\"Most important feature vs. target and predictions,\\n NN model\");"
   ]
  },
  {
   "cell_type": "markdown",
   "metadata": {},
   "source": [
    "We can see that the relationship shown (a) is now nonlinear and (b) more closely matches the relationship between this feature and the target (represented by the points), as desired. So adding the nonlinear function to our model allowed it to learn, via iteratively updating the weights using the training, the nonlinear relationship that existed between the inputs and the outputs."
   ]
  },
  {
   "cell_type": "code",
   "execution_count": null,
   "metadata": {},
   "outputs": [],
   "source": []
  }
 ],
 "metadata": {
  "kernelspec": {
   "display_name": "Python 3",
   "language": "python",
   "name": "python3"
  },
  "language_info": {
   "codemirror_mode": {
    "name": "ipython",
    "version": 3
   },
   "file_extension": ".py",
   "mimetype": "text/x-python",
   "name": "python",
   "nbconvert_exporter": "python",
   "pygments_lexer": "ipython3",
   "version": "3.6.8"
  }
 },
 "nbformat": 4,
 "nbformat_minor": 4
}
