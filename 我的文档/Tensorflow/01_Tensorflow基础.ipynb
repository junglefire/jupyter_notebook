{
 "cells": [
  {
   "cell_type": "code",
   "execution_count": 1,
   "metadata": {},
   "outputs": [],
   "source": [
    "# 关闭warnings\n",
    "import warnings\n",
    "warnings.filterwarnings('ignore')\n",
    "\n",
    "import tensorflow as tf \n",
    "import numpy as np"
   ]
  },
  {
   "cell_type": "markdown",
   "metadata": {},
   "source": [
    "TF的编程模型"
   ]
  },
  {
   "cell_type": "code",
   "execution_count": 2,
   "metadata": {},
   "outputs": [
    {
     "name": "stdout",
     "output_type": "stream",
     "text": [
      "[200.]\n"
     ]
    }
   ],
   "source": [
    "# 计算两个数的乘积\n",
    "se = tf.Session()\n",
    "x = tf.placeholder(tf.float32,[1], name=\"x\")\n",
    "y = tf.placeholder(tf.float32,[1], name=\"y\")\n",
    "\n",
    "b = tf.constant(2.0)\n",
    "y = x * b \n",
    "x_in = [100]\n",
    "y_output = se.run(y, {x:x_in})\n",
    "print(y_output)\n",
    "\n",
    "se.close()"
   ]
  },
  {
   "cell_type": "markdown",
   "metadata": {},
   "source": [
    "TF的数据模型用`张量`表示。张量有三个属性：阶、形状和数据类型。\n",
    "\n",
    "每个张量的维度单位用阶来描述。它定义了张量的维数，因此，也被称为一个张量的量级或张量的n个维。零阶张量是一个标量，一阶张量是一个向量，二阶张量是一个矩阵。"
   ]
  },
  {
   "cell_type": "code",
   "execution_count": 3,
   "metadata": {},
   "outputs": [
    {
     "data": {
      "text/plain": [
       "TensorShape([])"
      ]
     },
     "execution_count": 3,
     "metadata": {},
     "output_type": "execute_result"
    }
   ],
   "source": [
    "scalar = tf.constant(100) \n",
    "scalar.get_shape()"
   ]
  },
  {
   "cell_type": "code",
   "execution_count": 4,
   "metadata": {},
   "outputs": [
    {
     "data": {
      "text/plain": [
       "TensorShape([Dimension(5)])"
      ]
     },
     "execution_count": 4,
     "metadata": {},
     "output_type": "execute_result"
    }
   ],
   "source": [
    "vector = tf.constant([1,2,3,4,5]) \n",
    "vector.get_shape()"
   ]
  },
  {
   "cell_type": "code",
   "execution_count": 5,
   "metadata": {},
   "outputs": [
    {
     "data": {
      "text/plain": [
       "TensorShape([Dimension(2), Dimension(3)])"
      ]
     },
     "execution_count": 5,
     "metadata": {},
     "output_type": "execute_result"
    }
   ],
   "source": [
    "matrix = tf.constant([[1,2,3],[4,5,6]]) \n",
    "matrix.get_shape()"
   ]
  },
  {
   "cell_type": "code",
   "execution_count": 6,
   "metadata": {},
   "outputs": [
    {
     "data": {
      "text/plain": [
       "TensorShape([Dimension(3), Dimension(3), Dimension(1)])"
      ]
     },
     "execution_count": 6,
     "metadata": {},
     "output_type": "execute_result"
    }
   ],
   "source": [
    "cube_matrix = tf.constant([[[1],[2],[3]],[[4],[5],[6]],[[7],[8],[9]]])\n",
    "cube_matrix.get_shape()"
   ]
  },
  {
   "cell_type": "markdown",
   "metadata": {},
   "source": [
    "TensorFlow中数据的传递需要通过其API与NumPy数组的交互来完成。\n",
    "\n",
    "若要使用常数构建张量，需要将一个NumPy数组传入`tf.constant()`操作符，得到一个拥有该值的TensorFlow张量："
   ]
  },
  {
   "cell_type": "code",
   "execution_count": 7,
   "metadata": {},
   "outputs": [
    {
     "name": "stdout",
     "output_type": "stream",
     "text": [
      "(10,)\n",
      "[ 1  2  3  4  5  6  7  8  9 10]\n"
     ]
    }
   ],
   "source": [
    "numpy_1d = np.array([1,2,3,4,5,6,7,8,9,10]) \n",
    "tensor_1d = tf.constant(numpy_1d) \n",
    "\n",
    "with tf.Session() as sess:\n",
    "    print(tensor_1d.get_shape()) \n",
    "    print(sess.run(tensor_1d))"
   ]
  },
  {
   "cell_type": "markdown",
   "metadata": {},
   "source": [
    "若要使用变量构建张量，将变量定义为NumPy数组的形式，并将其传入`tf.Variable`函数，变量是由`tf.Variable()`语句创建的。"
   ]
  },
  {
   "cell_type": "code",
   "execution_count": 8,
   "metadata": {},
   "outputs": [
    {
     "name": "stdout",
     "output_type": "stream",
     "text": [
      "(3, 3)\n",
      "[[1 2 3]\n",
      " [4 5 6]\n",
      " [7 8 9]]\n"
     ]
    }
   ],
   "source": [
    "numpy_2d = np.array([(1,2,3),(4,5,6),(7,8,9)]) \n",
    "tensor_2d = tf.Variable(numpy_2d) \n",
    "\n",
    "with tf.Session() as sess:\n",
    "    sess.run(tf.global_variables_initializer()) \n",
    "    print(tensor_2d.get_shape()) \n",
    "    print(sess.run(tensor_2d))"
   ]
  },
  {
   "cell_type": "markdown",
   "metadata": {},
   "source": [
    "TensorFlow中另一种定义张量的方式是，使用`tf.conbert_to_tensor`命令："
   ]
  },
  {
   "cell_type": "code",
   "execution_count": 9,
   "metadata": {},
   "outputs": [
    {
     "name": "stdout",
     "output_type": "stream",
     "text": [
      "(3, 3, 3)\n",
      "[[[ 0.  1.  2.]\n",
      "  [ 3.  4.  5.]\n",
      "  [ 6.  7.  8.]]\n",
      "\n",
      " [[ 9. 10. 11.]\n",
      "  [12. 13. 14.]\n",
      "  [15. 16. 17.]]\n",
      "\n",
      " [[18. 19. 20.]\n",
      "  [21. 22. 23.]\n",
      "  [24. 25. 26.]]]\n"
     ]
    }
   ],
   "source": [
    "numpy_3d = np.array([[[ 0, 1, 2],[ 3, 4, 5],[ 6, 7, 8]],[[ 9, 10, 11],[12, 13, 14],[15, 16, 17]], [[18, 19, 20],[21, 22, 23],[24, 25, 26]]])\n",
    "tensor_3d = tf.convert_to_tensor(numpy_3d, dtype=tf.float64) \n",
    "\n",
    "with tf.Session() as sess:\n",
    "    print(tensor_3d.get_shape()) \n",
    "    print(sess.run(tensor_3d))"
   ]
  },
  {
   "cell_type": "markdown",
   "metadata": {},
   "source": [
    "为取回操作的输出，需要调用Session对象中的run()函数，并传入需要取回的张量。除了可以取回单一的张量节点外，你还可以取回多个张量："
   ]
  },
  {
   "cell_type": "code",
   "execution_count": 10,
   "metadata": {},
   "outputs": [
    {
     "name": "stdout",
     "output_type": "stream",
     "text": [
      "[array([400.], dtype=float32), array([300.], dtype=float32)]\n"
     ]
    }
   ],
   "source": [
    "constant_A = tf.constant([100.0]) \n",
    "constant_B = tf.constant([300.0]) \n",
    "constant_C = tf.constant([3.0])\n",
    "\n",
    "sum_ = tf.add(constant_A, constant_B) \n",
    "mul_ = tf.multiply(constant_A, constant_C)\n",
    "\n",
    "with tf.Session() as sess:\n",
    "    result = sess.run([sum_,mul_]) \n",
    "    print(result)"
   ]
  },
  {
   "cell_type": "markdown",
   "metadata": {},
   "source": [
    "注入机制将张量插入图节点，它用一个张量值暂时替代操作的输出。注入机制只用于在调用run函数时，通过feed_dict传递参数："
   ]
  },
  {
   "cell_type": "code",
   "execution_count": 11,
   "metadata": {},
   "outputs": [
    {
     "name": "stdout",
     "output_type": "stream",
     "text": [
      "[[1.3474222  0.9640931 ]\n",
      " [1.5801455  1.0430323 ]\n",
      " [1.2523843  0.77103126]]\n"
     ]
    }
   ],
   "source": [
    "a = 3 \n",
    "b = 2 \n",
    "\n",
    "x = tf.placeholder(tf.float32, shape=(a, b)) \n",
    "y = tf.add(x, x) \n",
    "\n",
    "data = np.random.rand(a, b) \n",
    "\n",
    "sess = tf.Session() \n",
    "print(sess.run(y, feed_dict={x:data}))"
   ]
  },
  {
   "cell_type": "code",
   "execution_count": null,
   "metadata": {},
   "outputs": [],
   "source": []
  }
 ],
 "metadata": {
  "kernelspec": {
   "display_name": "Python 3",
   "language": "python",
   "name": "python3"
  },
  "language_info": {
   "codemirror_mode": {
    "name": "ipython",
    "version": 3
   },
   "file_extension": ".py",
   "mimetype": "text/x-python",
   "name": "python",
   "nbconvert_exporter": "python",
   "pygments_lexer": "ipython3",
   "version": "3.6.8"
  }
 },
 "nbformat": 4,
 "nbformat_minor": 2
}
